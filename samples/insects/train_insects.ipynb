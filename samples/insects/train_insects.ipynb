{
 "cells": [
  {
   "cell_type": "code",
   "execution_count": 1,
   "id": "3af6a4a6",
   "metadata": {},
   "outputs": [
    {
     "name": "stdout",
     "output_type": "stream",
     "text": [
      "['/home/melissap/Desktop/CoRoSect/5.github/Mask_RCNN/samples/insects', '/home/melissap/miniconda3/envs/mask/lib/python37.zip', '/home/melissap/miniconda3/envs/mask/lib/python3.7', '/home/melissap/miniconda3/envs/mask/lib/python3.7/lib-dynload', '', '/home/melissap/miniconda3/envs/mask/lib/python3.7/site-packages', '/home/melissap/miniconda3/envs/mask/lib/python3.7/site-packages/IPython/extensions', '/home/melissap/.ipython', '/home/melissap/Desktop/CoRoSect/5.github/Mask_RCNN', '/home/melissap/Desktop/CoRoSect/5.github/Mask_RCNN/mrcnn']\n"
     ]
    },
    {
     "name": "stderr",
     "output_type": "stream",
     "text": [
      "Using TensorFlow backend.\n"
     ]
    }
   ],
   "source": [
    "import os\n",
    "import sys\n",
    "import json\n",
    "import datetime\n",
    "import numpy as np\n",
    "import skimage.draw\n",
    "import cv2\n",
    "\n",
    "# Root directory of the project\n",
    "ROOT_DIR = os.path.abspath(\"../../\")\n",
    "\n",
    "# Import Mask RCNN\n",
    "sys.path.append(ROOT_DIR)  # To find local version of the library\n",
    "\n",
    "\n",
    "''' replace config and utils with new files'''\n",
    "'''\n",
    "from mrcnn.config import Config\n",
    "from mrcnn import model as modellib, utils\n",
    "'''\n",
    "sys.path.append(os.path.join(ROOT_DIR,\"mrcnn\")) \n",
    "print(sys.path)\n",
    "from mrcnn.insects_config import Config\n",
    "from mrcnn import insects_utils as utils\n",
    "\n",
    "from mrcnn import model as modellib\n",
    "\n",
    "\n",
    "\n",
    "\n",
    "# Path to trained weights file\n",
    "COCO_WEIGHTS_PATH = os.path.join(ROOT_DIR, \"mask_rcnn_coco.h5\")\n",
    "\n",
    "# Directory to save logs and model checkpoints, if not provided\n",
    "# through the command line argument --logs\n",
    "DEFAULT_LOGS_DIR = os.path.join(ROOT_DIR, \"logs\")\n",
    "\n"
   ]
  },
  {
   "cell_type": "code",
   "execution_count": 2,
   "id": "a7f8bf43",
   "metadata": {},
   "outputs": [
    {
     "name": "stdout",
     "output_type": "stream",
     "text": [
      "\n",
      "Configurations:\n",
      "BACKBONE                       resnet101\n",
      "BACKBONE_STRIDES               [4, 8, 16, 32, 64]\n",
      "BATCH_SIZE                     8\n",
      "BBOX_STD_DEV                   [0.1 0.1 0.2 0.2]\n",
      "COMPUTE_BACKBONE_SHAPE         None\n",
      "DETECTION_MAX_INSTANCES        100\n",
      "DETECTION_MIN_CONFIDENCE       0.7\n",
      "DETECTION_NMS_THRESHOLD        0.3\n",
      "FPN_CLASSIF_FC_LAYERS_SIZE     1024\n",
      "GPU_COUNT                      1\n",
      "GRADIENT_CLIP_NORM             5.0\n",
      "IMAGES_PER_GPU                 8\n",
      "IMAGE_CHANNEL_COUNT            3\n",
      "IMAGE_MAX_DIM                  128\n",
      "IMAGE_META_SIZE                17\n",
      "IMAGE_MIN_DIM                  128\n",
      "IMAGE_MIN_SCALE                0\n",
      "IMAGE_RESIZE_MODE              square\n",
      "IMAGE_SHAPE                    [128 128   3]\n",
      "LEARNING_MOMENTUM              0.9\n",
      "LEARNING_RATE                  0.001\n",
      "LOSS_WEIGHTS                   {'rpn_class_loss': 1.0, 'rpn_bbox_loss': 1.0, 'mrcnn_class_loss': 1.0, 'mrcnn_bbox_loss': 1.0, 'mrcnn_mask_loss': 1.0}\n",
      "MASK_POOL_SIZE                 14\n",
      "MASK_SHAPE                     [28, 28]\n",
      "MAX_GT_INSTANCES               100\n",
      "MEAN_PIXEL                     [123.7 116.8 103.9]\n",
      "MINI_MASK_SHAPE                (56, 56)\n",
      "NAME                           insects\n",
      "NUM_CLASSES                    5\n",
      "POOL_SIZE                      7\n",
      "POST_NMS_ROIS_INFERENCE        1000\n",
      "POST_NMS_ROIS_TRAINING         2000\n",
      "PRE_NMS_LIMIT                  6000\n",
      "ROI_POSITIVE_RATIO             0.33\n",
      "RPN_ANCHOR_RATIOS              [0.5, 1, 2]\n",
      "RPN_ANCHOR_SCALES              (8, 16, 32, 64, 128)\n",
      "RPN_ANCHOR_STRIDE              1\n",
      "RPN_BBOX_STD_DEV               [0.1 0.1 0.2 0.2]\n",
      "RPN_NMS_THRESHOLD              0.7\n",
      "RPN_TRAIN_ANCHORS_PER_IMAGE    256\n",
      "STEPS_PER_EPOCH                100\n",
      "TOP_DOWN_PYRAMID_SIZE          256\n",
      "TRAIN_BN                       False\n",
      "TRAIN_ROIS_PER_IMAGE           32\n",
      "USE_MINI_MASK                  True\n",
      "USE_RPN_ROIS                   True\n",
      "VALIDATION_STEPS               5\n",
      "WEIGHT_DECAY                   0.0001\n",
      "\n",
      "\n"
     ]
    }
   ],
   "source": [
    "############################################################\n",
    "#  Configurations\n",
    "############################################################\n",
    "class InsectsConfig(Config):\n",
    "    \"\"\"Configuration for training on the toy shapes dataset.\n",
    "    Derives from the base Config class and overrides values specific\n",
    "    to the toy shapes dataset.\n",
    "    \"\"\"\n",
    "    # Give the configuration a recognizable name\n",
    "    NAME = \"insects\"\n",
    "        \n",
    "    # Train on 1 GPU and 8 images per GPU. We can put multiple images on each\n",
    "    # GPU because the images are small. Batch size is 8 (GPUs * images/GPU).\n",
    "    GPU_COUNT = 1\n",
    "    IMAGES_PER_GPU = 8\n",
    "\n",
    "    # Number of classes (including background)\n",
    "    NUM_CLASSES = 1 + 4 # background + 4 lifecycle stages - eggs,larvae,pupae,adults\n",
    "\n",
    "    # Use small images for faster training. Set the limits of the small side\n",
    "    # the large side, and that determines the image shape.\n",
    "    IMAGE_MIN_DIM = 128\n",
    "    IMAGE_MAX_DIM = 128\n",
    "\n",
    "    # Use smaller anchors because our image and objects are small\n",
    "    RPN_ANCHOR_SCALES = (8, 16, 32, 64, 128)  # anchor side in pixels\n",
    "\n",
    "    # Reduce training ROIs per image because the images are small and have\n",
    "    # few objects. Aim to allow ROI sampling to pick 33% positive ROIs.\n",
    "    TRAIN_ROIS_PER_IMAGE = 32\n",
    "\n",
    "    # Use a small epoch since the data is simple\n",
    "    STEPS_PER_EPOCH = 100\n",
    "\n",
    "    # use small validation steps since the epoch is small\n",
    "    VALIDATION_STEPS = 5\n",
    "    \n",
    "config = InsectsConfig()\n",
    "config.display()"
   ]
  },
  {
   "cell_type": "code",
   "execution_count": 25,
   "id": "2c3eef5d",
   "metadata": {},
   "outputs": [],
   "source": [
    "'''\n",
    "def save_line_to_file(annotation_subfile,line):\n",
    "\n",
    "    with open(annotation_subfile, mode='a', encoding='utf-8') as f:\n",
    "        #for lines in data:\n",
    "        f.write('\\n')\n",
    "        f.write(line)\n",
    "        #myfile.write('\\n')\n",
    "'''"
   ]
  },
  {
   "cell_type": "code",
   "execution_count": 6,
   "id": "67961300",
   "metadata": {},
   "outputs": [
    {
     "data": {
      "text/plain": [
       "'\\nclass = balloon\\nimage_id =  34020010494_e5cb88e1c4_k.jpg\\npath= /data/CoRoSect/10.code/maskRCNN/Mask_RCNN_matterport/mask_rcnn/datasets/balloon/balloon/train/34020010494_e5cb88e1c4_k.jpg\\nwidth= 2048, height= 1536\\nname\\nall_points_x\\nall_points_y\\n'"
      ]
     },
     "execution_count": 6,
     "metadata": {},
     "output_type": "execute_result"
    }
   ],
   "source": [
    "nadir=\"/data/CoRoSect/10.code/maskRCNN/Mask_RCNN_matterport/mask_rcnn/datasets/Nasekomo_insects\"\n",
    "annotation_file=os.path.join(nadir,\"phase1_Nasekomo_3609.txt\")\n",
    "annotation_folder=annotation_file.split(\".txt\")[0]\n",
    "split=\"train\"\n",
    "\n",
    "def create_path(path):\n",
    "    try:\n",
    "        os.makedirs(path)\n",
    "        print(\"folder '{}' created \".format(path))\n",
    "    except FileExistsError:\n",
    "        print(\"folder {} already exists\".format(path))\n",
    "        \n",
    "def define_class(sf):\n",
    "    sf=int(sf)\n",
    "    if (sf<=4):\n",
    "        insect_class='eggs'\n",
    "        class_id=1\n",
    "    elif (sf>4 and sf<=19):\n",
    "        insect_class='larvae'\n",
    "        class_id=2\n",
    "    elif (sf>19 and sf<=37):\n",
    "        insect_class='pupae'\n",
    "        class_id=3\n",
    "    elif (sf>=40):\n",
    "        insect_class='adult'\n",
    "        class_id=4\n",
    "    return insect_class,class_id\n",
    "\n",
    "def get_image_dim(impath):\n",
    "    im=cv2.imread(impath)\n",
    "    w,h=im.shape[1],im.shape[0]\n",
    "    return w,h\n",
    "    \n",
    "def parse_IT_annotation_file(filename):\n",
    "    #flines=[]\n",
    "    with open(filename) as file:\n",
    "        lines = file.readlines()\n",
    "    \n",
    "    for line in lines:\n",
    "        #print(line)\n",
    "        xs,ys=[],[]\n",
    "        new_line=''\n",
    "        fname=line.split(\"|\")[0].split(\".jpg\")[0]+\".txt\"\n",
    "        annotation_subfile=os.path.join(annotation_folder,fname)\n",
    "        #print(annotation_subfile)\n",
    "        xys=line.split(\"|\")[3]\n",
    "        for c,s in enumerate(xys.split(\",\")[0:-1]):\n",
    "            annot=s.split(\":\")[1]\n",
    "            new_line+=annot+\",\"\n",
    "            if(c%2):\n",
    "                ys.append(annot)\n",
    "                #print(\"y\",c,\"=\",annot)\n",
    "            elif (c%2==0):\n",
    "                xs.append(annot)\n",
    "                #print(\"x\",c,\"=\",annot)\n",
    "            #print(s.split(\":\")[1])\n",
    "        #print(f' new line = {new_line}' )\n",
    "        #save_line_to_file(annotation_subfile,new_line)\n",
    "        with open(annotation_subfile, mode='a', encoding='utf-8') as f:\n",
    "            #for lines in data:\n",
    "            f.write('\\n')\n",
    "            f.write(new_line)\n",
    "\n",
    "def im_is_in_split(split,img):\n",
    "    #images are named as : 1_010001 up to 1_360001 - 1_[01]0001 the first 30 will be used for training\n",
    "    split_id=int(img.split(\"_\")[1][:2])\n",
    "\n",
    "    #print(f'split_id {split_id}')\n",
    "    if split_id<30:\n",
    "        if split==\"train\":\n",
    "            return True\n",
    "        elif split==\"valid\":\n",
    "            return False\n",
    "    elif split_id>=30:\n",
    "        if split==\"train\":\n",
    "            return False\n",
    "        elif split==\"valid\":\n",
    "            return True\n",
    "        \n",
    "        \n",
    "        \n",
    "def parse_polygons_from_annotation_file(annotation_filepath):\n",
    "    with open(annotation_filepath) as file:\n",
    "        lines = file.readlines()\n",
    "    \n",
    "    polygons=[]\n",
    "\n",
    "    for line in lines:\n",
    "        xs,ys=[],[]        \n",
    "        \n",
    "        if (not line.isspace()):\n",
    "            #try:\n",
    "            line=line.split(\",\")[:8]\n",
    "            if len(line)==8:\n",
    "                for c,xys in enumerate(line):\n",
    "                    #print(f'xys[{c}] = {xys}')\n",
    "                    if(c%2):\n",
    "                        ys.append(int(xys))\n",
    "                        #print(\"y\",c,\"=\",annot)\n",
    "                    elif (c%2==0):\n",
    "                        xs.append(int(xys))\n",
    "                    #print(\"x\",c,\"=\",annot)\n",
    "            #except ValueError:\n",
    "            #    continue\n",
    "            dict_annotation={\"name\":\"polygon\",\"all_points_x\":xs,\"all_points_y\":ys}\n",
    "            polygons.append(dict_annotation)\n",
    "    return polygons\n",
    "\n",
    "\n",
    "#at First, parse the ImageTagger annotation file\n",
    "if (os.path.isdir(annotation_folder)):\n",
    "    print(f'annotation_folder {annotation_folder} exists')\n",
    "else:\n",
    "    create_path(annotation_folder)\n",
    "    print(f'annotation_folder : {annotation_folder} does not exist. \\nParsing of annotation file : {annotation_file}')\n",
    "    parse_IT_annotation_file(annotation_file)\n",
    "\n",
    "'''\n",
    "for sf in os.listdir(nadir):\n",
    "    currf=os.path.join(nadir,sf,'trainvalid')\n",
    "    #print(sf)\n",
    "    if (os.path.isdir(currf)):\n",
    "        insect_class,class_id=define_class(sf)\n",
    "        \n",
    "        for im in os.listdir(currf):\n",
    "            if (im_is_in_split(split,im)):\n",
    "                image_id= im \n",
    "                #print(im)\n",
    "                image_path=os.path.join(currf,im)\n",
    "                #print(image_path)\n",
    "            \n",
    "                width,height=get_image_dim(image_path)\n",
    "            \n",
    "            \n",
    "                #get mask_annotations\n",
    "                try:\n",
    "                    annotation_filepath=os.path.join(annotation_folder,im.split(\".jpg\")[0]+'.txt')\n",
    "                    #print(f'annotation_filepath = {annotation_filepath}')\n",
    "                    polygons=parse_polygons_from_annotation_file(annotation_filepath)\n",
    "                except FileNotFoundError:\n",
    "                    #remove file from annotation \n",
    "                    continue\n",
    "                break\n",
    "            #polygons=get_polygons()\n",
    "\n",
    "\n",
    "        #''\n",
    "        print(f'insect_class={insect_class}')\n",
    "        print(f'image_id={image_id}')\n",
    "        print(f'path={image_path}')\n",
    "        print(f'width={width}, height={height}')\n",
    "        print(f'polygons={polygons}')\n",
    "        #''\n",
    "'''\n",
    "\n",
    "\n",
    "\n",
    "'''\n",
    "class = balloon\n",
    "image_id =  34020010494_e5cb88e1c4_k.jpg\n",
    "path= /data/CoRoSect/10.code/maskRCNN/Mask_RCNN_matterport/mask_rcnn/datasets/balloon/balloon/train/34020010494_e5cb88e1c4_k.jpg\n",
    "width= 2048, height= 1536\n",
    "name\n",
    "all_points_x\n",
    "all_points_y\n",
    "'''"
   ]
  },
  {
   "cell_type": "code",
   "execution_count": 7,
   "id": "014b5dd3",
   "metadata": {},
   "outputs": [],
   "source": [
    "############################################################\n",
    "#  Dataset\n",
    "############################################################\n",
    "\n",
    "class InsectsDataset(utils.Dataset):\n",
    "\n",
    "    def load_subset(self, nadir, subset):\n",
    "        \"\"\"Load a subset of the Balloon dataset.\n",
    "        dataset_dir: Root directory of the dataset.\n",
    "        subset: Subset to load: train or val\n",
    "        \"\"\"\n",
    "        # Add classes. We have only one class to add.\n",
    "        self.add_class(\"insects\", 1, \"eggs\")\n",
    "        self.add_class(\"insects\", 2, \"larvae\")\n",
    "        self.add_class(\"insects\", 3, \"pupae\")\n",
    "        self.add_class(\"insects\", 4, \"adults\")\n",
    "\n",
    "        # Add images\n",
    "        for sf in os.listdir(nadir):\n",
    "            currf=os.path.join(nadir,sf,'trainvalid')\n",
    "            #print(sf)\n",
    "            if (os.path.isdir(currf)):\n",
    "                insect_class,class_id=define_class(sf)\n",
    "        \n",
    "                for im in os.listdir(currf):\n",
    "                    if (im_is_in_split(subset,im)):\n",
    "                        image_id= im \n",
    "                        #print(im)\n",
    "                        image_path=os.path.join(currf,im)\n",
    "                        #print(image_path)\n",
    "            \n",
    "                        width,height=get_image_dim(image_path)\n",
    "            \n",
    "            \n",
    "                        #get mask_annotations\n",
    "                        try:\n",
    "                            annotation_filepath=os.path.join(annotation_folder,im.split(\".jpg\")[0]+'.txt')\n",
    "                            #print(f'annotation_filepath = {annotation_filepath}')\n",
    "                            polygons=parse_polygons_from_annotation_file(annotation_filepath)\n",
    "                            num_ids=[class_id for i in range(len(polygons))]\n",
    "                        except FileNotFoundError:\n",
    "                            #remove file from annotation \n",
    "                            continue   \n",
    "            \n",
    "            \n",
    "\n",
    "                        self.add_image(insect_class,\n",
    "                            image_id=image_id,  # use file name as a unique image id\n",
    "                            path=image_path,\n",
    "                            width=width, height=height,\n",
    "                            polygons=polygons,\n",
    "                            num_ids=num_ids)\n",
    "\n",
    "    def load_mask(self, image_id):\n",
    "        \"\"\"Generate instance masks for an image.\n",
    "       Returns:\n",
    "        masks: A bool array of shape [height, width, instance count] with\n",
    "            one mask per instance.\n",
    "        class_ids: a 1D array of class IDs of the instance masks.\n",
    "        \"\"\"\n",
    "        # If not a balloon dataset image, delegate to parent class.\n",
    "        image_info = self.image_info[image_id]\n",
    "        if image_info[\"source\"] != \"insects\":\n",
    "            print(super(self.__class__, self).load_mask(image_id))\n",
    "            return super(self.__class__, self).load_mask(image_id)\n",
    "\n",
    "        # Convert polygons to a bitmap mask of shape\n",
    "        # [height, width, instance_count]\n",
    "        info = self.image_info[image_id]\n",
    "        mask = np.zeros([info[\"height\"], info[\"width\"], len(info[\"polygons\"])],\n",
    "                        dtype=np.uint8)\n",
    "        for i, p in enumerate(info[\"polygons\"]):\n",
    "            # Get indexes of pixels inside the polygon and set them to 1\n",
    "            rr, cc = skimage.draw.polygon(p['all_points_y'], p['all_points_x'])\n",
    "            mask[rr, cc, i] = 1\n",
    "\n",
    "        # Return mask, and array of class IDs of each instance. Since we have\n",
    "        # one class ID only, we return an array of 1s\n",
    "        #return mask.astype(np.bool), np.ones([mask.shape[-1]], dtype=np.int32)\n",
    "        return mask, info['class_ids'].astype(np.int32)\n",
    "\n",
    "    def image_reference(self, image_id):\n",
    "        \"\"\"Return the path of the image.\"\"\"\n",
    "        info = self.image_info[image_id]\n",
    "        if info[\"source\"] == \"insects\":\n",
    "            return info[\"path\"]\n",
    "        else:\n",
    "            super(self.__class__, self).image_reference(image_id)\n"
   ]
  },
  {
   "cell_type": "code",
   "execution_count": 8,
   "id": "ca077482",
   "metadata": {},
   "outputs": [
    {
     "ename": "AttributeError",
     "evalue": "'InsectsDataset' object has no attribute 'load_balloon'",
     "output_type": "error",
     "traceback": [
      "\u001b[0;31m---------------------------------------------------------------------------\u001b[0m",
      "\u001b[0;31mAttributeError\u001b[0m                            Traceback (most recent call last)",
      "\u001b[0;32m<ipython-input-8-d0b84b67ac8b>\u001b[0m in \u001b[0;36m<module>\u001b[0;34m\u001b[0m\n\u001b[1;32m      1\u001b[0m \u001b[0mdataset_train\u001b[0m \u001b[0;34m=\u001b[0m \u001b[0mInsectsDataset\u001b[0m\u001b[0;34m(\u001b[0m\u001b[0;34m)\u001b[0m\u001b[0;34m\u001b[0m\u001b[0;34m\u001b[0m\u001b[0m\n\u001b[1;32m      2\u001b[0m \u001b[0mballoon_datapath\u001b[0m\u001b[0;34m=\u001b[0m\u001b[0;34m\"/data/CoRoSect/10.code/maskRCNN/Mask_RCNN_matterport/mask_rcnn/datasets/balloon/balloon\"\u001b[0m\u001b[0;34m\u001b[0m\u001b[0;34m\u001b[0m\u001b[0m\n\u001b[0;32m----> 3\u001b[0;31m \u001b[0mdataset_train\u001b[0m\u001b[0;34m.\u001b[0m\u001b[0mload_balloon\u001b[0m\u001b[0;34m(\u001b[0m\u001b[0mballoon_datapath\u001b[0m\u001b[0;34m,\u001b[0m \u001b[0;34m\"train\"\u001b[0m\u001b[0;34m)\u001b[0m\u001b[0;34m\u001b[0m\u001b[0;34m\u001b[0m\u001b[0m\n\u001b[0m",
      "\u001b[0;31mAttributeError\u001b[0m: 'InsectsDataset' object has no attribute 'load_balloon'"
     ]
    }
   ],
   "source": [
    "''' ##\n",
    "dataset_train = InsectsDataset()\n",
    "balloon_datapath=\"/data/CoRoSect/10.code/maskRCNN/Mask_RCNN_matterport/mask_rcnn/datasets/balloon/balloon\"\n",
    "dataset_train.load_balloon(balloon_datapath, \"train\")\n",
    "'''"
   ]
  },
  {
   "cell_type": "code",
   "execution_count": 9,
   "id": "91c280bd",
   "metadata": {},
   "outputs": [
    {
     "name": "stdout",
     "output_type": "stream",
     "text": [
      "\n",
      "Configurations:\n",
      "BACKBONE                       resnet101\n",
      "BACKBONE_STRIDES               [4, 8, 16, 32, 64]\n",
      "BATCH_SIZE                     8\n",
      "BBOX_STD_DEV                   [0.1 0.1 0.2 0.2]\n",
      "COMPUTE_BACKBONE_SHAPE         None\n",
      "DETECTION_MAX_INSTANCES        100\n",
      "DETECTION_MIN_CONFIDENCE       0.7\n",
      "DETECTION_NMS_THRESHOLD        0.3\n",
      "FPN_CLASSIF_FC_LAYERS_SIZE     1024\n",
      "GPU_COUNT                      1\n",
      "GRADIENT_CLIP_NORM             5.0\n",
      "IMAGES_PER_GPU                 8\n",
      "IMAGE_CHANNEL_COUNT            3\n",
      "IMAGE_MAX_DIM                  128\n",
      "IMAGE_META_SIZE                17\n",
      "IMAGE_MIN_DIM                  128\n",
      "IMAGE_MIN_SCALE                0\n",
      "IMAGE_RESIZE_MODE              square\n",
      "IMAGE_SHAPE                    [128 128   3]\n",
      "LEARNING_MOMENTUM              0.9\n",
      "LEARNING_RATE                  0.001\n",
      "LOSS_WEIGHTS                   {'rpn_class_loss': 1.0, 'rpn_bbox_loss': 1.0, 'mrcnn_class_loss': 1.0, 'mrcnn_bbox_loss': 1.0, 'mrcnn_mask_loss': 1.0}\n",
      "MASK_POOL_SIZE                 14\n",
      "MASK_SHAPE                     [28, 28]\n",
      "MAX_GT_INSTANCES               100\n",
      "MEAN_PIXEL                     [123.7 116.8 103.9]\n",
      "MINI_MASK_SHAPE                (56, 56)\n",
      "NAME                           insects\n",
      "NUM_CLASSES                    5\n",
      "POOL_SIZE                      7\n",
      "POST_NMS_ROIS_INFERENCE        1000\n",
      "POST_NMS_ROIS_TRAINING         2000\n",
      "PRE_NMS_LIMIT                  6000\n",
      "ROI_POSITIVE_RATIO             0.33\n",
      "RPN_ANCHOR_RATIOS              [0.5, 1, 2]\n",
      "RPN_ANCHOR_SCALES              (8, 16, 32, 64, 128)\n",
      "RPN_ANCHOR_STRIDE              1\n",
      "RPN_BBOX_STD_DEV               [0.1 0.1 0.2 0.2]\n",
      "RPN_NMS_THRESHOLD              0.7\n",
      "RPN_TRAIN_ANCHORS_PER_IMAGE    256\n",
      "STEPS_PER_EPOCH                100\n",
      "TOP_DOWN_PYRAMID_SIZE          256\n",
      "TRAIN_BN                       False\n",
      "TRAIN_ROIS_PER_IMAGE           32\n",
      "USE_MINI_MASK                  True\n",
      "USE_RPN_ROIS                   True\n",
      "VALIDATION_STEPS               5\n",
      "WEIGHT_DECAY                   0.0001\n",
      "\n",
      "\n",
      "WARNING:tensorflow:From /home/melissap/miniconda3/envs/mask/lib/python3.7/site-packages/keras/backend/tensorflow_backend.py:508: The name tf.placeholder is deprecated. Please use tf.compat.v1.placeholder instead.\n",
      "\n",
      "WARNING:tensorflow:From /home/melissap/miniconda3/envs/mask/lib/python3.7/site-packages/keras/backend/tensorflow_backend.py:68: The name tf.get_default_graph is deprecated. Please use tf.compat.v1.get_default_graph instead.\n",
      "\n",
      "WARNING:tensorflow:From /home/melissap/miniconda3/envs/mask/lib/python3.7/site-packages/keras/backend/tensorflow_backend.py:3837: The name tf.random_uniform is deprecated. Please use tf.random.uniform instead.\n",
      "\n",
      "WARNING:tensorflow:From /home/melissap/miniconda3/envs/mask/lib/python3.7/site-packages/keras/backend/tensorflow_backend.py:3661: The name tf.nn.max_pool is deprecated. Please use tf.nn.max_pool2d instead.\n",
      "\n",
      "WARNING:tensorflow:From /home/melissap/miniconda3/envs/mask/lib/python3.7/site-packages/keras/backend/tensorflow_backend.py:1944: The name tf.image.resize_nearest_neighbor is deprecated. Please use tf.compat.v1.image.resize_nearest_neighbor instead.\n",
      "\n",
      "WARNING:tensorflow:From /home/melissap/miniconda3/envs/mask/lib/python3.7/site-packages/tensorflow_core/python/ops/array_ops.py:1475: where (from tensorflow.python.ops.array_ops) is deprecated and will be removed in a future version.\n",
      "Instructions for updating:\n",
      "Use tf.where in 2.0, which has the same broadcast rule as np.where\n",
      "WARNING:tensorflow:From /home/melissap/Desktop/CoRoSect/5.github/Mask_RCNN/mrcnn/model.py:553: The name tf.random_shuffle is deprecated. Please use tf.random.shuffle instead.\n",
      "\n",
      "WARNING:tensorflow:From /home/melissap/Desktop/CoRoSect/5.github/Mask_RCNN/mrcnn/utils.py:202: The name tf.log is deprecated. Please use tf.math.log instead.\n",
      "\n",
      "WARNING:tensorflow:From /home/melissap/Desktop/CoRoSect/5.github/Mask_RCNN/mrcnn/model.py:600: calling crop_and_resize_v1 (from tensorflow.python.ops.image_ops_impl) with box_ind is deprecated and will be removed in a future version.\n",
      "Instructions for updating:\n",
      "box_ind is deprecated, use box_indices instead\n",
      "WARNING:tensorflow:From /home/melissap/miniconda3/envs/mask/lib/python3.7/site-packages/keras/backend/tensorflow_backend.py:168: The name tf.get_default_session is deprecated. Please use tf.compat.v1.get_default_session instead.\n",
      "\n",
      "WARNING:tensorflow:From /home/melissap/miniconda3/envs/mask/lib/python3.7/site-packages/keras/backend/tensorflow_backend.py:175: The name tf.ConfigProto is deprecated. Please use tf.compat.v1.ConfigProto instead.\n",
      "\n",
      "WARNING:tensorflow:From /home/melissap/miniconda3/envs/mask/lib/python3.7/site-packages/keras/backend/tensorflow_backend.py:180: The name tf.Session is deprecated. Please use tf.compat.v1.Session instead.\n",
      "\n",
      "WARNING:tensorflow:From /home/melissap/miniconda3/envs/mask/lib/python3.7/site-packages/keras/backend/tensorflow_backend.py:184: The name tf.global_variables is deprecated. Please use tf.compat.v1.global_variables instead.\n",
      "\n",
      "WARNING:tensorflow:From /home/melissap/miniconda3/envs/mask/lib/python3.7/site-packages/keras/backend/tensorflow_backend.py:193: The name tf.is_variable_initialized is deprecated. Please use tf.compat.v1.is_variable_initialized instead.\n",
      "\n",
      "WARNING:tensorflow:From /home/melissap/miniconda3/envs/mask/lib/python3.7/site-packages/keras/backend/tensorflow_backend.py:200: The name tf.variables_initializer is deprecated. Please use tf.compat.v1.variables_initializer instead.\n",
      "\n"
     ]
    },
    {
     "ename": "FileNotFoundError",
     "evalue": "[Errno 2] No such file or directory: '/data/CoRoSect/10.code/maskRCNN/Mask_RCNN_matterport/mask_rcnn/datasets/balloon/balloon/train/via_region_data.json'",
     "output_type": "error",
     "traceback": [
      "\u001b[0;31m---------------------------------------------------------------------------\u001b[0m",
      "\u001b[0;31mFileNotFoundError\u001b[0m                         Traceback (most recent call last)",
      "\u001b[0;32m<ipython-input-9-9007d31e5455>\u001b[0m in \u001b[0;36m<module>\u001b[0;34m\u001b[0m\n\u001b[1;32m    274\u001b[0m \u001b[0;34m\u001b[0m\u001b[0m\n\u001b[1;32m    275\u001b[0m \u001b[0;32mif\u001b[0m \u001b[0m__name__\u001b[0m\u001b[0;34m==\u001b[0m\u001b[0;34m\"__main__\"\u001b[0m\u001b[0;34m:\u001b[0m\u001b[0;34m\u001b[0m\u001b[0;34m\u001b[0m\u001b[0m\n\u001b[0;32m--> 276\u001b[0;31m     \u001b[0mmain\u001b[0m\u001b[0;34m(\u001b[0m\u001b[0;34m)\u001b[0m\u001b[0;34m\u001b[0m\u001b[0;34m\u001b[0m\u001b[0m\n\u001b[0m",
      "\u001b[0;32m<ipython-input-9-9007d31e5455>\u001b[0m in \u001b[0;36mmain\u001b[0;34m()\u001b[0m\n\u001b[1;32m    271\u001b[0m             \u001b[0;34m\"mrcnn_class_logits\"\u001b[0m\u001b[0;34m,\u001b[0m \u001b[0;34m\"mrcnn_bbox_fc\"\u001b[0m\u001b[0;34m,\u001b[0m\u001b[0;34m\u001b[0m\u001b[0;34m\u001b[0m\u001b[0m\n\u001b[1;32m    272\u001b[0m             \"mrcnn_bbox\", \"mrcnn_mask\"])\n\u001b[0;32m--> 273\u001b[0;31m     \u001b[0mtrain\u001b[0m\u001b[0;34m(\u001b[0m\u001b[0mmodel\u001b[0m\u001b[0;34m)\u001b[0m\u001b[0;34m\u001b[0m\u001b[0;34m\u001b[0m\u001b[0m\n\u001b[0m\u001b[1;32m    274\u001b[0m \u001b[0;34m\u001b[0m\u001b[0m\n\u001b[1;32m    275\u001b[0m \u001b[0;32mif\u001b[0m \u001b[0m__name__\u001b[0m\u001b[0;34m==\u001b[0m\u001b[0;34m\"__main__\"\u001b[0m\u001b[0;34m:\u001b[0m\u001b[0;34m\u001b[0m\u001b[0;34m\u001b[0m\u001b[0m\n",
      "\u001b[0;32m<ipython-input-9-9007d31e5455>\u001b[0m in \u001b[0;36mtrain\u001b[0;34m(model)\u001b[0m\n\u001b[1;32m    135\u001b[0m     \u001b[0mdataset_train\u001b[0m \u001b[0;34m=\u001b[0m \u001b[0mBalloonDataset\u001b[0m\u001b[0;34m(\u001b[0m\u001b[0;34m)\u001b[0m\u001b[0;34m\u001b[0m\u001b[0;34m\u001b[0m\u001b[0m\n\u001b[1;32m    136\u001b[0m     \u001b[0mballoon_datapath\u001b[0m\u001b[0;34m=\u001b[0m\u001b[0;34m'/data/CoRoSect/10.code/maskRCNN/Mask_RCNN_matterport/mask_rcnn/datasets/balloon/balloon'\u001b[0m\u001b[0;34m\u001b[0m\u001b[0;34m\u001b[0m\u001b[0m\n\u001b[0;32m--> 137\u001b[0;31m     \u001b[0mdataset_train\u001b[0m\u001b[0;34m.\u001b[0m\u001b[0mload_balloon\u001b[0m\u001b[0;34m(\u001b[0m\u001b[0mballoon_datapath\u001b[0m\u001b[0;34m,\u001b[0m \u001b[0;34m\"train\"\u001b[0m\u001b[0;34m)\u001b[0m\u001b[0;34m\u001b[0m\u001b[0;34m\u001b[0m\u001b[0m\n\u001b[0m\u001b[1;32m    138\u001b[0m     \u001b[0mdataset_train\u001b[0m\u001b[0;34m.\u001b[0m\u001b[0mprepare\u001b[0m\u001b[0;34m(\u001b[0m\u001b[0;34m)\u001b[0m\u001b[0;34m\u001b[0m\u001b[0;34m\u001b[0m\u001b[0m\n\u001b[1;32m    139\u001b[0m \u001b[0;34m\u001b[0m\u001b[0m\n",
      "\u001b[0;32m<ipython-input-9-9007d31e5455>\u001b[0m in \u001b[0;36mload_balloon\u001b[0;34m(self, dataset_dir, subset)\u001b[0m\n\u001b[1;32m     33\u001b[0m         \u001b[0;31m# We mostly care about the x and y coordinates of each region\u001b[0m\u001b[0;34m\u001b[0m\u001b[0;34m\u001b[0m\u001b[0;34m\u001b[0m\u001b[0m\n\u001b[1;32m     34\u001b[0m         \u001b[0;31m# Note: In VIA 2.0, regions was changed from a dict to a list.\u001b[0m\u001b[0;34m\u001b[0m\u001b[0;34m\u001b[0m\u001b[0;34m\u001b[0m\u001b[0m\n\u001b[0;32m---> 35\u001b[0;31m         \u001b[0mannotations\u001b[0m \u001b[0;34m=\u001b[0m \u001b[0mjson\u001b[0m\u001b[0;34m.\u001b[0m\u001b[0mload\u001b[0m\u001b[0;34m(\u001b[0m\u001b[0mopen\u001b[0m\u001b[0;34m(\u001b[0m\u001b[0mos\u001b[0m\u001b[0;34m.\u001b[0m\u001b[0mpath\u001b[0m\u001b[0;34m.\u001b[0m\u001b[0mjoin\u001b[0m\u001b[0;34m(\u001b[0m\u001b[0mdataset_dir\u001b[0m\u001b[0;34m,\u001b[0m \u001b[0;34m\"via_region_data.json\"\u001b[0m\u001b[0;34m)\u001b[0m\u001b[0;34m)\u001b[0m\u001b[0;34m)\u001b[0m\u001b[0;34m\u001b[0m\u001b[0;34m\u001b[0m\u001b[0m\n\u001b[0m\u001b[1;32m     36\u001b[0m         \u001b[0mannotations\u001b[0m \u001b[0;34m=\u001b[0m \u001b[0mlist\u001b[0m\u001b[0;34m(\u001b[0m\u001b[0mannotations\u001b[0m\u001b[0;34m.\u001b[0m\u001b[0mvalues\u001b[0m\u001b[0;34m(\u001b[0m\u001b[0;34m)\u001b[0m\u001b[0;34m)\u001b[0m  \u001b[0;31m# don't need the dict keys\u001b[0m\u001b[0;34m\u001b[0m\u001b[0;34m\u001b[0m\u001b[0m\n\u001b[1;32m     37\u001b[0m         \u001b[0;31m#print(type(annotations[0]))\u001b[0m\u001b[0;34m\u001b[0m\u001b[0;34m\u001b[0m\u001b[0;34m\u001b[0m\u001b[0m\n",
      "\u001b[0;31mFileNotFoundError\u001b[0m: [Errno 2] No such file or directory: '/data/CoRoSect/10.code/maskRCNN/Mask_RCNN_matterport/mask_rcnn/datasets/balloon/balloon/train/via_region_data.json'"
     ]
    }
   ],
   "source": [
    "############################################################\n",
    "#  Dataset\n",
    "############################################################\n",
    "\n",
    "class BalloonDataset(utils.Dataset):\n",
    "\n",
    "    def load_balloon(self, dataset_dir, subset):\n",
    "        \"\"\"Load a subset of the Balloon dataset.\n",
    "        dataset_dir: Root directory of the dataset.\n",
    "        subset: Subset to load: train or val\n",
    "        \"\"\"\n",
    "        # Add classes. We have only one class to add.\n",
    "        self.add_class(\"balloon\", 1, \"balloon\")\n",
    "\n",
    "        # Train or validation dataset?\n",
    "        assert subset in [\"train\", \"val\"]\n",
    "        dataset_dir = os.path.join(dataset_dir, subset)\n",
    "\n",
    "        # Load annotations\n",
    "        # VGG Image Annotator (up to version 1.6) saves each image in the form:\n",
    "        # { 'filename': '28503151_5b5b7ec140_b.jpg',\n",
    "        #   'regions': {\n",
    "        #       '0': {\n",
    "        #           'region_attributes': {},\n",
    "        #           'shape_attributes': {\n",
    "        #               'all_points_x': [...],\n",
    "        #               'all_points_y': [...],\n",
    "        #               'name': 'polygon'}},\n",
    "        #       ... more regions ...\n",
    "        #   },\n",
    "        #   'size': 100202\n",
    "        # }\n",
    "        # We mostly care about the x and y coordinates of each region\n",
    "        # Note: In VIA 2.0, regions was changed from a dict to a list.\n",
    "        annotations = json.load(open(os.path.join(dataset_dir, \"via_region_data.json\")))\n",
    "        annotations = list(annotations.values())  # don't need the dict keys\n",
    "        #print(type(annotations[0]))\n",
    "\n",
    "        # The VIA tool saves images in the JSON even if they don't have any\n",
    "        # annotations. Skip unannotated images.\n",
    "        annotations = [a for a in annotations if a['regions']]\n",
    "\n",
    "        \n",
    "        # Add images\n",
    "        for a in annotations[4:]:\n",
    "            # Get the x, y coordinaets of points of the polygons that make up\n",
    "            # the outline of each object instance. These are stores in the\n",
    "            # shape_attributes (see json format above)\n",
    "            # The if condition is needed to support VIA versions 1.x and 2.x.\n",
    "            if type(a['regions']) is dict:\n",
    "                polygons = [r['shape_attributes'] for r in a['regions'].values()]\n",
    "            else:\n",
    "                polygons = [r['shape_attributes'] for r in a['regions']] \n",
    "\n",
    "            # load_mask() needs the image size to convert polygons to masks.\n",
    "            # Unfortunately, VIA doesn't include it in JSON, so we must read\n",
    "            # the image. This is only managable since the dataset is tiny.\n",
    "            image_path = os.path.join(dataset_dir, a['filename'])\n",
    "            image = skimage.io.imread(image_path)\n",
    "            height, width = image.shape[:2]\n",
    "            \n",
    "            \n",
    "            \n",
    "            \n",
    "            \n",
    "            \n",
    "            \n",
    "            print(f'class = {\"balloon\"}')\n",
    "            print('image_id = ',a['filename'])\n",
    "            print(f'path= {image_path}')\n",
    "            print(f'width= {width}, height= {height}')\n",
    "            #'''\n",
    "            for key,value in polygons[2].items():\n",
    "                print(key)\n",
    "                print(value)\n",
    "            #break\n",
    "            #'''\n",
    "            #'''\n",
    "            print(type(polygons))\n",
    "            print(len(polygons))\n",
    "            print(type(polygons[0]))\n",
    "            for key in polygons[0]:\n",
    "                print(key)\n",
    "            #for i in polygons:\n",
    "            #    print(i)\n",
    "            break\n",
    "            \n",
    "            #'''\n",
    "            self.add_image(\n",
    "                \"balloon\",\n",
    "                image_id=a['filename'],  # use file name as a unique image id\n",
    "                path=image_path,\n",
    "                width=width, height=height,\n",
    "                polygons=polygons)\n",
    "\n",
    "    def load_mask(self, image_id):\n",
    "        \"\"\"Generate instance masks for an image.\n",
    "       Returns:\n",
    "        masks: A bool array of shape [height, width, instance count] with\n",
    "            one mask per instance.\n",
    "        class_ids: a 1D array of class IDs of the instance masks.\n",
    "        \"\"\"\n",
    "        # If not a balloon dataset image, delegate to parent class.\n",
    "        image_info = self.image_info[image_id]\n",
    "        if image_info[\"source\"] != \"balloon\":\n",
    "            print('DEBUUUUUUUUUUUUUUG')\n",
    "            print(super(self.__class__, self).load_mask(image_id))\n",
    "            return super(self.__class__, self).load_mask(image_id)\n",
    "\n",
    "        # Convert polygons to a bitmap mask of shape\n",
    "        # [height, width, instance_count]\n",
    "        info = self.image_info[image_id]\n",
    "        mask = np.zeros([info[\"height\"], info[\"width\"], len(info[\"polygons\"])],\n",
    "                        dtype=np.uint8)\n",
    "        for i, p in enumerate(info[\"polygons\"]):\n",
    "            # Get indexes of pixels inside the polygon and set them to 1\n",
    "            rr, cc = skimage.draw.polygon(p['all_points_y'], p['all_points_x'])\n",
    "            mask[rr, cc, i] = 1\n",
    "\n",
    "        # Return mask, and array of class IDs of each instance. Since we have\n",
    "        # one class ID only, we return an array of 1s\n",
    "        return mask.astype(np.bool), np.ones([mask.shape[-1]], dtype=np.int32)\n",
    "\n",
    "    def image_reference(self, image_id):\n",
    "        \"\"\"Return the path of the image.\"\"\"\n",
    "        info = self.image_info[image_id]\n",
    "        if info[\"source\"] == \"balloon\":\n",
    "            return info[\"path\"]\n",
    "        else:\n",
    "            super(self.__class__, self).image_reference(image_id)\n",
    "            \n",
    "def train(model):\n",
    "    \"\"\"Train the model.\"\"\"\n",
    "    # Training dataset.\n",
    "    dataset_train = BalloonDataset()\n",
    "    balloon_datapath='/data/CoRoSect/10.code/maskRCNN/Mask_RCNN_matterport/mask_rcnn/datasets/balloon/balloon'\n",
    "    dataset_train.load_balloon(balloon_datapath, \"train\")\n",
    "    dataset_train.prepare()\n",
    "\n",
    "    # Validation dataset\n",
    "    dataset_val = BalloonDataset()\n",
    "    dataset_val.load_balloon(balloon_datapath, \"val\")\n",
    "    dataset_val.prepare()\n",
    "\n",
    "    # *** This training schedule is an example. Update to your needs ***\n",
    "    # Since we're using a very small dataset, and starting from\n",
    "    # COCO trained weights, we don't need to train too long. Also,\n",
    "    # no need to train all layers, just the heads should do it.\n",
    "    print(\"Training network heads\")\n",
    "    model.train(dataset_train, dataset_val,\n",
    "                learning_rate=config.LEARNING_RATE,\n",
    "                epochs=30,\n",
    "                layers='heads')\n",
    "\n",
    "\n",
    "def color_splash(image, mask):\n",
    "    \"\"\"Apply color splash effect.\n",
    "    image: RGB image [height, width, 3]\n",
    "    mask: instance segmentation mask [height, width, instance count]\n",
    "\n",
    "    Returns result image.\n",
    "    \"\"\"\n",
    "    # Make a grayscale copy of the image. The grayscale copy still\n",
    "    # has 3 RGB channels, though.\n",
    "    gray = skimage.color.gray2rgb(skimage.color.rgb2gray(image)) * 255\n",
    "    # Copy color pixels from the original color image where mask is set\n",
    "    if mask.shape[-1] > 0:\n",
    "        # We're treating all instances as one, so collapse the mask into one layer\n",
    "        mask = (np.sum(mask, -1, keepdims=True) >= 1)\n",
    "        splash = np.where(mask, image, gray).astype(np.uint8)\n",
    "    else:\n",
    "        splash = gray.astype(np.uint8)\n",
    "    return splash\n",
    "\n",
    "\n",
    "def detect_and_color_splash(model, image_path=None, video_path=None):\n",
    "    assert image_path or video_path\n",
    "\n",
    "    # Image or video?\n",
    "    if image_path:\n",
    "        # Run model detection and generate the color splash effect\n",
    "        print(\"Running on {}\".format(args.image))\n",
    "        # Read image\n",
    "        image = skimage.io.imread(args.image)\n",
    "        # Detect objects\n",
    "        r = model.detect([image], verbose=1)[0]\n",
    "        # Color splash\n",
    "        splash = color_splash(image, r['masks'])\n",
    "        # Save output\n",
    "        file_name = \"splash_{:%Y%m%dT%H%M%S}.png\".format(datetime.datetime.now())\n",
    "        skimage.io.imsave(file_name, splash)\n",
    "    elif video_path:\n",
    "        import cv2\n",
    "        # Video capture\n",
    "        vcapture = cv2.VideoCapture(video_path)\n",
    "        width = int(vcapture.get(cv2.CAP_PROP_FRAME_WIDTH))\n",
    "        height = int(vcapture.get(cv2.CAP_PROP_FRAME_HEIGHT))\n",
    "        fps = vcapture.get(cv2.CAP_PROP_FPS)\n",
    "\n",
    "        # Define codec and create video writer\n",
    "        file_name = \"splash_{:%Y%m%dT%H%M%S}.avi\".format(datetime.datetime.now())\n",
    "        vwriter = cv2.VideoWriter(file_name,\n",
    "                                  cv2.VideoWriter_fourcc(*'MJPG'),\n",
    "                                  fps, (width, height))\n",
    "\n",
    "        count = 0\n",
    "        success = True\n",
    "        while success:\n",
    "            print(\"frame: \", count)\n",
    "            # Read next image\n",
    "            success, image = vcapture.read()\n",
    "            if success:\n",
    "                # OpenCV returns images as BGR, convert to RGB\n",
    "                image = image[..., ::-1]\n",
    "                # Detect objects\n",
    "                r = model.detect([image], verbose=0)[0]\n",
    "                # Color splash\n",
    "                splash = color_splash(image, r['masks'])\n",
    "                # RGB -> BGR to save image to video\n",
    "                splash = splash[..., ::-1]\n",
    "                # Add image to video writer\n",
    "                vwriter.write(splash)\n",
    "                count += 1\n",
    "        vwriter.release()\n",
    "    print(\"Saved to \", file_name)\n",
    "\n",
    "\n",
    "############################################################\n",
    "#  Training\n",
    "############################################################\n",
    "\n",
    "def main():\n",
    "    import argparse\n",
    "    '''\n",
    "    # Parse command line arguments\n",
    "    parser = argparse.ArgumentParser(\n",
    "        description='Train Mask R-CNN to detect balloons.')\n",
    "    parser.add_argument(\"command\",\n",
    "                        metavar=\"<command>\",\n",
    "                        help=\"'train' or 'splash'\")\n",
    "    parser.add_argument('--dataset', required=False,\n",
    "                        metavar=\"/path/to/balloon/dataset/\",\n",
    "                        help='Directory of the Balloon dataset')\n",
    "    parser.add_argument('--weights', required=True,\n",
    "                        metavar=\"/path/to/weights.h5\",\n",
    "                        help=\"Path to weights .h5 file or 'coco'\")\n",
    "    parser.add_argument('--logs', required=False,\n",
    "                        default=DEFAULT_LOGS_DIR,\n",
    "                        metavar=\"/path/to/logs/\",\n",
    "                        help='Logs and checkpoints directory (default=logs/)')\n",
    "    parser.add_argument('--image', required=False,\n",
    "                        metavar=\"path or URL to image\",\n",
    "                        help='Image to apply the color splash effect on')\n",
    "    parser.add_argument('--video', required=False,\n",
    "                        metavar=\"path or URL to video\",\n",
    "                        help='Video to apply the color splash effect on')\n",
    "    '''\n",
    "\n",
    "    config = InsectsConfig()\n",
    "    config.display()\n",
    "    model = modellib.MaskRCNN(mode=\"training\", config=config,\n",
    "                                  model_dir='logs/')\n",
    "    \n",
    "    \n",
    "    weights_path = COCO_WEIGHTS_PATH\n",
    "    # Download weights file\n",
    "    if not os.path.exists(weights_path):\n",
    "        utils.download_trained_weights(weights_path)\n",
    "            \n",
    "    model.load_weights(weights_path, by_name=True, exclude=[\n",
    "            \"mrcnn_class_logits\", \"mrcnn_bbox_fc\",\n",
    "            \"mrcnn_bbox\", \"mrcnn_mask\"])\n",
    "    train(model)\n",
    "\n",
    "if __name__==\"__main__\":\n",
    "    main()"
   ]
  },
  {
   "cell_type": "code",
   "execution_count": 10,
   "id": "98caa2ae",
   "metadata": {},
   "outputs": [],
   "source": [
    "def train(model):\n",
    "    \"\"\"Train the model.\"\"\"\n",
    "    # Training dataset.\n",
    "    dataset_train = InsectsDataset()\n",
    "    dataset_train.load_subset(nadir, \"train\")\n",
    "    dataset_train.prepare()\n",
    "\n",
    "    # Validation dataset\n",
    "    dataset_val = InsectsDataset()\n",
    "    dataset_val.load_subset(nadir, \"valid\")\n",
    "    dataset_val.prepare()\n",
    "    \n",
    "    \n",
    "    # *** This training schedule is an example. Update to your needs ***\n",
    "    # Since we're using a very small dataset, and starting from\n",
    "    # COCO trained weights, we don't need to train too long. Also,\n",
    "    # no need to train all layers, just the heads should do it.\n",
    "    print(\"Training network heads\")\n",
    "    model.train(dataset_train, dataset_val,\n",
    "                learning_rate=config.LEARNING_RATE,\n",
    "                epochs=30,\n",
    "                layers='heads')"
   ]
  },
  {
   "cell_type": "code",
   "execution_count": 11,
   "id": "ab2060f9",
   "metadata": {},
   "outputs": [],
   "source": [
    "def color_splash(image, mask):\n",
    "    \"\"\"Apply color splash effect.\n",
    "    image: RGB image [height, width, 3]\n",
    "    mask: instance segmentation mask [height, width, instance count]\n",
    "\n",
    "    Returns result image.\n",
    "    \"\"\"\n",
    "    # Make a grayscale copy of the image. The grayscale copy still\n",
    "    # has 3 RGB channels, though.\n",
    "    gray = skimage.color.gray2rgb(skimage.color.rgb2gray(image)) * 255\n",
    "    # Copy color pixels from the original color image where mask is set\n",
    "    if mask.shape[-1] > 0:\n",
    "        # We're treating all instances as one, so collapse the mask into one layer\n",
    "        mask = (np.sum(mask, -1, keepdims=True) >= 1)\n",
    "        splash = np.where(mask, image, gray).astype(np.uint8)\n",
    "    else:\n",
    "        splash = gray.astype(np.uint8)\n",
    "    return splash\n",
    "\n",
    "\n",
    "def detect_and_color_splash(model, image_path=None, video_path=None):\n",
    "    assert image_path or video_path\n",
    "\n",
    "    # Image or video?\n",
    "    if image_path:\n",
    "        # Run model detection and generate the color splash effect\n",
    "        print(\"Running on {}\".format(args.image))\n",
    "        # Read image\n",
    "        image = skimage.io.imread(args.image)\n",
    "        # Detect objects\n",
    "        r = model.detect([image], verbose=1)[0]\n",
    "        # Color splash\n",
    "        splash = color_splash(image, r['masks'])\n",
    "        # Save output\n",
    "        file_name = \"splash_{:%Y%m%dT%H%M%S}.png\".format(datetime.datetime.now())\n",
    "        skimage.io.imsave(file_name, splash)\n",
    "    elif video_path:\n",
    "        import cv2\n",
    "        # Video capture\n",
    "        vcapture = cv2.VideoCapture(video_path)\n",
    "        width = int(vcapture.get(cv2.CAP_PROP_FRAME_WIDTH))\n",
    "        height = int(vcapture.get(cv2.CAP_PROP_FRAME_HEIGHT))\n",
    "        fps = vcapture.get(cv2.CAP_PROP_FPS)\n",
    "\n",
    "        # Define codec and create video writer\n",
    "        file_name = \"splash_{:%Y%m%dT%H%M%S}.avi\".format(datetime.datetime.now())\n",
    "        vwriter = cv2.VideoWriter(file_name,\n",
    "                                  cv2.VideoWriter_fourcc(*'MJPG'),\n",
    "                                  fps, (width, height))\n",
    "\n",
    "        count = 0\n",
    "        success = True\n",
    "        while success:\n",
    "            print(\"frame: \", count)\n",
    "            # Read next image\n",
    "            success, image = vcapture.read()\n",
    "            if success:\n",
    "                # OpenCV returns images as BGR, convert to RGB\n",
    "                image = image[..., ::-1]\n",
    "                # Detect objects\n",
    "                r = model.detect([image], verbose=0)[0]\n",
    "                # Color splash\n",
    "                splash = color_splash(image, r['masks'])\n",
    "                # RGB -> BGR to save image to video\n",
    "                splash = splash[..., ::-1]\n",
    "                # Add image to video writer\n",
    "                vwriter.write(splash)\n",
    "                count += 1\n",
    "        vwriter.release()\n",
    "    print(\"Saved to \", file_name)\n",
    "\n"
   ]
  },
  {
   "cell_type": "code",
   "execution_count": 12,
   "id": "b5fa1098",
   "metadata": {},
   "outputs": [],
   "source": [
    "\n",
    "############################################################\n",
    "#  Training\n",
    "############################################################\n",
    "\n",
    "def main():\n",
    "    import argparse\n",
    "    '''\n",
    "    # Parse command line arguments\n",
    "    parser = argparse.ArgumentParser(\n",
    "        description='Train Mask R-CNN to detect balloons.')\n",
    "    parser.add_argument(\"command\",\n",
    "                        metavar=\"<command>\",\n",
    "                        help=\"'train' or 'splash'\")\n",
    "    parser.add_argument('--dataset', required=False,\n",
    "                        metavar=\"/path/to/balloon/dataset/\",\n",
    "                        help='Directory of the Balloon dataset')\n",
    "    parser.add_argument('--weights', required=True,\n",
    "                        metavar=\"/path/to/weights.h5\",\n",
    "                        help=\"Path to weights .h5 file or 'coco'\")\n",
    "    parser.add_argument('--logs', required=False,\n",
    "                        default=DEFAULT_LOGS_DIR,\n",
    "                        metavar=\"/path/to/logs/\",\n",
    "                        help='Logs and checkpoints directory (default=logs/)')\n",
    "    parser.add_argument('--image', required=False,\n",
    "                        metavar=\"path or URL to image\",\n",
    "                        help='Image to apply the color splash effect on')\n",
    "    parser.add_argument('--video', required=False,\n",
    "                        metavar=\"path or URL to video\",\n",
    "                        help='Video to apply the color splash effect on')\n",
    "    '''\n",
    "\n",
    "    config = InsectsConfig()\n",
    "    config.display()\n",
    "    model = modellib.MaskRCNN(mode=\"training\", config=config,\n",
    "                                  model_dir='logs/')\n",
    "    \n",
    "    \n",
    "    weights_path = COCO_WEIGHTS_PATH\n",
    "    # Download weights file\n",
    "    if not os.path.exists(weights_path):\n",
    "        utils.download_trained_weights(weights_path)\n",
    "            \n",
    "    model.load_weights(weights_path, by_name=True, exclude=[\n",
    "            \"mrcnn_class_logits\", \"mrcnn_bbox_fc\",\n",
    "            \"mrcnn_bbox\", \"mrcnn_mask\"])\n",
    "    train(model)"
   ]
  },
  {
   "cell_type": "code",
   "execution_count": 32,
   "id": "18c59541",
   "metadata": {},
   "outputs": [
    {
     "name": "stdout",
     "output_type": "stream",
     "text": [
      "\n",
      "Configurations:\n",
      "BACKBONE                       resnet101\n",
      "BACKBONE_STRIDES               [4, 8, 16, 32, 64]\n",
      "BATCH_SIZE                     8\n",
      "BBOX_STD_DEV                   [0.1 0.1 0.2 0.2]\n",
      "COMPUTE_BACKBONE_SHAPE         None\n",
      "DETECTION_MAX_INSTANCES        100\n",
      "DETECTION_MIN_CONFIDENCE       0.7\n",
      "DETECTION_NMS_THRESHOLD        0.3\n",
      "FPN_CLASSIF_FC_LAYERS_SIZE     1024\n",
      "GPU_COUNT                      1\n",
      "GRADIENT_CLIP_NORM             5.0\n",
      "IMAGES_PER_GPU                 8\n",
      "IMAGE_CHANNEL_COUNT            3\n",
      "IMAGE_MAX_DIM                  128\n",
      "IMAGE_META_SIZE                17\n",
      "IMAGE_MIN_DIM                  128\n",
      "IMAGE_MIN_SCALE                0\n",
      "IMAGE_RESIZE_MODE              square\n",
      "IMAGE_SHAPE                    [128 128   3]\n",
      "LEARNING_MOMENTUM              0.9\n",
      "LEARNING_RATE                  0.001\n",
      "LOSS_WEIGHTS                   {'rpn_class_loss': 1.0, 'rpn_bbox_loss': 1.0, 'mrcnn_class_loss': 1.0, 'mrcnn_bbox_loss': 1.0, 'mrcnn_mask_loss': 1.0}\n",
      "MASK_POOL_SIZE                 14\n",
      "MASK_SHAPE                     [28, 28]\n",
      "MAX_GT_INSTANCES               100\n",
      "MEAN_PIXEL                     [123.7 116.8 103.9]\n",
      "MINI_MASK_SHAPE                (56, 56)\n",
      "NAME                           insects\n",
      "NUM_CLASSES                    5\n",
      "POOL_SIZE                      7\n",
      "POST_NMS_ROIS_INFERENCE        1000\n",
      "POST_NMS_ROIS_TRAINING         2000\n",
      "PRE_NMS_LIMIT                  6000\n",
      "ROI_POSITIVE_RATIO             0.33\n",
      "RPN_ANCHOR_RATIOS              [0.5, 1, 2]\n",
      "RPN_ANCHOR_SCALES              (8, 16, 32, 64, 128)\n",
      "RPN_ANCHOR_STRIDE              1\n",
      "RPN_BBOX_STD_DEV               [0.1 0.1 0.2 0.2]\n",
      "RPN_NMS_THRESHOLD              0.7\n",
      "RPN_TRAIN_ANCHORS_PER_IMAGE    256\n",
      "STEPS_PER_EPOCH                100\n",
      "TOP_DOWN_PYRAMID_SIZE          256\n",
      "TRAIN_BN                       False\n",
      "TRAIN_ROIS_PER_IMAGE           32\n",
      "USE_MINI_MASK                  True\n",
      "USE_RPN_ROIS                   True\n",
      "VALIDATION_STEPS               5\n",
      "WEIGHT_DECAY                   0.0001\n",
      "\n",
      "\n",
      "PREPARE prints : \n",
      "numclasses5\n",
      "classids\n",
      "[0 1 2 3 4]\n",
      "classnames\n",
      "['BG', 'eggs', 'larvae', 'pupae', 'adults']\n",
      "numimages\n",
      "282\n",
      "imageids\n",
      "[  0   1   2   3   4   5   6   7   8   9  10  11  12  13  14  15  16  17\n",
      "  18  19  20  21  22  23  24  25  26  27  28  29  30  31  32  33  34  35\n",
      "  36  37  38  39  40  41  42  43  44  45  46  47  48  49  50  51  52  53\n",
      "  54  55  56  57  58  59  60  61  62  63  64  65  66  67  68  69  70  71\n",
      "  72  73  74  75  76  77  78  79  80  81  82  83  84  85  86  87  88  89\n",
      "  90  91  92  93  94  95  96  97  98  99 100 101 102 103 104 105 106 107\n",
      " 108 109 110 111 112 113 114 115 116 117 118 119 120 121 122 123 124 125\n",
      " 126 127 128 129 130 131 132 133 134 135 136 137 138 139 140 141 142 143\n",
      " 144 145 146 147 148 149 150 151 152 153 154 155 156 157 158 159 160 161\n",
      " 162 163 164 165 166 167 168 169 170 171 172 173 174 175 176 177 178 179\n",
      " 180 181 182 183 184 185 186 187 188 189 190 191 192 193 194 195 196 197\n",
      " 198 199 200 201 202 203 204 205 206 207 208 209 210 211 212 213 214 215\n",
      " 216 217 218 219 220 221 222 223 224 225 226 227 228 229 230 231 232 233\n",
      " 234 235 236 237 238 239 240 241 242 243 244 245 246 247 248 249 250 251\n",
      " 252 253 254 255 256 257 258 259 260 261 262 263 264 265 266 267 268 269\n",
      " 270 271 272 273 274 275 276 277 278 279 280 281]\n",
      "PREPARE prints : \n",
      "numclasses5\n",
      "classids\n",
      "[0 1 2 3 4]\n",
      "classnames\n",
      "['BG', 'eggs', 'larvae', 'pupae', 'adults']\n",
      "numimages\n",
      "282\n",
      "imageids\n",
      "[  0   1   2   3   4   5   6   7   8   9  10  11  12  13  14  15  16  17\n",
      "  18  19  20  21  22  23  24  25  26  27  28  29  30  31  32  33  34  35\n",
      "  36  37  38  39  40  41  42  43  44  45  46  47  48  49  50  51  52  53\n",
      "  54  55  56  57  58  59  60  61  62  63  64  65  66  67  68  69  70  71\n",
      "  72  73  74  75  76  77  78  79  80  81  82  83  84  85  86  87  88  89\n",
      "  90  91  92  93  94  95  96  97  98  99 100 101 102 103 104 105 106 107\n",
      " 108 109 110 111 112 113 114 115 116 117 118 119 120 121 122 123 124 125\n",
      " 126 127 128 129 130 131 132 133 134 135 136 137 138 139 140 141 142 143\n",
      " 144 145 146 147 148 149 150 151 152 153 154 155 156 157 158 159 160 161\n",
      " 162 163 164 165 166 167 168 169 170 171 172 173 174 175 176 177 178 179\n",
      " 180 181 182 183 184 185 186 187 188 189 190 191 192 193 194 195 196 197\n",
      " 198 199 200 201 202 203 204 205 206 207 208 209 210 211 212 213 214 215\n",
      " 216 217 218 219 220 221 222 223 224 225 226 227 228 229 230 231 232 233\n",
      " 234 235 236 237 238 239 240 241 242 243 244 245 246 247 248 249 250 251\n",
      " 252 253 254 255 256 257 258 259 260 261 262 263 264 265 266 267 268 269\n",
      " 270 271 272 273 274 275 276 277 278 279 280 281]\n",
      "Training network heads\n",
      "\n",
      "Starting at epoch 0. LR=0.001\n",
      "\n",
      "Checkpoint Path: logs/insects20220211T1548/mask_rcnn_insects_{epoch:04d}.h5\n",
      "Selecting layers to train\n",
      "fpn_c5p5               (Conv2D)\n",
      "fpn_c4p4               (Conv2D)\n",
      "fpn_c3p3               (Conv2D)\n",
      "fpn_c2p2               (Conv2D)\n",
      "fpn_p5                 (Conv2D)\n",
      "fpn_p2                 (Conv2D)\n",
      "fpn_p3                 (Conv2D)\n",
      "fpn_p4                 (Conv2D)\n",
      "In model:  rpn_model\n",
      "    rpn_conv_shared        (Conv2D)\n",
      "    rpn_class_raw          (Conv2D)\n",
      "    rpn_bbox_pred          (Conv2D)\n",
      "mrcnn_mask_conv1       (TimeDistributed)\n",
      "mrcnn_mask_bn1         (TimeDistributed)\n",
      "mrcnn_mask_conv2       (TimeDistributed)\n",
      "mrcnn_mask_bn2         (TimeDistributed)\n",
      "mrcnn_class_conv1      (TimeDistributed)\n",
      "mrcnn_class_bn1        (TimeDistributed)\n",
      "mrcnn_mask_conv3       (TimeDistributed)\n",
      "mrcnn_mask_bn3         (TimeDistributed)\n",
      "mrcnn_class_conv2      (TimeDistributed)\n",
      "mrcnn_class_bn2        (TimeDistributed)\n",
      "mrcnn_mask_conv4       (TimeDistributed)\n",
      "mrcnn_mask_bn4         (TimeDistributed)\n",
      "mrcnn_bbox_fc          (TimeDistributed)\n",
      "mrcnn_mask_deconv      (TimeDistributed)\n",
      "mrcnn_class_logits     (TimeDistributed)\n",
      "mrcnn_mask             (TimeDistributed)\n"
     ]
    },
    {
     "name": "stderr",
     "output_type": "stream",
     "text": [
      "/home/melissap/miniconda3/envs/kumar/lib/python3.6/site-packages/tensorflow_core/python/framework/indexed_slices.py:424: UserWarning: Converting sparse IndexedSlices to a dense Tensor of unknown shape. This may consume a large amount of memory.\n",
      "  \"Converting sparse IndexedSlices to a dense Tensor of unknown shape. \"\n",
      "/home/melissap/miniconda3/envs/kumar/lib/python3.6/site-packages/tensorflow_core/python/framework/indexed_slices.py:424: UserWarning: Converting sparse IndexedSlices to a dense Tensor of unknown shape. This may consume a large amount of memory.\n",
      "  \"Converting sparse IndexedSlices to a dense Tensor of unknown shape. \"\n",
      "/home/melissap/miniconda3/envs/kumar/lib/python3.6/site-packages/tensorflow_core/python/framework/indexed_slices.py:424: UserWarning: Converting sparse IndexedSlices to a dense Tensor of unknown shape. This may consume a large amount of memory.\n",
      "  \"Converting sparse IndexedSlices to a dense Tensor of unknown shape. \"\n",
      "/home/melissap/miniconda3/envs/kumar/lib/python3.6/site-packages/keras/engine/training.py:2087: UserWarning: Using a generator with `use_multiprocessing=True` and multiple workers may duplicate your data. Please consider using the`keras.utils.Sequence class.\n",
      "  UserWarning('Using a generator with `use_multiprocessing=True`'\n",
      "WARNING:root:You are using the default load_mask(), maybe you need to define your own one.\n",
      "WARNING:root:You are using the default load_mask(), maybe you need to define your own one."
     ]
    },
    {
     "name": "stdout",
     "output_type": "stream",
     "text": [
      "(array([], shape=(0, 0, 0), dtype=float64), array([], dtype=int32))"
     ]
    },
    {
     "name": "stderr",
     "output_type": "stream",
     "text": [
      "WARNING:root:You are using the default load_mask(), maybe you need to define your own one.\n"
     ]
    },
    {
     "name": "stdout",
     "output_type": "stream",
     "text": [
      "\n",
      "(array([], shape=(0, 0, 0), dtype=float64), array([], dtype=int32))\n"
     ]
    },
    {
     "name": "stderr",
     "output_type": "stream",
     "text": [
      "WARNING:root:You are using the default load_mask(), maybe you need to define your own one.\n",
      "WARNING:root:You are using the default load_mask(), maybe you need to define your own one."
     ]
    },
    {
     "name": "stdout",
     "output_type": "stream",
     "text": [
      "(array([], shape=(0, 0, 0), dtype=float64), array([], dtype=int32))"
     ]
    },
    {
     "name": "stderr",
     "output_type": "stream",
     "text": [
      "\n",
      "WARNING:root:You are using the default load_mask(), maybe you need to define your own one.\n"
     ]
    },
    {
     "name": "stdout",
     "output_type": "stream",
     "text": [
      "\n"
     ]
    },
    {
     "name": "stderr",
     "output_type": "stream",
     "text": [
      "\n",
      "ERROR:root:Error processing image {'id': '40_120001.jpg', 'source': 'adult', 'path': '/data/CoRoSect/10.code/maskRCNN/Mask_RCNN_matterport/mask_rcnn/datasets/Nasekomo_insects/40/trainvalid/40_120001.jpg', 'width': 640, 'height': 360, 'polygons': [{'name': 'polygon', 'all_points_x': [367, 410, 457, 416], 'all_points_y': [92, 84, 108, 117]}, {'name': 'polygon', 'all_points_x': [3, 22, 26, 0], 'all_points_y': [187, 191, 210, 230]}, {'name': 'polygon', 'all_points_x': [30, 24, 0, 1], 'all_points_y': [225, 290, 260, 225]}, {'name': 'polygon', 'all_points_x': [230, 239, 265, 260], 'all_points_y': [57, 96, 92, 37]}, {'name': 'polygon', 'all_points_x': [483, 607, 593, 478], 'all_points_y': [256, 225, 179, 219]}, {'name': 'polygon', 'all_points_x': [543, 547, 596, 570], 'all_points_y': [279, 357, 359, 277]}, {'name': 'polygon', 'all_points_x': [411, 381, 355, 375], 'all_points_y': [283, 358, 357, 281]}, {'name': 'polygon', 'all_points_x': [16, 27, 4, 1], 'all_points_y': [170, 117, 108, 156]}, {'name': 'polygon', 'all_points_x': [82, 114, 94, 68], 'all_points_y': [162, 138, 112, 129]}, {'name': 'polygon', 'all_points_x': [124, 174, 160, 110], 'all_points_y': [294, 247, 233, 267]}, {'name': 'polygon', 'all_points_x': [144, 167, 199, 165], 'all_points_y': [276, 357, 358, 271]}, {'name': 'polygon', 'all_points_x': [167, 172, 203, 187], 'all_points_y': [262, 294, 354, 251]}, {'name': 'polygon', 'all_points_x': [250, 224, 188, 214], 'all_points_y': [345, 242, 250, 345]}, {'name': 'polygon', 'all_points_x': [240, 308, 355, 251], 'all_points_y': [290, 280, 254, 252]}, {'name': 'polygon', 'all_points_x': [309, 401, 390, 286], 'all_points_y': [309, 260, 237, 287]}, {'name': 'polygon', 'all_points_x': [316, 292, 258, 300], 'all_points_y': [201, 252, 246, 176]}, {'name': 'polygon', 'all_points_x': [258, 302, 267, 225], 'all_points_y': [251, 178, 158, 243]}, {'name': 'polygon', 'all_points_x': [90, 152, 179, 102], 'all_points_y': [229, 181, 197, 249]}, {'name': 'polygon', 'all_points_x': [118, 204, 217, 163], 'all_points_y': [233, 197, 235, 262]}, {'name': 'polygon', 'all_points_x': [0, 40, 23, 1], 'all_points_y': [68, 103, 117, 107]}, {'name': 'polygon', 'all_points_x': [24, 25, 59, 62], 'all_points_y': [260, 339, 339, 261]}, {'name': 'polygon', 'all_points_x': [73, 97, 129, 104], 'all_points_y': [249, 331, 325, 250]}, {'name': 'polygon', 'all_points_x': [254, 149, 152, 240], 'all_points_y': [202, 144, 178, 225]}, {'name': 'polygon', 'all_points_x': [173, 219, 232, 213], 'all_points_y': [93, 51, 74, 94]}, {'name': 'polygon', 'all_points_x': [242, 331, 352, 256], 'all_points_y': [45, 89, 65, 18]}, {'name': 'polygon', 'all_points_x': [281, 271, 302, 314], 'all_points_y': [69, 112, 124, 81]}, {'name': 'polygon', 'all_points_x': [249, 337, 327, 227], 'all_points_y': [106, 139, 181, 140]}, {'name': 'polygon', 'all_points_x': [354, 372, 416, 423], 'all_points_y': [87, 222, 218, 123]}, {'name': 'polygon', 'all_points_x': [448, 507, 454, 397], 'all_points_y': [201, 317, 326, 220]}, {'name': 'polygon', 'all_points_x': [539, 628, 622, 514], 'all_points_y': [148, 189, 220, 158]}, {'name': 'polygon', 'all_points_x': [542, 585, 622, 592], 'all_points_y': [0, 50, 38, 1]}, {'name': 'polygon', 'all_points_x': [526, 445, 483, 561], 'all_points_y': [51, 152, 175, 64]}, {'name': 'polygon', 'all_points_x': [427, 486, 438, 389], 'all_points_y': [2, 78, 105, 1]}, {'name': 'polygon', 'all_points_x': [389, 440, 404, 340], 'all_points_y': [2, 56, 84, 1]}, {'name': 'polygon', 'all_points_x': [302, 328, 360, 340], 'all_points_y': [2, 56, 39, 0]}, {'name': 'polygon', 'all_points_x': [47, 21, 62, 89], 'all_points_y': [2, 39, 58, 2]}, {'name': 'polygon', 'all_points_x': [128, 106, 67, 88], 'all_points_y': [1, 80, 76, 2]}, {'name': 'polygon', 'all_points_x': [85, 114, 143, 104], 'all_points_y': [83, 148, 144, 70]}], 'num_ids': [4, 4, 4, 4, 4, 4, 4, 4, 4, 4, 4, 4, 4, 4, 4, 4, 4, 4, 4, 4, 4, 4, 4, 4, 4, 4, 4, 4, 4, 4, 4, 4, 4, 4, 4, 4, 4, 4]}\n",
      "Traceback (most recent call last):\n",
      "  File \"/home/melissap/miniconda3/envs/kumar/lib/python3.6/site-packages/mask_rcnn-2.1-py3.6.egg/mrcnn/model.py\", line 1709, in data_generator\n",
      "    use_mini_mask=config.USE_MINI_MASK)\n",
      "  File \"/home/melissap/miniconda3/envs/kumar/lib/python3.6/site-packages/mask_rcnn-2.1-py3.6.egg/mrcnn/model.py\", line 1275, in load_image_gt\n",
      "    source_class_ids = dataset.source_class_ids[dataset.image_info[image_id][\"source\"]]\n",
      "KeyError: 'adult'WARNING:root:You are using the default load_mask(), maybe you need to define your own one.WARNING:root:You are using the default load_mask(), maybe you need to define your own one.\n"
     ]
    },
    {
     "name": "stdout",
     "output_type": "stream",
     "text": [
      "(array([], shape=(0, 0, 0), dtype=float64), array([], dtype=int32))"
     ]
    },
    {
     "name": "stderr",
     "output_type": "stream",
     "text": [
      "\n"
     ]
    },
    {
     "name": "stdout",
     "output_type": "stream",
     "text": [
      "\n"
     ]
    },
    {
     "name": "stderr",
     "output_type": "stream",
     "text": [
      "\n",
      "ERROR:root:Error processing image {'id': '30_270001.jpg', 'source': 'pupae', 'path': '/data/CoRoSect/10.code/maskRCNN/Mask_RCNN_matterport/mask_rcnn/datasets/Nasekomo_insects/30/trainvalid/30_270001.jpg', 'width': 640, 'height': 360, 'polygons': [{'name': 'polygon', 'all_points_x': [1, 55, 48, 1], 'all_points_y': [58, 85, 109, 99]}, {'name': 'polygon', 'all_points_x': [1, 47, 49, 1], 'all_points_y': [176, 176, 131, 133]}, {'name': 'polygon', 'all_points_x': [413, 385, 387, 434], 'all_points_y': [67, 117, 134, 109]}, {'name': 'polygon', 'all_points_x': [94, 135, 106, 78], 'all_points_y': [99, 146, 192, 102]}, {'name': 'polygon', 'all_points_x': [268, 295, 300, 255], 'all_points_y': [250, 241, 223, 214]}, {'name': 'polygon', 'all_points_x': [236, 214, 183, 213], 'all_points_y': [263, 341, 332, 247]}, {'name': 'polygon', 'all_points_x': [2, 70, 63, 1], 'all_points_y': [309, 342, 358, 358]}, {'name': 'polygon', 'all_points_x': [331, 347, 360, 357], 'all_points_y': [136, 181, 174, 138]}, {'name': 'polygon', 'all_points_x': [557, 556, 582, 580], 'all_points_y': [56, 135, 110, 79]}, {'name': 'polygon', 'all_points_x': [619, 604, 581, 593], 'all_points_y': [64, 124, 110, 55]}, {'name': 'polygon', 'all_points_x': [539, 572, 575, 539], 'all_points_y': [236, 237, 219, 210]}, {'name': 'polygon', 'all_points_x': [606, 638, 637, 613], 'all_points_y': [254, 238, 283, 280]}, {'name': 'polygon', 'all_points_x': [524, 632, 630, 510], 'all_points_y': [282, 282, 262, 253]}, {'name': 'polygon', 'all_points_x': [509, 524, 495, 476], 'all_points_y': [259, 193, 187, 253]}, {'name': 'polygon', 'all_points_x': [470, 520, 511, 467], 'all_points_y': [290, 293, 265, 256]}, {'name': 'polygon', 'all_points_x': [375, 405, 387, 364], 'all_points_y': [340, 296, 285, 321]}, {'name': 'polygon', 'all_points_x': [357, 373, 333, 332], 'all_points_y': [293, 359, 358, 300]}, {'name': 'polygon', 'all_points_x': [445, 515, 527, 440], 'all_points_y': [332, 314, 342, 359]}, {'name': 'polygon', 'all_points_x': [185, 141, 106, 130], 'all_points_y': [172, 259, 214, 161]}, {'name': 'polygon', 'all_points_x': [295, 373, 368, 251], 'all_points_y': [191, 200, 232, 212]}, {'name': 'polygon', 'all_points_x': [435, 511, 503, 416], 'all_points_y': [69, 35, 13, 40]}, {'name': 'polygon', 'all_points_x': [542, 502, 464, 515], 'all_points_y': [8, 99, 74, 2]}, {'name': 'polygon', 'all_points_x': [543, 564, 530, 524], 'all_points_y': [73, 182, 146, 86]}, {'name': 'polygon', 'all_points_x': [429, 506, 449, 400], 'all_points_y': [119, 236, 223, 130]}, {'name': 'polygon', 'all_points_x': [357, 364, 387, 386], 'all_points_y': [78, 187, 185, 71]}, {'name': 'polygon', 'all_points_x': [185, 208, 252, 193], 'all_points_y': [139, 162, 156, 109]}, {'name': 'polygon', 'all_points_x': [200, 263, 258, 179], 'all_points_y': [193, 186, 156, 165]}, {'name': 'polygon', 'all_points_x': [70, 115, 112, 37], 'all_points_y': [149, 202, 246, 181]}], 'num_ids': [3, 3, 3, 3, 3, 3, 3, 3, 3, 3, 3, 3, 3, 3, 3, 3, 3, 3, 3, 3, 3, 3, 3, 3, 3, 3, 3, 3]}\n",
      "Traceback (most recent call last):\n",
      "  File \"/home/melissap/miniconda3/envs/kumar/lib/python3.6/site-packages/mask_rcnn-2.1-py3.6.egg/mrcnn/model.py\", line 1709, in data_generator\n",
      "    use_mini_mask=config.USE_MINI_MASK)\n",
      "  File \"/home/melissap/miniconda3/envs/kumar/lib/python3.6/site-packages/mask_rcnn-2.1-py3.6.egg/mrcnn/model.py\", line 1275, in load_image_gt\n",
      "    source_class_ids = dataset.source_class_ids[dataset.image_info[image_id][\"source\"]]\n",
      "KeyError: 'pupae'"
     ]
    },
    {
     "name": "stdout",
     "output_type": "stream",
     "text": [
      "(array([], shape=(0, 0, 0), dtype=float64), array([], dtype=int32))"
     ]
    },
    {
     "name": "stderr",
     "output_type": "stream",
     "text": [
      "WARNING:root:You are using the default load_mask(), maybe you need to define your own one.ERROR:root:Error processing image {'id': '37_160001.jpg', 'source': 'pupae', 'path': '/data/CoRoSect/10.code/maskRCNN/Mask_RCNN_matterport/mask_rcnn/datasets/Nasekomo_insects/37/trainvalid/37_160001.jpg', 'width': 640, 'height': 360, 'polygons': [{'name': 'polygon', 'all_points_x': [287, 318, 390, 326], 'all_points_y': [2, 54, 80, 1]}, {'name': 'polygon', 'all_points_x': [463, 543, 537, 467], 'all_points_y': [318, 318, 287, 292]}, {'name': 'polygon', 'all_points_x': [552, 618, 612, 547], 'all_points_y': [134, 143, 161, 149]}, {'name': 'polygon', 'all_points_x': [604, 638, 633, 574], 'all_points_y': [302, 287, 181, 181]}, {'name': 'polygon', 'all_points_x': [556, 588, 617, 575], 'all_points_y': [249, 247, 358, 359]}, {'name': 'polygon', 'all_points_x': [423, 557, 557, 423], 'all_points_y': [190, 206, 243, 223]}, {'name': 'polygon', 'all_points_x': [453, 413, 429, 465], 'all_points_y': [234, 266, 288, 255]}, {'name': 'polygon', 'all_points_x': [399, 454, 421, 384], 'all_points_y': [276, 358, 358, 295]}, {'name': 'polygon', 'all_points_x': [332, 249, 267, 354], 'all_points_y': [229, 301, 329, 257]}, {'name': 'polygon', 'all_points_x': [185, 212, 232, 196], 'all_points_y': [195, 210, 169, 157]}, {'name': 'polygon', 'all_points_x': [195, 271, 245, 172], 'all_points_y': [271, 343, 358, 294]}, {'name': 'polygon', 'all_points_x': [162, 160, 138, 134], 'all_points_y': [2, 70, 67, 1]}, {'name': 'polygon', 'all_points_x': [299, 340, 311, 280], 'all_points_y': [76, 170, 182, 86]}, {'name': 'polygon', 'all_points_x': [524, 632, 622, 512], 'all_points_y': [151, 95, 74, 131]}, {'name': 'polygon', 'all_points_x': [576, 534, 568, 594], 'all_points_y': [153, 207, 227, 161]}, {'name': 'polygon', 'all_points_x': [458, 422, 403, 433], 'all_points_y': [136, 251, 235, 127]}, {'name': 'polygon', 'all_points_x': [472, 584, 568, 461], 'all_points_y': [133, 59, 34, 102]}, {'name': 'polygon', 'all_points_x': [534, 637, 619, 527], 'all_points_y': [112, 59, 38, 98]}, {'name': 'polygon', 'all_points_x': [531, 593, 601, 581], 'all_points_y': [0, 46, 22, 0]}, {'name': 'polygon', 'all_points_x': [467, 577, 552, 458], 'all_points_y': [70, 36, 13, 48]}, {'name': 'polygon', 'all_points_x': [339, 462, 457, 329], 'all_points_y': [74, 92, 121, 112]}, {'name': 'polygon', 'all_points_x': [332, 336, 360, 357], 'all_points_y': [107, 217, 197, 105]}, {'name': 'polygon', 'all_points_x': [207, 272, 271, 192], 'all_points_y': [263, 230, 198, 230]}, {'name': 'polygon', 'all_points_x': [49, 0, 1, 42], 'all_points_y': [276, 251, 298, 311]}, {'name': 'polygon', 'all_points_x': [70, 113, 113, 73], 'all_points_y': [59, 58, 73, 75]}, {'name': 'polygon', 'all_points_x': [82, 70, 92, 97], 'all_points_y': [76, 144, 142, 72]}, {'name': 'polygon', 'all_points_x': [72, 12, 27, 80], 'all_points_y': [63, 148, 171, 95]}, {'name': 'polygon', 'all_points_x': [21, 0, 1, 9], 'all_points_y': [38, 103, 37, 32]}, {'name': 'polygon', 'all_points_x': [0, 61, 68, 1], 'all_points_y': [30, 35, 13, 3]}, {'name': 'polygon', 'all_points_x': [12, 85, 77, 11], 'all_points_y': [100, 49, 25, 72]}, {'name': 'polygon', 'all_points_x': [116, 229, 223, 126], 'all_points_y': [66, 104, 123, 109]}, {'name': 'polygon', 'all_points_x': [127, 119, 91, 98], 'all_points_y': [75, 136, 145, 74]}, {'name': 'polygon', 'all_points_x': [154, 69, 40, 63], 'all_points_y': [169, 238, 216, 190]}, {'name': 'polygon', 'all_points_x': [3, 75, 51, 1], 'all_points_y': [254, 240, 224, 229]}, {'name': 'polygon', 'all_points_x': [112, 141, 107, 80], 'all_points_y': [210, 297, 309, 217]}, {'name': 'polygon', 'all_points_x': [31, 155, 139, 24], 'all_points_y': [197, 167, 135, 159]}], 'num_ids': [3, 3, 3, 3, 3, 3, 3, 3, 3, 3, 3, 3, 3, 3, 3, 3, 3, 3, 3, 3, 3, 3, 3, 3, 3, 3, 3, 3, 3, 3, 3, 3, 3, 3, 3, 3]}\n",
      "Traceback (most recent call last):\n",
      "  File \"/home/melissap/miniconda3/envs/kumar/lib/python3.6/site-packages/mask_rcnn-2.1-py3.6.egg/mrcnn/model.py\", line 1709, in data_generator\n",
      "    use_mini_mask=config.USE_MINI_MASK)\n",
      "  File \"/home/melissap/miniconda3/envs/kumar/lib/python3.6/site-packages/mask_rcnn-2.1-py3.6.egg/mrcnn/model.py\", line 1275, in load_image_gt\n",
      "    source_class_ids = dataset.source_class_ids[dataset.image_info[image_id][\"source\"]]\n",
      "KeyError: 'pupae'WARNING:root:You are using the default load_mask(), maybe you need to define your own one.WARNING:root:You are using the default load_mask(), maybe you need to define your own one.\n",
      "\n",
      "\n",
      "\n"
     ]
    },
    {
     "name": "stdout",
     "output_type": "stream",
     "text": [
      "\n"
     ]
    },
    {
     "name": "stderr",
     "output_type": "stream",
     "text": [
      "\n",
      "WARNING:root:You are using the default load_mask(), maybe you need to define your own one.WARNING:root:You are using the default load_mask(), maybe you need to define your own one."
     ]
    },
    {
     "name": "stdout",
     "output_type": "stream",
     "text": [
      "(array([], shape=(0, 0, 0), dtype=float64), array([], dtype=int32))(array([], shape=(0, 0, 0), dtype=float64), array([], dtype=int32))\n"
     ]
    },
    {
     "name": "stderr",
     "output_type": "stream",
     "text": [
      "\n",
      "\n",
      "WARNING:root:You are using the default load_mask(), maybe you need to define your own one.WARNING:root:You are using the default load_mask(), maybe you need to define your own one.WARNING:root:You are using the default load_mask(), maybe you need to define your own one."
     ]
    },
    {
     "name": "stdout",
     "output_type": "stream",
     "text": [
      "\n"
     ]
    },
    {
     "name": "stderr",
     "output_type": "stream",
     "text": [
      "ERROR:root:Error processing image {'id': '1_170001.jpg', 'source': 'eggs', 'path': '/data/CoRoSect/10.code/maskRCNN/Mask_RCNN_matterport/mask_rcnn/datasets/Nasekomo_insects/1/trainvalid/1_170001.jpg', 'width': 640, 'height': 360, 'polygons': [{'name': 'polygon', 'all_points_x': [247, 260, 270, 255], 'all_points_y': [110, 105, 115, 133]}, {'name': 'polygon', 'all_points_x': [136, 149, 145, 134], 'all_points_y': [163, 152, 141, 150]}, {'name': 'polygon', 'all_points_x': [198, 198, 213, 213], 'all_points_y': [181, 190, 190, 178]}, {'name': 'polygon', 'all_points_x': [499, 489, 502, 510], 'all_points_y': [135, 145, 153, 143]}, {'name': 'polygon', 'all_points_x': [363, 359, 383, 383], 'all_points_y': [254, 267, 269, 255]}, {'name': 'polygon', 'all_points_x': [363, 373, 353, 345], 'all_points_y': [288, 308, 322, 288]}, {'name': 'polygon', 'all_points_x': [296, 317, 305, 284], 'all_points_y': [111, 96, 84, 98]}, {'name': 'polygon', 'all_points_x': [360, 377, 382, 364], 'all_points_y': [137, 135, 119, 115]}, {'name': 'polygon', 'all_points_x': [443, 433, 443, 451], 'all_points_y': [31, 38, 43, 35]}, {'name': 'polygon', 'all_points_x': [425, 431, 421, 415], 'all_points_y': [45, 29, 23, 36]}, {'name': 'polygon', 'all_points_x': [352, 356, 369, 364], 'all_points_y': [184, 196, 193, 175]}, {'name': 'polygon', 'all_points_x': [381, 384, 367, 370], 'all_points_y': [172, 192, 190, 171]}, {'name': 'polygon', 'all_points_x': [407, 416, 404, 391], 'all_points_y': [193, 179, 171, 190]}, {'name': 'polygon', 'all_points_x': [318, 325, 311, 301], 'all_points_y': [238, 264, 270, 246]}], 'num_ids': [1, 1, 1, 1, 1, 1, 1, 1, 1, 1, 1, 1, 1, 1]}\n",
      "Traceback (most recent call last):\n",
      "  File \"/home/melissap/miniconda3/envs/kumar/lib/python3.6/site-packages/mask_rcnn-2.1-py3.6.egg/mrcnn/model.py\", line 1709, in data_generator\n",
      "    use_mini_mask=config.USE_MINI_MASK)\n",
      "  File \"/home/melissap/miniconda3/envs/kumar/lib/python3.6/site-packages/mask_rcnn-2.1-py3.6.egg/mrcnn/model.py\", line 1275, in load_image_gt\n",
      "    source_class_ids = dataset.source_class_ids[dataset.image_info[image_id][\"source\"]]\n",
      "KeyError: 'eggs'\n",
      "WARNING:root:You are using the default load_mask(), maybe you need to define your own one.WARNING:root:You are using the default load_mask(), maybe you need to define your own one.\n"
     ]
    },
    {
     "name": "stdout",
     "output_type": "stream",
     "text": [
      "(array([], shape=(0, 0, 0), dtype=float64), array([], dtype=int32))"
     ]
    },
    {
     "name": "stderr",
     "output_type": "stream",
     "text": [
      "\n",
      "\n"
     ]
    },
    {
     "name": "stdout",
     "output_type": "stream",
     "text": [
      "(array([], shape=(0, 0, 0), dtype=float64), array([], dtype=int32))\n"
     ]
    },
    {
     "name": "stderr",
     "output_type": "stream",
     "text": [
      "ERROR:root:Error processing image {'id': '37_270001.jpg', 'source': 'pupae', 'path': '/data/CoRoSect/10.code/maskRCNN/Mask_RCNN_matterport/mask_rcnn/datasets/Nasekomo_insects/37/trainvalid/37_270001.jpg', 'width': 640, 'height': 360, 'polygons': [{'name': 'polygon', 'all_points_x': [297, 324, 349, 336], 'all_points_y': [2, 44, 30, 1]}, {'name': 'polygon', 'all_points_x': [408, 391, 428, 433], 'all_points_y': [8, 46, 115, 41]}, {'name': 'polygon', 'all_points_x': [261, 282, 260, 241], 'all_points_y': [200, 161, 153, 193]}, {'name': 'polygon', 'all_points_x': [264, 239, 224, 245], 'all_points_y': [150, 199, 193, 140]}, {'name': 'polygon', 'all_points_x': [266, 310, 333, 295], 'all_points_y': [341, 292, 315, 358]}, {'name': 'polygon', 'all_points_x': [380, 392, 361, 354], 'all_points_y': [278, 357, 357, 276]}, {'name': 'polygon', 'all_points_x': [457, 444, 409, 423], 'all_points_y': [287, 182, 192, 285]}, {'name': 'polygon', 'all_points_x': [473, 510, 481, 449], 'all_points_y': [194, 280, 306, 191]}, {'name': 'polygon', 'all_points_x': [586, 534, 516, 565], 'all_points_y': [204, 278, 261, 185]}, {'name': 'polygon', 'all_points_x': [597, 586, 619, 618], 'all_points_y': [26, 104, 81, 13]}, {'name': 'polygon', 'all_points_x': [538, 582, 559, 527], 'all_points_y': [77, 174, 189, 124]}, {'name': 'polygon', 'all_points_x': [536, 506, 483, 510], 'all_points_y': [72, 194, 184, 58]}, {'name': 'polygon', 'all_points_x': [482, 521, 502, 450], 'all_points_y': [1, 52, 58, 1]}, {'name': 'polygon', 'all_points_x': [435, 506, 506, 456], 'all_points_y': [27, 115, 66, 10]}, {'name': 'polygon', 'all_points_x': [349, 387, 407, 368], 'all_points_y': [25, 87, 71, 18]}, {'name': 'polygon', 'all_points_x': [385, 314, 299, 363], 'all_points_y': [112, 180, 165, 99]}, {'name': 'polygon', 'all_points_x': [370, 341, 303, 356], 'all_points_y': [49, 87, 92, 32]}, {'name': 'polygon', 'all_points_x': [302, 283, 254, 266], 'all_points_y': [14, 104, 81, 23]}, {'name': 'polygon', 'all_points_x': [178, 180, 207, 207], 'all_points_y': [10, 102, 85, 20]}, {'name': 'polygon', 'all_points_x': [104, 157, 133, 84], 'all_points_y': [37, 80, 113, 65]}, {'name': 'polygon', 'all_points_x': [174, 119, 120, 150], 'all_points_y': [96, 179, 138, 95]}, {'name': 'polygon', 'all_points_x': [65, 119, 110, 40], 'all_points_y': [256, 184, 165, 252]}, {'name': 'polygon', 'all_points_x': [181, 180, 224, 214], 'all_points_y': [313, 213, 217, 321]}, {'name': 'polygon', 'all_points_x': [257, 320, 339, 281], 'all_points_y': [204, 293, 278, 192]}, {'name': 'polygon', 'all_points_x': [284, 340, 362, 293], 'all_points_y': [191, 269, 251, 173]}, {'name': 'polygon', 'all_points_x': [32, 173, 197, 95], 'all_points_y': [335, 221, 242, 328]}, {'name': 'polygon', 'all_points_x': [211, 223, 187, 181], 'all_points_y': [144, 211, 216, 143]}, {'name': 'polygon', 'all_points_x': [201, 301, 283, 184], 'all_points_y': [86, 134, 163, 115]}, {'name': 'polygon', 'all_points_x': [0, 110, 93, 2], 'all_points_y': [233, 164, 145, 199]}, {'name': 'polygon', 'all_points_x': [2, 61, 53, 0], 'all_points_y': [198, 161, 129, 162]}, {'name': 'polygon', 'all_points_x': [0, 17, 24, 2], 'all_points_y': [22, 33, 135, 140]}, {'name': 'polygon', 'all_points_x': [53, 66, 16, 19], 'all_points_y': [63, 2, 2, 62]}, {'name': 'polygon', 'all_points_x': [33, 127, 109, 14], 'all_points_y': [60, 126, 158, 90]}], 'num_ids': [3, 3, 3, 3, 3, 3, 3, 3, 3, 3, 3, 3, 3, 3, 3, 3, 3, 3, 3, 3, 3, 3, 3, 3, 3, 3, 3, 3, 3, 3, 3, 3, 3]}\n",
      "Traceback (most recent call last):\n",
      "  File \"/home/melissap/miniconda3/envs/kumar/lib/python3.6/site-packages/mask_rcnn-2.1-py3.6.egg/mrcnn/model.py\", line 1709, in data_generator\n",
      "    use_mini_mask=config.USE_MINI_MASK)\n",
      "  File \"/home/melissap/miniconda3/envs/kumar/lib/python3.6/site-packages/mask_rcnn-2.1-py3.6.egg/mrcnn/model.py\", line 1275, in load_image_gt\n",
      "    source_class_ids = dataset.source_class_ids[dataset.image_info[image_id][\"source\"]]\n",
      "KeyError: 'pupae'\n",
      "\n"
     ]
    },
    {
     "name": "stdout",
     "output_type": "stream",
     "text": [
      "\n"
     ]
    },
    {
     "name": "stderr",
     "output_type": "stream",
     "text": [
      "ERROR:root:Error processing image {'id': '30_060001.jpg', 'source': 'pupae', 'path': '/data/CoRoSect/10.code/maskRCNN/Mask_RCNN_matterport/mask_rcnn/datasets/Nasekomo_insects/30/trainvalid/30_060001.jpg', 'width': 640, 'height': 360, 'polygons': [{'name': 'polygon', 'all_points_x': [163, 179, 146, 138], 'all_points_y': [249, 289, 303, 270]}, {'name': 'polygon', 'all_points_x': [311, 332, 369, 346], 'all_points_y': [208, 277, 253, 195]}], 'num_ids': [3, 3]}\n",
      "Traceback (most recent call last):\n",
      "  File \"/home/melissap/miniconda3/envs/kumar/lib/python3.6/site-packages/mask_rcnn-2.1-py3.6.egg/mrcnn/model.py\", line 1709, in data_generator\n",
      "    use_mini_mask=config.USE_MINI_MASK)\n",
      "  File \"/home/melissap/miniconda3/envs/kumar/lib/python3.6/site-packages/mask_rcnn-2.1-py3.6.egg/mrcnn/model.py\", line 1275, in load_image_gt\n",
      "    source_class_ids = dataset.source_class_ids[dataset.image_info[image_id][\"source\"]]\n",
      "KeyError: 'pupae'"
     ]
    },
    {
     "name": "stdout",
     "output_type": "stream",
     "text": [
      "(array([], shape=(0, 0, 0), dtype=float64), array([], dtype=int32))(array([], shape=(0, 0, 0), dtype=float64), array([], dtype=int32))"
     ]
    },
    {
     "name": "stderr",
     "output_type": "stream",
     "text": [
      "\n",
      "WARNING:root:You are using the default load_mask(), maybe you need to define your own one.WARNING:root:You are using the default load_mask(), maybe you need to define your own one."
     ]
    },
    {
     "name": "stdout",
     "output_type": "stream",
     "text": [
      "\n"
     ]
    },
    {
     "name": "stderr",
     "output_type": "stream",
     "text": [
      "WARNING:root:You are using the default load_mask(), maybe you need to define your own one."
     ]
    },
    {
     "name": "stdout",
     "output_type": "stream",
     "text": [
      "\n"
     ]
    },
    {
     "name": "stderr",
     "output_type": "stream",
     "text": [
      "\n",
      "ERROR:root:Error processing image {'id': '37_270001.jpg', 'source': 'pupae', 'path': '/data/CoRoSect/10.code/maskRCNN/Mask_RCNN_matterport/mask_rcnn/datasets/Nasekomo_insects/37/trainvalid/37_270001.jpg', 'width': 640, 'height': 360, 'polygons': [{'name': 'polygon', 'all_points_x': [297, 324, 349, 336], 'all_points_y': [2, 44, 30, 1]}, {'name': 'polygon', 'all_points_x': [408, 391, 428, 433], 'all_points_y': [8, 46, 115, 41]}, {'name': 'polygon', 'all_points_x': [261, 282, 260, 241], 'all_points_y': [200, 161, 153, 193]}, {'name': 'polygon', 'all_points_x': [264, 239, 224, 245], 'all_points_y': [150, 199, 193, 140]}, {'name': 'polygon', 'all_points_x': [266, 310, 333, 295], 'all_points_y': [341, 292, 315, 358]}, {'name': 'polygon', 'all_points_x': [380, 392, 361, 354], 'all_points_y': [278, 357, 357, 276]}, {'name': 'polygon', 'all_points_x': [457, 444, 409, 423], 'all_points_y': [287, 182, 192, 285]}, {'name': 'polygon', 'all_points_x': [473, 510, 481, 449], 'all_points_y': [194, 280, 306, 191]}, {'name': 'polygon', 'all_points_x': [586, 534, 516, 565], 'all_points_y': [204, 278, 261, 185]}, {'name': 'polygon', 'all_points_x': [597, 586, 619, 618], 'all_points_y': [26, 104, 81, 13]}, {'name': 'polygon', 'all_points_x': [538, 582, 559, 527], 'all_points_y': [77, 174, 189, 124]}, {'name': 'polygon', 'all_points_x': [536, 506, 483, 510], 'all_points_y': [72, 194, 184, 58]}, {'name': 'polygon', 'all_points_x': [482, 521, 502, 450], 'all_points_y': [1, 52, 58, 1]}, {'name': 'polygon', 'all_points_x': [435, 506, 506, 456], 'all_points_y': [27, 115, 66, 10]}, {'name': 'polygon', 'all_points_x': [349, 387, 407, 368], 'all_points_y': [25, 87, 71, 18]}, {'name': 'polygon', 'all_points_x': [385, 314, 299, 363], 'all_points_y': [112, 180, 165, 99]}, {'name': 'polygon', 'all_points_x': [370, 341, 303, 356], 'all_points_y': [49, 87, 92, 32]}, {'name': 'polygon', 'all_points_x': [302, 283, 254, 266], 'all_points_y': [14, 104, 81, 23]}, {'name': 'polygon', 'all_points_x': [178, 180, 207, 207], 'all_points_y': [10, 102, 85, 20]}, {'name': 'polygon', 'all_points_x': [104, 157, 133, 84], 'all_points_y': [37, 80, 113, 65]}, {'name': 'polygon', 'all_points_x': [174, 119, 120, 150], 'all_points_y': [96, 179, 138, 95]}, {'name': 'polygon', 'all_points_x': [65, 119, 110, 40], 'all_points_y': [256, 184, 165, 252]}, {'name': 'polygon', 'all_points_x': [181, 180, 224, 214], 'all_points_y': [313, 213, 217, 321]}, {'name': 'polygon', 'all_points_x': [257, 320, 339, 281], 'all_points_y': [204, 293, 278, 192]}, {'name': 'polygon', 'all_points_x': [284, 340, 362, 293], 'all_points_y': [191, 269, 251, 173]}, {'name': 'polygon', 'all_points_x': [32, 173, 197, 95], 'all_points_y': [335, 221, 242, 328]}, {'name': 'polygon', 'all_points_x': [211, 223, 187, 181], 'all_points_y': [144, 211, 216, 143]}, {'name': 'polygon', 'all_points_x': [201, 301, 283, 184], 'all_points_y': [86, 134, 163, 115]}, {'name': 'polygon', 'all_points_x': [0, 110, 93, 2], 'all_points_y': [233, 164, 145, 199]}, {'name': 'polygon', 'all_points_x': [2, 61, 53, 0], 'all_points_y': [198, 161, 129, 162]}, {'name': 'polygon', 'all_points_x': [0, 17, 24, 2], 'all_points_y': [22, 33, 135, 140]}, {'name': 'polygon', 'all_points_x': [53, 66, 16, 19], 'all_points_y': [63, 2, 2, 62]}, {'name': 'polygon', 'all_points_x': [33, 127, 109, 14], 'all_points_y': [60, 126, 158, 90]}], 'num_ids': [3, 3, 3, 3, 3, 3, 3, 3, 3, 3, 3, 3, 3, 3, 3, 3, 3, 3, 3, 3, 3, 3, 3, 3, 3, 3, 3, 3, 3, 3, 3, 3, 3]}\n",
      "Traceback (most recent call last):\n",
      "  File \"/home/melissap/miniconda3/envs/kumar/lib/python3.6/site-packages/mask_rcnn-2.1-py3.6.egg/mrcnn/model.py\", line 1709, in data_generator\n",
      "    use_mini_mask=config.USE_MINI_MASK)\n",
      "  File \"/home/melissap/miniconda3/envs/kumar/lib/python3.6/site-packages/mask_rcnn-2.1-py3.6.egg/mrcnn/model.py\", line 1275, in load_image_gt\n",
      "    source_class_ids = dataset.source_class_ids[dataset.image_info[image_id][\"source\"]]\n",
      "KeyError: 'pupae'\n",
      "WARNING:root:You are using the default load_mask(), maybe you need to define your own one.WARNING:root:You are using the default load_mask(), maybe you need to define your own one.WARNING:root:You are using the default load_mask(), maybe you need to define your own one.\n",
      "\n",
      "WARNING:root:You are using the default load_mask(), maybe you need to define your own one.\n",
      "\n",
      "\n",
      "\n",
      "\n"
     ]
    },
    {
     "name": "stdout",
     "output_type": "stream",
     "text": [
      "(array([], shape=(0, 0, 0), dtype=float64), array([], dtype=int32))\n"
     ]
    },
    {
     "name": "stderr",
     "output_type": "stream",
     "text": [
      "ERROR:root:Error processing image {'id': '1_150001.jpg', 'source': 'eggs', 'path': '/data/CoRoSect/10.code/maskRCNN/Mask_RCNN_matterport/mask_rcnn/datasets/Nasekomo_insects/1/trainvalid/1_150001.jpg', 'width': 640, 'height': 360, 'polygons': [{'name': 'polygon', 'all_points_x': [88, 100, 105, 98], 'all_points_y': [129, 120, 124, 135]}, {'name': 'polygon', 'all_points_x': [361, 370, 380, 374], 'all_points_y': [206, 200, 210, 219]}, {'name': 'polygon', 'all_points_x': [383, 390, 382, 373], 'all_points_y': [189, 198, 211, 199]}, {'name': 'polygon', 'all_points_x': [395, 409, 390, 385], 'all_points_y': [199, 222, 222, 210]}, {'name': 'polygon', 'all_points_x': [312, 313, 327, 327], 'all_points_y': [29, 40, 43, 24]}, {'name': 'polygon', 'all_points_x': [315, 325, 323, 310], 'all_points_y': [43, 44, 55, 63]}, {'name': 'polygon', 'all_points_x': [352, 355, 372, 364], 'all_points_y': [29, 38, 30, 21]}, {'name': 'polygon', 'all_points_x': [267, 258, 259, 272], 'all_points_y': [67, 76, 89, 88]}, {'name': 'polygon', 'all_points_x': [190, 197, 179, 172], 'all_points_y': [78, 65, 63, 76]}, {'name': 'polygon', 'all_points_x': [237, 259, 245, 238], 'all_points_y': [181, 182, 200, 200]}, {'name': 'polygon', 'all_points_x': [266, 279, 276, 257], 'all_points_y': [181, 193, 206, 195]}, {'name': 'polygon', 'all_points_x': [53, 53, 70, 71], 'all_points_y': [197, 220, 220, 199]}, {'name': 'polygon', 'all_points_x': [452, 447, 442, 443], 'all_points_y': [31, 47, 44, 29]}, {'name': 'polygon', 'all_points_x': [549, 556, 546, 539], 'all_points_y': [237, 233, 224, 226]}, {'name': 'polygon', 'all_points_x': [415, 428, 435, 424], 'all_points_y': [40, 27, 29, 49]}, {'name': 'polygon', 'all_points_x': [398, 414, 412, 396], 'all_points_y': [53, 54, 65, 60]}, {'name': 'polygon', 'all_points_x': [443, 441, 434, 424], 'all_points_y': [57, 34, 34, 54]}, {'name': 'polygon', 'all_points_x': [394, 414, 413, 392], 'all_points_y': [64, 66, 78, 78]}, {'name': 'polygon', 'all_points_x': [55, 50, 68, 67], 'all_points_y': [115, 139, 142, 116]}, {'name': 'polygon', 'all_points_x': [307, 320, 312, 297], 'all_points_y': [198, 186, 176, 185]}, {'name': 'polygon', 'all_points_x': [469, 461, 450, 461], 'all_points_y': [92, 109, 106, 88]}, {'name': 'polygon', 'all_points_x': [170, 184, 168, 152], 'all_points_y': [358, 345, 332, 357]}], 'num_ids': [1, 1, 1, 1, 1, 1, 1, 1, 1, 1, 1, 1, 1, 1, 1, 1, 1, 1, 1, 1, 1, 1]}\n",
      "Traceback (most recent call last):\n",
      "  File \"/home/melissap/miniconda3/envs/kumar/lib/python3.6/site-packages/mask_rcnn-2.1-py3.6.egg/mrcnn/model.py\", line 1709, in data_generator\n",
      "    use_mini_mask=config.USE_MINI_MASK)\n",
      "  File \"/home/melissap/miniconda3/envs/kumar/lib/python3.6/site-packages/mask_rcnn-2.1-py3.6.egg/mrcnn/model.py\", line 1275, in load_image_gt\n",
      "    source_class_ids = dataset.source_class_ids[dataset.image_info[image_id][\"source\"]]\n",
      "KeyError: 'eggs'\n",
      "WARNING:root:You are using the default load_mask(), maybe you need to define your own one."
     ]
    },
    {
     "name": "stdout",
     "output_type": "stream",
     "text": [
      "(array([], shape=(0, 0, 0), dtype=float64), array([], dtype=int32))"
     ]
    },
    {
     "name": "stderr",
     "output_type": "stream",
     "text": [
      "WARNING:root:You are using the default load_mask(), maybe you need to define your own one.ERROR:root:Error processing image {'id': '44_230001.jpg', 'source': 'adult', 'path': '/data/CoRoSect/10.code/maskRCNN/Mask_RCNN_matterport/mask_rcnn/datasets/Nasekomo_insects/44/trainvalid/44_230001.jpg', 'width': 640, 'height': 360, 'polygons': [{'name': 'polygon', 'all_points_x': [354, 356, 392, 392], 'all_points_y': [146, 223, 218, 133]}, {'name': 'polygon', 'all_points_x': [225, 205, 271, 251], 'all_points_y': [39, 143, 144, 35]}], 'num_ids': [4, 4]}\n",
      "Traceback (most recent call last):\n",
      "  File \"/home/melissap/miniconda3/envs/kumar/lib/python3.6/site-packages/mask_rcnn-2.1-py3.6.egg/mrcnn/model.py\", line 1709, in data_generator\n",
      "    use_mini_mask=config.USE_MINI_MASK)\n",
      "  File \"/home/melissap/miniconda3/envs/kumar/lib/python3.6/site-packages/mask_rcnn-2.1-py3.6.egg/mrcnn/model.py\", line 1275, in load_image_gt\n",
      "    source_class_ids = dataset.source_class_ids[dataset.image_info[image_id][\"source\"]]\n",
      "KeyError: 'adult'"
     ]
    },
    {
     "name": "stdout",
     "output_type": "stream",
     "text": [
      "(array([], shape=(0, 0, 0), dtype=float64), array([], dtype=int32))"
     ]
    },
    {
     "name": "stderr",
     "output_type": "stream",
     "text": [
      "WARNING:root:You are using the default load_mask(), maybe you need to define your own one.ERROR:root:Error processing image {'id': '37_200001.jpg', 'source': 'pupae', 'path': '/data/CoRoSect/10.code/maskRCNN/Mask_RCNN_matterport/mask_rcnn/datasets/Nasekomo_insects/37/trainvalid/37_200001.jpg', 'width': 640, 'height': 360, 'polygons': [{'name': 'polygon', 'all_points_x': [115, 127, 148, 153], 'all_points_y': [358, 336, 336, 359]}, {'name': 'polygon', 'all_points_x': [10, 132, 110, 28], 'all_points_y': [309, 320, 289, 287]}, {'name': 'polygon', 'all_points_x': [145, 205, 162, 115], 'all_points_y': [284, 356, 359, 290]}, {'name': 'polygon', 'all_points_x': [544, 544, 512, 522], 'all_points_y': [46, 2, 1, 54]}, {'name': 'polygon', 'all_points_x': [539, 570, 581, 546], 'all_points_y': [26, 43, 22, 7]}, {'name': 'polygon', 'all_points_x': [589, 637, 638, 597], 'all_points_y': [58, 74, 39, 30]}, {'name': 'polygon', 'all_points_x': [222, 291, 313, 240], 'all_points_y': [228, 279, 243, 198]}, {'name': 'polygon', 'all_points_x': [271, 267, 229, 240], 'all_points_y': [263, 359, 358, 246]}, {'name': 'polygon', 'all_points_x': [335, 381, 339, 306], 'all_points_y': [308, 358, 357, 302]}, {'name': 'polygon', 'all_points_x': [341, 357, 393, 380], 'all_points_y': [284, 265, 304, 353]}, {'name': 'polygon', 'all_points_x': [471, 502, 471, 442], 'all_points_y': [357, 301, 289, 353]}, {'name': 'polygon', 'all_points_x': [616, 615, 593, 581], 'all_points_y': [357, 307, 297, 357]}, {'name': 'polygon', 'all_points_x': [613, 631, 638, 637], 'all_points_y': [344, 235, 224, 334]}, {'name': 'polygon', 'all_points_x': [607, 596, 620, 631], 'all_points_y': [236, 298, 307, 238]}, {'name': 'polygon', 'all_points_x': [567, 561, 592, 600], 'all_points_y': [235, 310, 340, 236]}, {'name': 'polygon', 'all_points_x': [429, 416, 452, 465], 'all_points_y': [279, 357, 358, 290]}, {'name': 'polygon', 'all_points_x': [384, 432, 399, 360], 'all_points_y': [290, 251, 227, 273]}, {'name': 'polygon', 'all_points_x': [373, 301, 296, 354], 'all_points_y': [227, 302, 257, 200]}, {'name': 'polygon', 'all_points_x': [402, 503, 522, 412], 'all_points_y': [236, 267, 233, 208]}, {'name': 'polygon', 'all_points_x': [438, 567, 563, 445], 'all_points_y': [283, 316, 283, 254]}, {'name': 'polygon', 'all_points_x': [514, 554, 549, 504], 'all_points_y': [279, 258, 227, 252]}, {'name': 'polygon', 'all_points_x': [557, 626, 601, 520], 'all_points_y': [243, 185, 168, 235]}, {'name': 'polygon', 'all_points_x': [516, 590, 597, 511], 'all_points_y': [196, 179, 147, 172]}, {'name': 'polygon', 'all_points_x': [572, 627, 639, 587], 'all_points_y': [134, 171, 134, 103]}, {'name': 'polygon', 'all_points_x': [375, 361, 391, 406], 'all_points_y': [49, 1, 2, 45]}, {'name': 'polygon', 'all_points_x': [393, 444, 466, 435], 'all_points_y': [2, 57, 34, 1]}, {'name': 'polygon', 'all_points_x': [473, 500, 475, 443], 'all_points_y': [7, 63, 87, 4]}, {'name': 'polygon', 'all_points_x': [505, 479, 528, 529], 'all_points_y': [28, 174, 172, 39]}, {'name': 'polygon', 'all_points_x': [425, 503, 489, 420], 'all_points_y': [139, 228, 242, 187]}, {'name': 'polygon', 'all_points_x': [342, 384, 412, 370], 'all_points_y': [154, 242, 209, 131]}, {'name': 'polygon', 'all_points_x': [195, 193, 246, 246], 'all_points_y': [92, 118, 125, 90]}, {'name': 'polygon', 'all_points_x': [231, 218, 190, 211], 'all_points_y': [129, 198, 189, 115]}, {'name': 'polygon', 'all_points_x': [238, 301, 278, 211], 'all_points_y': [204, 141, 116, 173]}, {'name': 'polygon', 'all_points_x': [149, 172, 206, 248], 'all_points_y': [175, 276, 230, 213]}, {'name': 'polygon', 'all_points_x': [81, 73, 97, 98], 'all_points_y': [137, 229, 229, 194]}, {'name': 'polygon', 'all_points_x': [85, 140, 162, 117], 'all_points_y': [75, 167, 156, 81]}, {'name': 'polygon', 'all_points_x': [77, 104, 135, 112], 'all_points_y': [103, 223, 220, 93]}, {'name': 'polygon', 'all_points_x': [30, 64, 10, 0], 'all_points_y': [95, 3, 2, 76]}, {'name': 'polygon', 'all_points_x': [104, 71, 46, 64], 'all_points_y': [1, 66, 48, 1]}, {'name': 'polygon', 'all_points_x': [195, 231, 173, 163], 'all_points_y': [40, 0, 1, 27]}, {'name': 'polygon', 'all_points_x': [225, 266, 227, 217], 'all_points_y': [30, 2, 1, 25]}, {'name': 'polygon', 'all_points_x': [360, 407, 374, 335], 'all_points_y': [56, 106, 129, 95]}, {'name': 'polygon', 'all_points_x': [434, 485, 488, 449], 'all_points_y': [113, 154, 102, 86]}, {'name': 'polygon', 'all_points_x': [359, 353, 330, 334], 'all_points_y': [1, 91, 83, 1]}, {'name': 'polygon', 'all_points_x': [330, 334, 302, 294], 'all_points_y': [81, 0, 2, 57]}, {'name': 'polygon', 'all_points_x': [255, 315, 269, 223], 'all_points_y': [76, 0, 1, 52]}, {'name': 'polygon', 'all_points_x': [163, 227, 259, 169], 'all_points_y': [67, 57, 86, 89]}, {'name': 'polygon', 'all_points_x': [148, 177, 149, 105], 'all_points_y': [9, 136, 145, 15]}, {'name': 'polygon', 'all_points_x': [269, 350, 370, 287], 'all_points_y': [72, 149, 134, 54]}], 'num_ids': [3, 3, 3, 3, 3, 3, 3, 3, 3, 3, 3, 3, 3, 3, 3, 3, 3, 3, 3, 3, 3, 3, 3, 3, 3, 3, 3, 3, 3, 3, 3, 3, 3, 3, 3, 3, 3, 3, 3, 3, 3, 3, 3, 3, 3, 3, 3, 3, 3]}\n",
      "Traceback (most recent call last):\n",
      "  File \"/home/melissap/miniconda3/envs/kumar/lib/python3.6/site-packages/mask_rcnn-2.1-py3.6.egg/mrcnn/model.py\", line 1709, in data_generator\n",
      "    use_mini_mask=config.USE_MINI_MASK)\n",
      "  File \"/home/melissap/miniconda3/envs/kumar/lib/python3.6/site-packages/mask_rcnn-2.1-py3.6.egg/mrcnn/model.py\", line 1275, in load_image_gt\n",
      "    source_class_ids = dataset.source_class_ids[dataset.image_info[image_id][\"source\"]]\n",
      "KeyError: 'pupae'ERROR:root:Error processing image {'id': '13_240001.jpg', 'source': 'larvae', 'path': '/data/CoRoSect/10.code/maskRCNN/Mask_RCNN_matterport/mask_rcnn/datasets/Nasekomo_insects/13/trainvalid/13_240001.jpg', 'width': 640, 'height': 360, 'polygons': [{'name': 'polygon', 'all_points_x': [344, 363, 404, 356], 'all_points_y': [38, 55, 52, 20]}, {'name': 'polygon', 'all_points_x': [448, 469, 436, 417], 'all_points_y': [223, 274, 287, 232]}, {'name': 'polygon', 'all_points_x': [466, 602, 590, 455], 'all_points_y': [101, 112, 174, 136]}, {'name': 'polygon', 'all_points_x': [363, 442, 436, 373], 'all_points_y': [91, 83, 46, 56]}, {'name': 'polygon', 'all_points_x': [329, 335, 371, 361], 'all_points_y': [94, 150, 148, 73]}, {'name': 'polygon', 'all_points_x': [165, 192, 245, 196], 'all_points_y': [3, 71, 88, 1]}, {'name': 'polygon', 'all_points_x': [157, 238, 264, 169], 'all_points_y': [99, 141, 117, 64]}, {'name': 'polygon', 'all_points_x': [45, 43, 80, 87], 'all_points_y': [207, 264, 279, 193]}, {'name': 'polygon', 'all_points_x': [44, 14, 55, 72], 'all_points_y': [16, 109, 110, 19]}], 'num_ids': [2, 2, 2, 2, 2, 2, 2, 2, 2]}\n",
      "Traceback (most recent call last):\n",
      "  File \"/home/melissap/miniconda3/envs/kumar/lib/python3.6/site-packages/mask_rcnn-2.1-py3.6.egg/mrcnn/model.py\", line 1709, in data_generator\n",
      "    use_mini_mask=config.USE_MINI_MASK)\n",
      "  File \"/home/melissap/miniconda3/envs/kumar/lib/python3.6/site-packages/mask_rcnn-2.1-py3.6.egg/mrcnn/model.py\", line 1275, in load_image_gt\n",
      "    source_class_ids = dataset.source_class_ids[dataset.image_info[image_id][\"source\"]]\n",
      "KeyError: 'larvae'WARNING:root:You are using the default load_mask(), maybe you need to define your own one.\n"
     ]
    },
    {
     "name": "stdout",
     "output_type": "stream",
     "text": [
      "\n"
     ]
    },
    {
     "name": "stderr",
     "output_type": "stream",
     "text": [
      "\n",
      "\n"
     ]
    },
    {
     "name": "stdout",
     "output_type": "stream",
     "text": [
      "\n"
     ]
    },
    {
     "name": "stderr",
     "output_type": "stream",
     "text": [
      "\n",
      "\n",
      "\n",
      "WARNING:root:You are using the default load_mask(), maybe you need to define your own one."
     ]
    },
    {
     "name": "stdout",
     "output_type": "stream",
     "text": [
      "(array([], shape=(0, 0, 0), dtype=float64), array([], dtype=int32))"
     ]
    },
    {
     "name": "stderr",
     "output_type": "stream",
     "text": [
      "\n",
      "WARNING:root:You are using the default load_mask(), maybe you need to define your own one."
     ]
    },
    {
     "name": "stdout",
     "output_type": "stream",
     "text": [
      "(array([], shape=(0, 0, 0), dtype=float64), array([], dtype=int32))"
     ]
    },
    {
     "name": "stderr",
     "output_type": "stream",
     "text": [
      "WARNING:root:You are using the default load_mask(), maybe you need to define your own one.WARNING:root:You are using the default load_mask(), maybe you need to define your own one.WARNING:root:You are using the default load_mask(), maybe you need to define your own one.WARNING:root:You are using the default load_mask(), maybe you need to define your own one.\n",
      "\n",
      "ERROR:root:Error processing image {'id': '44_270001.jpg', 'source': 'adult', 'path': '/data/CoRoSect/10.code/maskRCNN/Mask_RCNN_matterport/mask_rcnn/datasets/Nasekomo_insects/44/trainvalid/44_270001.jpg', 'width': 640, 'height': 360, 'polygons': [{'name': 'polygon', 'all_points_x': [499, 506, 548, 540], 'all_points_y': [28, 112, 109, 23]}, {'name': 'polygon', 'all_points_x': [0, 55, 100, 0], 'all_points_y': [338, 323, 273, 290]}, {'name': 'polygon', 'all_points_x': [168, 259, 240, 160], 'all_points_y': [235, 268, 297, 262]}, {'name': 'polygon', 'all_points_x': [118, 198, 187, 104], 'all_points_y': [161, 156, 116, 126]}], 'num_ids': [4, 4, 4, 4]}\n",
      "Traceback (most recent call last):\n",
      "  File \"/home/melissap/miniconda3/envs/kumar/lib/python3.6/site-packages/mask_rcnn-2.1-py3.6.egg/mrcnn/model.py\", line 1709, in data_generator\n",
      "    use_mini_mask=config.USE_MINI_MASK)\n",
      "  File \"/home/melissap/miniconda3/envs/kumar/lib/python3.6/site-packages/mask_rcnn-2.1-py3.6.egg/mrcnn/model.py\", line 1275, in load_image_gt\n",
      "    source_class_ids = dataset.source_class_ids[dataset.image_info[image_id][\"source\"]]\n",
      "KeyError: 'adult'WARNING:root:You are using the default load_mask(), maybe you need to define your own one."
     ]
    },
    {
     "name": "stdout",
     "output_type": "stream",
     "text": [
      "\n"
     ]
    },
    {
     "name": "stderr",
     "output_type": "stream",
     "text": [
      "\n"
     ]
    },
    {
     "name": "stdout",
     "output_type": "stream",
     "text": [
      "\n"
     ]
    },
    {
     "name": "stderr",
     "output_type": "stream",
     "text": [
      "\n",
      "\n",
      "\n",
      "WARNING:root:You are using the default load_mask(), maybe you need to define your own one."
     ]
    },
    {
     "name": "stdout",
     "output_type": "stream",
     "text": [
      "(array([], shape=(0, 0, 0), dtype=float64), array([], dtype=int32))"
     ]
    },
    {
     "name": "stderr",
     "output_type": "stream",
     "text": [
      "WARNING:root:You are using the default load_mask(), maybe you need to define your own one."
     ]
    },
    {
     "name": "stdout",
     "output_type": "stream",
     "text": [
      "(array([], shape=(0, 0, 0), dtype=float64), array([], dtype=int32))"
     ]
    },
    {
     "name": "stderr",
     "output_type": "stream",
     "text": [
      "\n",
      "\n",
      "\n"
     ]
    },
    {
     "name": "stdout",
     "output_type": "stream",
     "text": [
      "\n"
     ]
    },
    {
     "name": "stderr",
     "output_type": "stream",
     "text": [
      "ERROR:root:Error processing image {'id': '37_190001.jpg', 'source': 'pupae', 'path': '/data/CoRoSect/10.code/maskRCNN/Mask_RCNN_matterport/mask_rcnn/datasets/Nasekomo_insects/37/trainvalid/37_190001.jpg', 'width': 640, 'height': 360, 'polygons': [{'name': 'polygon', 'all_points_x': [236, 245, 272, 259], 'all_points_y': [59, 106, 93, 54]}, {'name': 'polygon', 'all_points_x': [308, 305, 277, 273], 'all_points_y': [41, 158, 165, 40]}, {'name': 'polygon', 'all_points_x': [625, 604, 638, 640], 'all_points_y': [26, 80, 77, 23]}, {'name': 'polygon', 'all_points_x': [567, 573, 598, 590], 'all_points_y': [2, 30, 43, 3]}, {'name': 'polygon', 'all_points_x': [559, 517, 567, 584], 'all_points_y': [72, 30, 34, 62]}, {'name': 'polygon', 'all_points_x': [470, 566, 576, 469], 'all_points_y': [36, 15, 42, 45]}, {'name': 'polygon', 'all_points_x': [558, 509, 553, 574], 'all_points_y': [119, 106, 82, 98]}, {'name': 'polygon', 'all_points_x': [570, 632, 631, 598], 'all_points_y': [355, 318, 344, 357]}, {'name': 'polygon', 'all_points_x': [238, 254, 279, 261], 'all_points_y': [273, 354, 357, 248]}, {'name': 'polygon', 'all_points_x': [275, 331, 382, 345], 'all_points_y': [283, 283, 338, 359]}, {'name': 'polygon', 'all_points_x': [432, 398, 435, 459], 'all_points_y': [284, 356, 359, 298]}, {'name': 'polygon', 'all_points_x': [388, 450, 457, 421], 'all_points_y': [218, 241, 208, 197]}, {'name': 'polygon', 'all_points_x': [442, 494, 475, 428], 'all_points_y': [243, 285, 312, 272]}, {'name': 'polygon', 'all_points_x': [575, 638, 637, 572], 'all_points_y': [289, 285, 259, 271]}, {'name': 'polygon', 'all_points_x': [541, 573, 522, 514], 'all_points_y': [211, 285, 283, 208]}, {'name': 'polygon', 'all_points_x': [470, 544, 543, 498], 'all_points_y': [219, 221, 245, 250]}, {'name': 'polygon', 'all_points_x': [534, 566, 595, 564], 'all_points_y': [174, 265, 241, 173]}, {'name': 'polygon', 'all_points_x': [567, 602, 634, 603], 'all_points_y': [176, 245, 235, 184]}, {'name': 'polygon', 'all_points_x': [602, 616, 639, 637], 'all_points_y': [134, 220, 230, 152]}, {'name': 'polygon', 'all_points_x': [502, 552, 540, 468], 'all_points_y': [103, 96, 74, 79]}, {'name': 'polygon', 'all_points_x': [445, 534, 516, 447], 'all_points_y': [78, 77, 42, 53]}, {'name': 'polygon', 'all_points_x': [413, 453, 410, 402], 'all_points_y': [127, 134, 144, 138]}, {'name': 'polygon', 'all_points_x': [405, 380, 436, 460], 'all_points_y': [11, 35, 71, 47]}, {'name': 'polygon', 'all_points_x': [398, 495, 541, 420], 'all_points_y': [80, 157, 137, 52]}, {'name': 'polygon', 'all_points_x': [399, 472, 493, 402], 'all_points_y': [147, 131, 152, 176]}, {'name': 'polygon', 'all_points_x': [505, 612, 600, 503], 'all_points_y': [166, 185, 142, 138]}, {'name': 'polygon', 'all_points_x': [505, 464, 438, 489], 'all_points_y': [181, 215, 194, 153]}, {'name': 'polygon', 'all_points_x': [444, 473, 506, 461], 'all_points_y': [223, 273, 267, 212]}, {'name': 'polygon', 'all_points_x': [349, 390, 430, 360], 'all_points_y': [193, 215, 193, 133]}, {'name': 'polygon', 'all_points_x': [305, 430, 433, 323], 'all_points_y': [222, 226, 261, 252]}, {'name': 'polygon', 'all_points_x': [289, 326, 307, 291], 'all_points_y': [204, 263, 276, 258]}, {'name': 'polygon', 'all_points_x': [256, 198, 228, 261], 'all_points_y': [159, 259, 278, 235]}, {'name': 'polygon', 'all_points_x': [282, 297, 264, 260], 'all_points_y': [170, 277, 288, 169]}, {'name': 'polygon', 'all_points_x': [320, 300, 351, 357], 'all_points_y': [115, 193, 202, 116]}], 'num_ids': [3, 3, 3, 3, 3, 3, 3, 3, 3, 3, 3, 3, 3, 3, 3, 3, 3, 3, 3, 3, 3, 3, 3, 3, 3, 3, 3, 3, 3, 3, 3, 3, 3, 3]}\n",
      "Traceback (most recent call last):\n",
      "  File \"/home/melissap/miniconda3/envs/kumar/lib/python3.6/site-packages/mask_rcnn-2.1-py3.6.egg/mrcnn/model.py\", line 1709, in data_generator\n",
      "    use_mini_mask=config.USE_MINI_MASK)\n",
      "  File \"/home/melissap/miniconda3/envs/kumar/lib/python3.6/site-packages/mask_rcnn-2.1-py3.6.egg/mrcnn/model.py\", line 1275, in load_image_gt\n",
      "    source_class_ids = dataset.source_class_ids[dataset.image_info[image_id][\"source\"]]\n",
      "KeyError: 'pupae'"
     ]
    },
    {
     "name": "stdout",
     "output_type": "stream",
     "text": [
      "(array([], shape=(0, 0, 0), dtype=float64), array([], dtype=int32))(array([], shape=(0, 0, 0), dtype=float64), array([], dtype=int32))(array([], shape=(0, 0, 0), dtype=float64), array([], dtype=int32))"
     ]
    },
    {
     "name": "stderr",
     "output_type": "stream",
     "text": [
      "WARNING:root:You are using the default load_mask(), maybe you need to define your own one."
     ]
    },
    {
     "name": "stdout",
     "output_type": "stream",
     "text": [
      "\n"
     ]
    },
    {
     "name": "stderr",
     "output_type": "stream",
     "text": [
      "\n"
     ]
    },
    {
     "name": "stdout",
     "output_type": "stream",
     "text": [
      "(array([], shape=(0, 0, 0), dtype=float64), array([], dtype=int32))"
     ]
    },
    {
     "name": "stderr",
     "output_type": "stream",
     "text": [
      "ERROR:root:Error processing image {'id': '13_170001.jpg', 'source': 'larvae', 'path': '/data/CoRoSect/10.code/maskRCNN/Mask_RCNN_matterport/mask_rcnn/datasets/Nasekomo_insects/13/trainvalid/13_170001.jpg', 'width': 640, 'height': 360, 'polygons': [{'name': 'polygon', 'all_points_x': [578, 588, 639, 637], 'all_points_y': [287, 330, 298, 268]}, {'name': 'polygon', 'all_points_x': [544, 437, 448, 567], 'all_points_y': [130, 212, 228, 154]}, {'name': 'polygon', 'all_points_x': [485, 514, 462, 466], 'all_points_y': [28, 1, 1, 20]}, {'name': 'polygon', 'all_points_x': [496, 560, 546, 508], 'all_points_y': [103, 104, 69, 82]}, {'name': 'polygon', 'all_points_x': [375, 466, 444, 351], 'all_points_y': [208, 159, 123, 178]}, {'name': 'polygon', 'all_points_x': [306, 442, 442, 307], 'all_points_y': [114, 111, 146, 147]}, {'name': 'polygon', 'all_points_x': [262, 313, 357, 277], 'all_points_y': [52, 113, 101, 28]}, {'name': 'polygon', 'all_points_x': [296, 250, 273, 331], 'all_points_y': [147, 200, 225, 168]}, {'name': 'polygon', 'all_points_x': [144, 247, 263, 156], 'all_points_y': [251, 204, 230, 292]}, {'name': 'polygon', 'all_points_x': [1, 37, 6, 0], 'all_points_y': [189, 253, 273, 238]}, {'name': 'polygon', 'all_points_x': [59, 1, 40, 91], 'all_points_y': [97, 163, 179, 111]}], 'num_ids': [2, 2, 2, 2, 2, 2, 2, 2, 2, 2, 2]}\n",
      "Traceback (most recent call last):\n",
      "  File \"/home/melissap/miniconda3/envs/kumar/lib/python3.6/site-packages/mask_rcnn-2.1-py3.6.egg/mrcnn/model.py\", line 1709, in data_generator\n",
      "    use_mini_mask=config.USE_MINI_MASK)\n",
      "  File \"/home/melissap/miniconda3/envs/kumar/lib/python3.6/site-packages/mask_rcnn-2.1-py3.6.egg/mrcnn/model.py\", line 1275, in load_image_gt\n",
      "    source_class_ids = dataset.source_class_ids[dataset.image_info[image_id][\"source\"]]\n",
      "KeyError: 'larvae'WARNING:root:You are using the default load_mask(), maybe you need to define your own one.\n"
     ]
    },
    {
     "name": "stdout",
     "output_type": "stream",
     "text": [
      "\n",
      "\n"
     ]
    },
    {
     "name": "stderr",
     "output_type": "stream",
     "text": [
      "WARNING:root:You are using the default load_mask(), maybe you need to define your own one.ERROR:root:Error processing image {'id': '44_080001.jpg', 'source': 'adult', 'path': '/data/CoRoSect/10.code/maskRCNN/Mask_RCNN_matterport/mask_rcnn/datasets/Nasekomo_insects/44/trainvalid/44_080001.jpg', 'width': 640, 'height': 360, 'polygons': [{'name': 'polygon', 'all_points_x': [321, 430, 428, 318], 'all_points_y': [152, 178, 208, 191]}, {'name': 'polygon', 'all_points_x': [482, 535, 497, 456], 'all_points_y': [113, 73, 22, 93]}, {'name': 'polygon', 'all_points_x': [0, 61, 127, 2], 'all_points_y': [78, 180, 114, 45]}, {'name': 'polygon', 'all_points_x': [252, 257, 291, 318], 'all_points_y': [109, 197, 202, 116]}], 'num_ids': [4, 4, 4, 4]}\n",
      "Traceback (most recent call last):\n",
      "  File \"/home/melissap/miniconda3/envs/kumar/lib/python3.6/site-packages/mask_rcnn-2.1-py3.6.egg/mrcnn/model.py\", line 1709, in data_generator\n",
      "    use_mini_mask=config.USE_MINI_MASK)\n",
      "  File \"/home/melissap/miniconda3/envs/kumar/lib/python3.6/site-packages/mask_rcnn-2.1-py3.6.egg/mrcnn/model.py\", line 1275, in load_image_gt\n",
      "    source_class_ids = dataset.source_class_ids[dataset.image_info[image_id][\"source\"]]\n",
      "KeyError: 'adult'WARNING:root:You are using the default load_mask(), maybe you need to define your own one."
     ]
    },
    {
     "name": "stdout",
     "output_type": "stream",
     "text": [
      "\n"
     ]
    },
    {
     "name": "stderr",
     "output_type": "stream",
     "text": [
      "WARNING:root:You are using the default load_mask(), maybe you need to define your own one.ERROR:root:Error processing image {'id': '37_010001.jpg', 'source': 'pupae', 'path': '/data/CoRoSect/10.code/maskRCNN/Mask_RCNN_matterport/mask_rcnn/datasets/Nasekomo_insects/37/trainvalid/37_010001.jpg', 'width': 640, 'height': 360, 'polygons': [{'name': 'polygon', 'all_points_x': [197, 214, 190, 140], 'all_points_y': [0, 70, 82, 2]}, {'name': 'polygon', 'all_points_x': [514, 550, 532, 496], 'all_points_y': [10, 26, 55, 32]}, {'name': 'polygon', 'all_points_x': [461, 537, 556, 473], 'all_points_y': [123, 94, 115, 157]}, {'name': 'polygon', 'all_points_x': [447, 435, 500, 505], 'all_points_y': [1, 36, 13, 1]}, {'name': 'polygon', 'all_points_x': [480, 434, 406, 442], 'all_points_y': [67, 133, 126, 63]}, {'name': 'polygon', 'all_points_x': [557, 636, 639, 604], 'all_points_y': [357, 283, 330, 359]}, {'name': 'polygon', 'all_points_x': [294, 352, 372, 307], 'all_points_y': [326, 358, 346, 280]}, {'name': 'polygon', 'all_points_x': [327, 412, 385, 292], 'all_points_y': [241, 344, 358, 260]}, {'name': 'polygon', 'all_points_x': [437, 493, 518, 459], 'all_points_y': [273, 236, 264, 298]}, {'name': 'polygon', 'all_points_x': [483, 565, 551, 462], 'all_points_y': [327, 271, 245, 302]}, {'name': 'polygon', 'all_points_x': [547, 638, 626, 537], 'all_points_y': [316, 290, 251, 282]}, {'name': 'polygon', 'all_points_x': [592, 614, 581, 564], 'all_points_y': [203, 254, 267, 197]}, {'name': 'polygon', 'all_points_x': [559, 574, 541, 523], 'all_points_y': [166, 240, 241, 160]}, {'name': 'polygon', 'all_points_x': [502, 554, 517, 477], 'all_points_y': [192, 250, 263, 207]}, {'name': 'polygon', 'all_points_x': [416, 529, 530, 456], 'all_points_y': [206, 179, 150, 164]}, {'name': 'polygon', 'all_points_x': [509, 431, 416, 493], 'all_points_y': [43, 73, 46, 14]}, {'name': 'polygon', 'all_points_x': [435, 405, 378, 408], 'all_points_y': [73, 126, 97, 52]}, {'name': 'polygon', 'all_points_x': [318, 422, 400, 341], 'all_points_y': [105, 132, 162, 148]}, {'name': 'polygon', 'all_points_x': [269, 341, 337, 270], 'all_points_y': [152, 158, 112, 115]}, {'name': 'polygon', 'all_points_x': [273, 386, 383, 265], 'all_points_y': [202, 184, 153, 173]}, {'name': 'polygon', 'all_points_x': [414, 474, 448, 384], 'all_points_y': [198, 153, 115, 178]}, {'name': 'polygon', 'all_points_x': [309, 398, 324, 284], 'all_points_y': [34, 123, 103, 42]}, {'name': 'polygon', 'all_points_x': [204, 295, 306, 231], 'all_points_y': [75, 40, 75, 107]}, {'name': 'polygon', 'all_points_x': [221, 253, 270, 237], 'all_points_y': [144, 163, 130, 104]}, {'name': 'polygon', 'all_points_x': [170, 212, 214, 163], 'all_points_y': [145, 153, 133, 108]}, {'name': 'polygon', 'all_points_x': [165, 213, 227, 168], 'all_points_y': [87, 138, 118, 49]}, {'name': 'polygon', 'all_points_x': [159, 285, 291, 189], 'all_points_y': [185, 264, 251, 142]}, {'name': 'polygon', 'all_points_x': [196, 208, 251, 239], 'all_points_y': [215, 340, 337, 227]}], 'num_ids': [3, 3, 3, 3, 3, 3, 3, 3, 3, 3, 3, 3, 3, 3, 3, 3, 3, 3, 3, 3, 3, 3, 3, 3, 3, 3, 3, 3]}\n",
      "Traceback (most recent call last):\n",
      "  File \"/home/melissap/miniconda3/envs/kumar/lib/python3.6/site-packages/mask_rcnn-2.1-py3.6.egg/mrcnn/model.py\", line 1709, in data_generator\n",
      "    use_mini_mask=config.USE_MINI_MASK)\n",
      "  File \"/home/melissap/miniconda3/envs/kumar/lib/python3.6/site-packages/mask_rcnn-2.1-py3.6.egg/mrcnn/model.py\", line 1275, in load_image_gt\n",
      "    source_class_ids = dataset.source_class_ids[dataset.image_info[image_id][\"source\"]]\n",
      "KeyError: 'pupae'WARNING:root:You are using the default load_mask(), maybe you need to define your own one.\n"
     ]
    },
    {
     "name": "stdout",
     "output_type": "stream",
     "text": [
      "\n"
     ]
    },
    {
     "name": "stderr",
     "output_type": "stream",
     "text": [
      "\n",
      "\n",
      "\n",
      "\n"
     ]
    },
    {
     "name": "stdout",
     "output_type": "stream",
     "text": [
      "(array([], shape=(0, 0, 0), dtype=float64), array([], dtype=int32))"
     ]
    },
    {
     "name": "stderr",
     "output_type": "stream",
     "text": [
      "WARNING:root:You are using the default load_mask(), maybe you need to define your own one.WARNING:root:You are using the default load_mask(), maybe you need to define your own one.\n",
      "\n",
      "WARNING:root:You are using the default load_mask(), maybe you need to define your own one."
     ]
    },
    {
     "name": "stdout",
     "output_type": "stream",
     "text": [
      "(array([], shape=(0, 0, 0), dtype=float64), array([], dtype=int32))"
     ]
    },
    {
     "name": "stderr",
     "output_type": "stream",
     "text": [
      "\n"
     ]
    },
    {
     "name": "stdout",
     "output_type": "stream",
     "text": [
      "\n"
     ]
    },
    {
     "name": "stderr",
     "output_type": "stream",
     "text": [
      "\n",
      "WARNING:root:You are using the default load_mask(), maybe you need to define your own one.WARNING:root:You are using the default load_mask(), maybe you need to define your own one.\n",
      "\n",
      "\n",
      "ERROR:root:Error processing image {'id': '25_290001.jpg', 'source': 'pupae', 'path': '/data/CoRoSect/10.code/maskRCNN/Mask_RCNN_matterport/mask_rcnn/datasets/Nasekomo_insects/25/trainvalid/25_290001.jpg', 'width': 640, 'height': 360, 'polygons': [{'name': 'polygon', 'all_points_x': [142, 208, 191, 132], 'all_points_y': [313, 297, 270, 278]}, {'name': 'polygon', 'all_points_x': [640, 611, 577, 601], 'all_points_y': [241, 339, 327, 240]}, {'name': 'polygon', 'all_points_x': [450, 534, 521, 475], 'all_points_y': [163, 191, 210, 202]}, {'name': 'polygon', 'all_points_x': [397, 396, 371, 377], 'all_points_y': [3, 76, 45, 3]}, {'name': 'polygon', 'all_points_x': [347, 382, 396, 370], 'all_points_y': [60, 107, 76, 35]}, {'name': 'polygon', 'all_points_x': [250, 236, 286, 275], 'all_points_y': [104, 153, 133, 111]}, {'name': 'polygon', 'all_points_x': [228, 284, 322, 241], 'all_points_y': [178, 170, 134, 135]}, {'name': 'polygon', 'all_points_x': [61, 143, 83, 52], 'all_points_y': [166, 213, 209, 177]}, {'name': 'polygon', 'all_points_x': [316, 353, 328, 289], 'all_points_y': [249, 194, 182, 232]}, {'name': 'polygon', 'all_points_x': [325, 278, 248, 284], 'all_points_y': [181, 251, 238, 175]}, {'name': 'polygon', 'all_points_x': [431, 494, 459, 412], 'all_points_y': [222, 280, 285, 243]}, {'name': 'polygon', 'all_points_x': [405, 375, 408, 434], 'all_points_y': [32, 145, 140, 33]}, {'name': 'polygon', 'all_points_x': [219, 276, 294, 262], 'all_points_y': [90, 38, 45, 92]}, {'name': 'polygon', 'all_points_x': [305, 380, 388, 301], 'all_points_y': [40, 35, 7, 5]}, {'name': 'polygon', 'all_points_x': [160, 221, 227, 191], 'all_points_y': [67, 31, 39, 103]}, {'name': 'polygon', 'all_points_x': [147, 145, 170, 180], 'all_points_y': [172, 226, 230, 168]}, {'name': 'polygon', 'all_points_x': [184, 235, 214, 168], 'all_points_y': [178, 298, 313, 226]}], 'num_ids': [3, 3, 3, 3, 3, 3, 3, 3, 3, 3, 3, 3, 3, 3, 3, 3, 3]}\n",
      "Traceback (most recent call last):\n",
      "  File \"/home/melissap/miniconda3/envs/kumar/lib/python3.6/site-packages/mask_rcnn-2.1-py3.6.egg/mrcnn/model.py\", line 1709, in data_generator\n",
      "    use_mini_mask=config.USE_MINI_MASK)\n",
      "  File \"/home/melissap/miniconda3/envs/kumar/lib/python3.6/site-packages/mask_rcnn-2.1-py3.6.egg/mrcnn/model.py\", line 1275, in load_image_gt\n",
      "    source_class_ids = dataset.source_class_ids[dataset.image_info[image_id][\"source\"]]\n",
      "KeyError: 'pupae'WARNING:root:You are using the default load_mask(), maybe you need to define your own one.ERROR:root:Error processing image {'id': '1_150001.jpg', 'source': 'eggs', 'path': '/data/CoRoSect/10.code/maskRCNN/Mask_RCNN_matterport/mask_rcnn/datasets/Nasekomo_insects/1/trainvalid/1_150001.jpg', 'width': 640, 'height': 360, 'polygons': [{'name': 'polygon', 'all_points_x': [88, 100, 105, 98], 'all_points_y': [129, 120, 124, 135]}, {'name': 'polygon', 'all_points_x': [361, 370, 380, 374], 'all_points_y': [206, 200, 210, 219]}, {'name': 'polygon', 'all_points_x': [383, 390, 382, 373], 'all_points_y': [189, 198, 211, 199]}, {'name': 'polygon', 'all_points_x': [395, 409, 390, 385], 'all_points_y': [199, 222, 222, 210]}, {'name': 'polygon', 'all_points_x': [312, 313, 327, 327], 'all_points_y': [29, 40, 43, 24]}, {'name': 'polygon', 'all_points_x': [315, 325, 323, 310], 'all_points_y': [43, 44, 55, 63]}, {'name': 'polygon', 'all_points_x': [352, 355, 372, 364], 'all_points_y': [29, 38, 30, 21]}, {'name': 'polygon', 'all_points_x': [267, 258, 259, 272], 'all_points_y': [67, 76, 89, 88]}, {'name': 'polygon', 'all_points_x': [190, 197, 179, 172], 'all_points_y': [78, 65, 63, 76]}, {'name': 'polygon', 'all_points_x': [237, 259, 245, 238], 'all_points_y': [181, 182, 200, 200]}, {'name': 'polygon', 'all_points_x': [266, 279, 276, 257], 'all_points_y': [181, 193, 206, 195]}, {'name': 'polygon', 'all_points_x': [53, 53, 70, 71], 'all_points_y': [197, 220, 220, 199]}, {'name': 'polygon', 'all_points_x': [452, 447, 442, 443], 'all_points_y': [31, 47, 44, 29]}, {'name': 'polygon', 'all_points_x': [549, 556, 546, 539], 'all_points_y': [237, 233, 224, 226]}, {'name': 'polygon', 'all_points_x': [415, 428, 435, 424], 'all_points_y': [40, 27, 29, 49]}, {'name': 'polygon', 'all_points_x': [398, 414, 412, 396], 'all_points_y': [53, 54, 65, 60]}, {'name': 'polygon', 'all_points_x': [443, 441, 434, 424], 'all_points_y': [57, 34, 34, 54]}, {'name': 'polygon', 'all_points_x': [394, 414, 413, 392], 'all_points_y': [64, 66, 78, 78]}, {'name': 'polygon', 'all_points_x': [55, 50, 68, 67], 'all_points_y': [115, 139, 142, 116]}, {'name': 'polygon', 'all_points_x': [307, 320, 312, 297], 'all_points_y': [198, 186, 176, 185]}, {'name': 'polygon', 'all_points_x': [469, 461, 450, 461], 'all_points_y': [92, 109, 106, 88]}, {'name': 'polygon', 'all_points_x': [170, 184, 168, 152], 'all_points_y': [358, 345, 332, 357]}], 'num_ids': [1, 1, 1, 1, 1, 1, 1, 1, 1, 1, 1, 1, 1, 1, 1, 1, 1, 1, 1, 1, 1, 1]}\n",
      "Traceback (most recent call last):\n",
      "  File \"/home/melissap/miniconda3/envs/kumar/lib/python3.6/site-packages/mask_rcnn-2.1-py3.6.egg/mrcnn/model.py\", line 1709, in data_generator\n",
      "    use_mini_mask=config.USE_MINI_MASK)\n",
      "  File \"/home/melissap/miniconda3/envs/kumar/lib/python3.6/site-packages/mask_rcnn-2.1-py3.6.egg/mrcnn/model.py\", line 1275, in load_image_gt\n",
      "    source_class_ids = dataset.source_class_ids[dataset.image_info[image_id][\"source\"]]\n",
      "KeyError: 'eggs'WARNING:root:You are using the default load_mask(), maybe you need to define your own one.ERROR:root:Error processing image {'id': '19_170001.jpg', 'source': 'larvae', 'path': '/data/CoRoSect/10.code/maskRCNN/Mask_RCNN_matterport/mask_rcnn/datasets/Nasekomo_insects/19/trainvalid/19_170001.jpg', 'width': 640, 'height': 360, 'polygons': [{'name': 'polygon', 'all_points_x': [547, 571, 598, 575], 'all_points_y': [28, 77, 64, 22]}, {'name': 'polygon', 'all_points_x': [604, 632, 580, 584], 'all_points_y': [53, 123, 92, 57]}, {'name': 'polygon', 'all_points_x': [0, 40, 44, 0], 'all_points_y': [23, 10, 42, 59]}, {'name': 'polygon', 'all_points_x': [1, 28, 4, 1], 'all_points_y': [95, 62, 54, 64]}, {'name': 'polygon', 'all_points_x': [65, 83, 107, 85], 'all_points_y': [342, 359, 359, 336]}, {'name': 'polygon', 'all_points_x': [136, 133, 101, 100], 'all_points_y': [358, 318, 312, 357]}, {'name': 'polygon', 'all_points_x': [184, 154, 133, 168], 'all_points_y': [307, 237, 244, 331]}, {'name': 'polygon', 'all_points_x': [231, 245, 276, 252], 'all_points_y': [178, 287, 299, 185]}, {'name': 'polygon', 'all_points_x': [537, 517, 490, 513], 'all_points_y': [30, 66, 55, 34]}, {'name': 'polygon', 'all_points_x': [468, 453, 497, 497], 'all_points_y': [172, 220, 233, 171]}, {'name': 'polygon', 'all_points_x': [571, 602, 618, 559], 'all_points_y': [342, 341, 324, 313]}, {'name': 'polygon', 'all_points_x': [605, 638, 622, 599], 'all_points_y': [270, 245, 226, 245]}, {'name': 'polygon', 'all_points_x': [562, 555, 518, 546], 'all_points_y': [248, 325, 337, 233]}, {'name': 'polygon', 'all_points_x': [581, 614, 587, 550], 'all_points_y': [181, 311, 314, 185]}, {'name': 'polygon', 'all_points_x': [573, 640, 639, 581], 'all_points_y': [83, 137, 171, 125]}, {'name': 'polygon', 'all_points_x': [596, 625, 580, 563], 'all_points_y': [135, 206, 211, 138]}, {'name': 'polygon', 'all_points_x': [515, 547, 578, 540], 'all_points_y': [135, 178, 164, 122]}, {'name': 'polygon', 'all_points_x': [454, 507, 532, 504], 'all_points_y': [158, 206, 178, 155]}, {'name': 'polygon', 'all_points_x': [393, 455, 454, 395], 'all_points_y': [315, 314, 290, 296]}, {'name': 'polygon', 'all_points_x': [428, 433, 468, 460], 'all_points_y': [209, 293, 290, 204]}, {'name': 'polygon', 'all_points_x': [450, 412, 385, 430], 'all_points_y': [192, 218, 195, 168]}, {'name': 'polygon', 'all_points_x': [431, 408, 337, 369], 'all_points_y': [226, 287, 287, 232]}, {'name': 'polygon', 'all_points_x': [254, 298, 278, 231], 'all_points_y': [20, 76, 88, 43]}, {'name': 'polygon', 'all_points_x': [127, 211, 226, 144], 'all_points_y': [34, 54, 25, 5]}, {'name': 'polygon', 'all_points_x': [256, 287, 216, 211], 'all_points_y': [7, 105, 111, 14]}, {'name': 'polygon', 'all_points_x': [348, 435, 439, 372], 'all_points_y': [168, 140, 165, 187]}, {'name': 'polygon', 'all_points_x': [321, 397, 415, 343], 'all_points_y': [207, 238, 213, 177]}, {'name': 'polygon', 'all_points_x': [298, 353, 365, 294], 'all_points_y': [268, 264, 237, 242]}, {'name': 'polygon', 'all_points_x': [2, 70, 45, 0], 'all_points_y': [284, 255, 230, 255]}, {'name': 'polygon', 'all_points_x': [162, 146, 178, 200], 'all_points_y': [145, 244, 247, 142]}], 'num_ids': [2, 2, 2, 2, 2, 2, 2, 2, 2, 2, 2, 2, 2, 2, 2, 2, 2, 2, 2, 2, 2, 2, 2, 2, 2, 2, 2, 2, 2, 2]}\n",
      "Traceback (most recent call last):\n",
      "  File \"/home/melissap/miniconda3/envs/kumar/lib/python3.6/site-packages/mask_rcnn-2.1-py3.6.egg/mrcnn/model.py\", line 1709, in data_generator\n",
      "    use_mini_mask=config.USE_MINI_MASK)\n",
      "  File \"/home/melissap/miniconda3/envs/kumar/lib/python3.6/site-packages/mask_rcnn-2.1-py3.6.egg/mrcnn/model.py\", line 1275, in load_image_gt\n",
      "    source_class_ids = dataset.source_class_ids[dataset.image_info[image_id][\"source\"]]\n"
     ]
    },
    {
     "name": "stderr",
     "output_type": "stream",
     "text": [
      "KeyError: 'larvae'WARNING:root:You are using the default load_mask(), maybe you need to define your own one."
     ]
    },
    {
     "name": "stdout",
     "output_type": "stream",
     "text": [
      "\n"
     ]
    },
    {
     "name": "stderr",
     "output_type": "stream",
     "text": [
      "\n",
      "\n"
     ]
    },
    {
     "name": "stdout",
     "output_type": "stream",
     "text": [
      "(array([], shape=(0, 0, 0), dtype=float64), array([], dtype=int32))"
     ]
    },
    {
     "name": "stderr",
     "output_type": "stream",
     "text": [
      "\n",
      "\n",
      "WARNING:root:You are using the default load_mask(), maybe you need to define your own one.ERROR:root:Error processing image {'id': '25_020001.jpg', 'source': 'pupae', 'path': '/data/CoRoSect/10.code/maskRCNN/Mask_RCNN_matterport/mask_rcnn/datasets/Nasekomo_insects/25/trainvalid/25_020001.jpg', 'width': 640, 'height': 360, 'polygons': [{'name': 'polygon', 'all_points_x': [402, 477, 480, 408], 'all_points_y': [34, 35, 52, 71]}, {'name': 'polygon', 'all_points_x': [206, 215, 190, 174], 'all_points_y': [240, 187, 163, 235]}, {'name': 'polygon', 'all_points_x': [404, 447, 435, 395], 'all_points_y': [276, 285, 263, 256]}, {'name': 'polygon', 'all_points_x': [407, 435, 445, 428], 'all_points_y': [162, 210, 196, 146]}, {'name': 'polygon', 'all_points_x': [84, 143, 135, 84], 'all_points_y': [89, 71, 44, 63]}, {'name': 'polygon', 'all_points_x': [108, 91, 76, 77], 'all_points_y': [185, 248, 233, 178]}, {'name': 'polygon', 'all_points_x': [233, 308, 329, 231], 'all_points_y': [329, 334, 357, 358]}, {'name': 'polygon', 'all_points_x': [538, 561, 511, 509], 'all_points_y': [70, 178, 151, 90]}, {'name': 'polygon', 'all_points_x': [557, 631, 613, 550], 'all_points_y': [44, 73, 98, 73]}, {'name': 'polygon', 'all_points_x': [638, 606, 619, 639], 'all_points_y': [130, 185, 210, 184]}, {'name': 'polygon', 'all_points_x': [510, 511, 477, 484], 'all_points_y': [80, 189, 148, 76]}, {'name': 'polygon', 'all_points_x': [554, 563, 533, 529], 'all_points_y': [169, 252, 242, 205]}, {'name': 'polygon', 'all_points_x': [497, 536, 560, 522], 'all_points_y': [231, 341, 332, 216]}, {'name': 'polygon', 'all_points_x': [374, 338, 315, 334], 'all_points_y': [358, 300, 312, 357]}, {'name': 'polygon', 'all_points_x': [359, 412, 370, 339], 'all_points_y': [322, 264, 257, 308]}, {'name': 'polygon', 'all_points_x': [0, 36, 54, 1], 'all_points_y': [318, 302, 256, 279]}, {'name': 'polygon', 'all_points_x': [2, 64, 79, 2], 'all_points_y': [116, 139, 108, 73]}, {'name': 'polygon', 'all_points_x': [152, 216, 201, 133], 'all_points_y': [30, 72, 94, 51]}, {'name': 'polygon', 'all_points_x': [358, 366, 315, 323], 'all_points_y': [98, 82, 60, 86]}, {'name': 'polygon', 'all_points_x': [287, 325, 307, 272], 'all_points_y': [77, 33, 26, 70]}, {'name': 'polygon', 'all_points_x': [279, 255, 211, 250], 'all_points_y': [37, 97, 97, 13]}, {'name': 'polygon', 'all_points_x': [308, 372, 359, 277], 'all_points_y': [125, 199, 218, 146]}, {'name': 'polygon', 'all_points_x': [178, 146, 116, 147], 'all_points_y': [199, 273, 259, 205]}, {'name': 'polygon', 'all_points_x': [73, 61, 25, 48], 'all_points_y': [272, 358, 356, 264]}, {'name': 'polygon', 'all_points_x': [72, 134, 157, 89], 'all_points_y': [132, 106, 127, 165]}, {'name': 'polygon', 'all_points_x': [139, 252, 273, 159], 'all_points_y': [111, 220, 206, 88]}], 'num_ids': [3, 3, 3, 3, 3, 3, 3, 3, 3, 3, 3, 3, 3, 3, 3, 3, 3, 3, 3, 3, 3, 3, 3, 3, 3, 3]}\n",
      "Traceback (most recent call last):\n",
      "  File \"/home/melissap/miniconda3/envs/kumar/lib/python3.6/site-packages/mask_rcnn-2.1-py3.6.egg/mrcnn/model.py\", line 1709, in data_generator\n",
      "    use_mini_mask=config.USE_MINI_MASK)\n",
      "  File \"/home/melissap/miniconda3/envs/kumar/lib/python3.6/site-packages/mask_rcnn-2.1-py3.6.egg/mrcnn/model.py\", line 1275, in load_image_gt\n",
      "    source_class_ids = dataset.source_class_ids[dataset.image_info[image_id][\"source\"]]\n",
      "KeyError: 'pupae'\n",
      "WARNING:root:You are using the default load_mask(), maybe you need to define your own one.ERROR:root:Error processing image {'id': '40_260001.jpg', 'source': 'adult', 'path': '/data/CoRoSect/10.code/maskRCNN/Mask_RCNN_matterport/mask_rcnn/datasets/Nasekomo_insects/40/trainvalid/40_260001.jpg', 'width': 640, 'height': 360, 'polygons': [{'name': 'polygon', 'all_points_x': [502, 466, 444, 495], 'all_points_y': [238, 286, 272, 228]}, {'name': 'polygon', 'all_points_x': [632, 640, 640, 616], 'all_points_y': [9, 9, 92, 78]}, {'name': 'polygon', 'all_points_x': [601, 602, 630, 634], 'all_points_y': [85, 146, 146, 75]}, {'name': 'polygon', 'all_points_x': [639, 624, 629, 639], 'all_points_y': [92, 101, 202, 204]}, {'name': 'polygon', 'all_points_x': [326, 266, 292, 339], 'all_points_y': [237, 245, 211, 199]}, {'name': 'polygon', 'all_points_x': [551, 553, 523, 530], 'all_points_y': [297, 359, 357, 292]}, {'name': 'polygon', 'all_points_x': [556, 541, 560, 580], 'all_points_y': [244, 272, 280, 249]}, {'name': 'polygon', 'all_points_x': [560, 625, 639, 574], 'all_points_y': [285, 287, 259, 254]}, {'name': 'polygon', 'all_points_x': [598, 639, 639, 571], 'all_points_y': [350, 314, 270, 349]}, {'name': 'polygon', 'all_points_x': [413, 499, 474, 399], 'all_points_y': [298, 227, 211, 256]}, {'name': 'polygon', 'all_points_x': [480, 594, 596, 485], 'all_points_y': [221, 249, 211, 176]}, {'name': 'polygon', 'all_points_x': [629, 631, 599, 599], 'all_points_y': [141, 226, 251, 136]}, {'name': 'polygon', 'all_points_x': [544, 600, 603, 565], 'all_points_y': [90, 131, 97, 67]}, {'name': 'polygon', 'all_points_x': [449, 523, 513, 466], 'all_points_y': [68, 111, 131, 114]}, {'name': 'polygon', 'all_points_x': [499, 624, 617, 496], 'all_points_y': [53, 33, 5, 26]}, {'name': 'polygon', 'all_points_x': [441, 477, 440, 418], 'all_points_y': [38, 148, 138, 41]}, {'name': 'polygon', 'all_points_x': [415, 429, 391, 374], 'all_points_y': [7, 137, 140, 5]}, {'name': 'polygon', 'all_points_x': [10, 80, 69, 4], 'all_points_y': [135, 88, 47, 98]}, {'name': 'polygon', 'all_points_x': [192, 228, 209, 180], 'all_points_y': [140, 167, 187, 167]}, {'name': 'polygon', 'all_points_x': [302, 262, 232, 283], 'all_points_y': [278, 359, 358, 268]}, {'name': 'polygon', 'all_points_x': [178, 239, 256, 242], 'all_points_y': [322, 347, 316, 306]}, {'name': 'polygon', 'all_points_x': [104, 174, 123, 71], 'all_points_y': [275, 356, 360, 304]}, {'name': 'polygon', 'all_points_x': [65, 0, 16, 45], 'all_points_y': [322, 271, 237, 261]}, {'name': 'polygon', 'all_points_x': [0, 20, 16, 2], 'all_points_y': [259, 227, 213, 225]}, {'name': 'polygon', 'all_points_x': [14, 64, 92, 40], 'all_points_y': [189, 309, 286, 176]}, {'name': 'polygon', 'all_points_x': [93, 65, 95, 124], 'all_points_y': [57, 181, 177, 68]}, {'name': 'polygon', 'all_points_x': [46, 61, 85, 70], 'all_points_y': [172, 275, 275, 178]}, {'name': 'polygon', 'all_points_x': [79, 140, 178, 97], 'all_points_y': [228, 318, 292, 206]}, {'name': 'polygon', 'all_points_x': [152, 178, 88, 61], 'all_points_y': [262, 240, 174, 195]}, {'name': 'polygon', 'all_points_x': [187, 144, 130, 165], 'all_points_y': [213, 165, 181, 224]}, {'name': 'polygon', 'all_points_x': [163, 208, 176, 140], 'all_points_y': [139, 194, 209, 162]}, {'name': 'polygon', 'all_points_x': [214, 271, 298, 245], 'all_points_y': [133, 246, 232, 123]}, {'name': 'polygon', 'all_points_x': [374, 463, 488, 390], 'all_points_y': [196, 240, 211, 162]}, {'name': 'polygon', 'all_points_x': [226, 242, 206, 189], 'all_points_y': [229, 272, 288, 242]}, {'name': 'polygon', 'all_points_x': [213, 149, 126, 183], 'all_points_y': [2, 99, 88, 1]}, {'name': 'polygon', 'all_points_x': [199, 259, 254, 168], 'all_points_y': [44, 95, 126, 77]}, {'name': 'polygon', 'all_points_x': [201, 120, 88, 169], 'all_points_y': [98, 189, 177, 76]}], 'num_ids': [4, 4, 4, 4, 4, 4, 4, 4, 4, 4, 4, 4, 4, 4, 4, 4, 4, 4, 4, 4, 4, 4, 4, 4, 4, 4, 4, 4, 4, 4, 4, 4, 4, 4, 4, 4, 4]}\n",
      "Traceback (most recent call last):\n",
      "  File \"/home/melissap/miniconda3/envs/kumar/lib/python3.6/site-packages/mask_rcnn-2.1-py3.6.egg/mrcnn/model.py\", line 1709, in data_generator\n",
      "    use_mini_mask=config.USE_MINI_MASK)\n",
      "  File \"/home/melissap/miniconda3/envs/kumar/lib/python3.6/site-packages/mask_rcnn-2.1-py3.6.egg/mrcnn/model.py\", line 1275, in load_image_gt\n",
      "    source_class_ids = dataset.source_class_ids[dataset.image_info[image_id][\"source\"]]\n",
      "KeyError: 'adult'WARNING:root:You are using the default load_mask(), maybe you need to define your own one."
     ]
    },
    {
     "name": "stdout",
     "output_type": "stream",
     "text": [
      "(array([], shape=(0, 0, 0), dtype=float64), array([], dtype=int32))"
     ]
    },
    {
     "name": "stderr",
     "output_type": "stream",
     "text": [
      "\n",
      "\n",
      "ERROR:root:Error processing image {'id': '40_070001.jpg', 'source': 'adult', 'path': '/data/CoRoSect/10.code/maskRCNN/Mask_RCNN_matterport/mask_rcnn/datasets/Nasekomo_insects/40/trainvalid/40_070001.jpg', 'width': 640, 'height': 360, 'polygons': [{'name': 'polygon', 'all_points_x': [245, 313, 318, 256], 'all_points_y': [53, 70, 43, 29]}, {'name': 'polygon', 'all_points_x': [302, 311, 288, 262], 'all_points_y': [158, 112, 91, 165]}, {'name': 'polygon', 'all_points_x': [617, 619, 638, 638], 'all_points_y': [359, 303, 298, 359]}, {'name': 'polygon', 'all_points_x': [582, 640, 637, 581], 'all_points_y': [324, 315, 270, 288]}, {'name': 'polygon', 'all_points_x': [256, 283, 271, 232], 'all_points_y': [167, 114, 114, 147]}, {'name': 'polygon', 'all_points_x': [532, 629, 621, 534], 'all_points_y': [159, 153, 116, 145]}, {'name': 'polygon', 'all_points_x': [529, 556, 592, 547], 'all_points_y': [248, 307, 317, 228]}, {'name': 'polygon', 'all_points_x': [515, 560, 611, 530], 'all_points_y': [314, 352, 337, 291]}, {'name': 'polygon', 'all_points_x': [505, 473, 434, 467], 'all_points_y': [313, 337, 310, 267]}, {'name': 'polygon', 'all_points_x': [441, 374, 354, 388], 'all_points_y': [311, 245, 258, 331]}, {'name': 'polygon', 'all_points_x': [350, 352, 376, 373], 'all_points_y': [226, 254, 246, 220]}, {'name': 'polygon', 'all_points_x': [398, 465, 436, 364], 'all_points_y': [215, 272, 307, 236]}, {'name': 'polygon', 'all_points_x': [459, 483, 480, 457], 'all_points_y': [239, 238, 212, 221]}, {'name': 'polygon', 'all_points_x': [484, 592, 588, 490], 'all_points_y': [207, 206, 237, 245]}, {'name': 'polygon', 'all_points_x': [513, 589, 625, 514], 'all_points_y': [190, 178, 205, 212]}, {'name': 'polygon', 'all_points_x': [498, 598, 622, 510], 'all_points_y': [124, 74, 112, 158]}, {'name': 'polygon', 'all_points_x': [428, 526, 523, 439], 'all_points_y': [35, 32, 2, 2]}, {'name': 'polygon', 'all_points_x': [445, 503, 482, 438], 'all_points_y': [67, 136, 156, 100]}, {'name': 'polygon', 'all_points_x': [389, 374, 419, 434], 'all_points_y': [1, 45, 52, 2]}, {'name': 'polygon', 'all_points_x': [211, 285, 321, 242], 'all_points_y': [120, 65, 73, 142]}, {'name': 'polygon', 'all_points_x': [379, 372, 394, 422], 'all_points_y': [46, 117, 125, 50]}, {'name': 'polygon', 'all_points_x': [445, 419, 382, 407], 'all_points_y': [72, 198, 190, 67]}, {'name': 'polygon', 'all_points_x': [359, 394, 377, 325], 'all_points_y': [278, 343, 359, 299]}, {'name': 'polygon', 'all_points_x': [389, 408, 454, 421], 'all_points_y': [327, 359, 357, 312]}, {'name': 'polygon', 'all_points_x': [321, 306, 267, 297], 'all_points_y': [340, 358, 357, 317]}, {'name': 'polygon', 'all_points_x': [238, 226, 269, 293], 'all_points_y': [302, 357, 359, 316]}, {'name': 'polygon', 'all_points_x': [302, 366, 326, 280], 'all_points_y': [285, 356, 343, 300]}, {'name': 'polygon', 'all_points_x': [225, 363, 341, 224], 'all_points_y': [240, 219, 195, 208]}], 'num_ids': [4, 4, 4, 4, 4, 4, 4, 4, 4, 4, 4, 4, 4, 4, 4, 4, 4, 4, 4, 4, 4, 4, 4, 4, 4, 4, 4, 4]}\n",
      "Traceback (most recent call last):\n",
      "  File \"/home/melissap/miniconda3/envs/kumar/lib/python3.6/site-packages/mask_rcnn-2.1-py3.6.egg/mrcnn/model.py\", line 1709, in data_generator\n",
      "    use_mini_mask=config.USE_MINI_MASK)\n",
      "  File \"/home/melissap/miniconda3/envs/kumar/lib/python3.6/site-packages/mask_rcnn-2.1-py3.6.egg/mrcnn/model.py\", line 1275, in load_image_gt\n",
      "    source_class_ids = dataset.source_class_ids[dataset.image_info[image_id][\"source\"]]\n",
      "KeyError: 'adult'\n"
     ]
    },
    {
     "name": "stdout",
     "output_type": "stream",
     "text": [
      "(array([], shape=(0, 0, 0), dtype=float64), array([], dtype=int32))"
     ]
    },
    {
     "name": "stderr",
     "output_type": "stream",
     "text": [
      "\n"
     ]
    },
    {
     "name": "stdout",
     "output_type": "stream",
     "text": [
      "(array([], shape=(0, 0, 0), dtype=float64), array([], dtype=int32))"
     ]
    },
    {
     "name": "stderr",
     "output_type": "stream",
     "text": [
      "\n"
     ]
    },
    {
     "name": "stdout",
     "output_type": "stream",
     "text": [
      "\n",
      "(array([], shape=(0, 0, 0), dtype=float64), array([], dtype=int32))"
     ]
    },
    {
     "name": "stderr",
     "output_type": "stream",
     "text": [
      "\n"
     ]
    },
    {
     "name": "stdout",
     "output_type": "stream",
     "text": [
      "\n"
     ]
    },
    {
     "name": "stderr",
     "output_type": "stream",
     "text": [
      "\n"
     ]
    },
    {
     "name": "stdout",
     "output_type": "stream",
     "text": [
      "\n"
     ]
    },
    {
     "name": "stderr",
     "output_type": "stream",
     "text": [
      "\n",
      "WARNING:root:You are using the default load_mask(), maybe you need to define your own one."
     ]
    },
    {
     "name": "stdout",
     "output_type": "stream",
     "text": [
      "\n"
     ]
    },
    {
     "name": "stderr",
     "output_type": "stream",
     "text": [
      "\n"
     ]
    },
    {
     "name": "stdout",
     "output_type": "stream",
     "text": [
      "(array([], shape=(0, 0, 0), dtype=float64), array([], dtype=int32))"
     ]
    },
    {
     "name": "stderr",
     "output_type": "stream",
     "text": [
      "\n",
      "ERROR:root:Error processing image {'id': '40_070001.jpg', 'source': 'adult', 'path': '/data/CoRoSect/10.code/maskRCNN/Mask_RCNN_matterport/mask_rcnn/datasets/Nasekomo_insects/40/trainvalid/40_070001.jpg', 'width': 640, 'height': 360, 'polygons': [{'name': 'polygon', 'all_points_x': [245, 313, 318, 256], 'all_points_y': [53, 70, 43, 29]}, {'name': 'polygon', 'all_points_x': [302, 311, 288, 262], 'all_points_y': [158, 112, 91, 165]}, {'name': 'polygon', 'all_points_x': [617, 619, 638, 638], 'all_points_y': [359, 303, 298, 359]}, {'name': 'polygon', 'all_points_x': [582, 640, 637, 581], 'all_points_y': [324, 315, 270, 288]}, {'name': 'polygon', 'all_points_x': [256, 283, 271, 232], 'all_points_y': [167, 114, 114, 147]}, {'name': 'polygon', 'all_points_x': [532, 629, 621, 534], 'all_points_y': [159, 153, 116, 145]}, {'name': 'polygon', 'all_points_x': [529, 556, 592, 547], 'all_points_y': [248, 307, 317, 228]}, {'name': 'polygon', 'all_points_x': [515, 560, 611, 530], 'all_points_y': [314, 352, 337, 291]}, {'name': 'polygon', 'all_points_x': [505, 473, 434, 467], 'all_points_y': [313, 337, 310, 267]}, {'name': 'polygon', 'all_points_x': [441, 374, 354, 388], 'all_points_y': [311, 245, 258, 331]}, {'name': 'polygon', 'all_points_x': [350, 352, 376, 373], 'all_points_y': [226, 254, 246, 220]}, {'name': 'polygon', 'all_points_x': [398, 465, 436, 364], 'all_points_y': [215, 272, 307, 236]}, {'name': 'polygon', 'all_points_x': [459, 483, 480, 457], 'all_points_y': [239, 238, 212, 221]}, {'name': 'polygon', 'all_points_x': [484, 592, 588, 490], 'all_points_y': [207, 206, 237, 245]}, {'name': 'polygon', 'all_points_x': [513, 589, 625, 514], 'all_points_y': [190, 178, 205, 212]}, {'name': 'polygon', 'all_points_x': [498, 598, 622, 510], 'all_points_y': [124, 74, 112, 158]}, {'name': 'polygon', 'all_points_x': [428, 526, 523, 439], 'all_points_y': [35, 32, 2, 2]}, {'name': 'polygon', 'all_points_x': [445, 503, 482, 438], 'all_points_y': [67, 136, 156, 100]}, {'name': 'polygon', 'all_points_x': [389, 374, 419, 434], 'all_points_y': [1, 45, 52, 2]}, {'name': 'polygon', 'all_points_x': [211, 285, 321, 242], 'all_points_y': [120, 65, 73, 142]}, {'name': 'polygon', 'all_points_x': [379, 372, 394, 422], 'all_points_y': [46, 117, 125, 50]}, {'name': 'polygon', 'all_points_x': [445, 419, 382, 407], 'all_points_y': [72, 198, 190, 67]}, {'name': 'polygon', 'all_points_x': [359, 394, 377, 325], 'all_points_y': [278, 343, 359, 299]}, {'name': 'polygon', 'all_points_x': [389, 408, 454, 421], 'all_points_y': [327, 359, 357, 312]}, {'name': 'polygon', 'all_points_x': [321, 306, 267, 297], 'all_points_y': [340, 358, 357, 317]}, {'name': 'polygon', 'all_points_x': [238, 226, 269, 293], 'all_points_y': [302, 357, 359, 316]}, {'name': 'polygon', 'all_points_x': [302, 366, 326, 280], 'all_points_y': [285, 356, 343, 300]}, {'name': 'polygon', 'all_points_x': [225, 363, 341, 224], 'all_points_y': [240, 219, 195, 208]}], 'num_ids': [4, 4, 4, 4, 4, 4, 4, 4, 4, 4, 4, 4, 4, 4, 4, 4, 4, 4, 4, 4, 4, 4, 4, 4, 4, 4, 4, 4]}\n",
      "Traceback (most recent call last):\n",
      "  File \"/home/melissap/miniconda3/envs/kumar/lib/python3.6/site-packages/mask_rcnn-2.1-py3.6.egg/mrcnn/model.py\", line 1709, in data_generator\n",
      "    use_mini_mask=config.USE_MINI_MASK)\n",
      "  File \"/home/melissap/miniconda3/envs/kumar/lib/python3.6/site-packages/mask_rcnn-2.1-py3.6.egg/mrcnn/model.py\", line 1275, in load_image_gt\n",
      "    source_class_ids = dataset.source_class_ids[dataset.image_info[image_id][\"source\"]]\n",
      "KeyError: 'adult'"
     ]
    },
    {
     "name": "stdout",
     "output_type": "stream",
     "text": [
      "(array([], shape=(0, 0, 0), dtype=float64), array([], dtype=int32))"
     ]
    },
    {
     "name": "stderr",
     "output_type": "stream",
     "text": [
      "WARNING:root:You are using the default load_mask(), maybe you need to define your own one.WARNING:root:You are using the default load_mask(), maybe you need to define your own one.\n",
      "WARNING:root:You are using the default load_mask(), maybe you need to define your own one.WARNING:root:You are using the default load_mask(), maybe you need to define your own one.\n",
      "WARNING:root:You are using the default load_mask(), maybe you need to define your own one.ERROR:root:Error processing image {'id': '30_250001.jpg', 'source': 'pupae', 'path': '/data/CoRoSect/10.code/maskRCNN/Mask_RCNN_matterport/mask_rcnn/datasets/Nasekomo_insects/30/trainvalid/30_250001.jpg', 'width': 640, 'height': 360, 'polygons': [{'name': 'polygon', 'all_points_x': [69, 66, 117, 99], 'all_points_y': [105, 175, 141, 100]}, {'name': 'polygon', 'all_points_x': [166, 180, 144, 130], 'all_points_y': [159, 252, 252, 166]}, {'name': 'polygon', 'all_points_x': [598, 628, 634, 589], 'all_points_y': [44, 44, 103, 96]}, {'name': 'polygon', 'all_points_x': [604, 566, 529, 573], 'all_points_y': [75, 126, 101, 54]}, {'name': 'polygon', 'all_points_x': [237, 306, 277, 244], 'all_points_y': [82, 121, 156, 138]}, {'name': 'polygon', 'all_points_x': [367, 392, 419, 374], 'all_points_y': [203, 195, 275, 286]}, {'name': 'polygon', 'all_points_x': [347, 460, 458, 347], 'all_points_y': [307, 255, 332, 347]}, {'name': 'polygon', 'all_points_x': [227, 173, 206, 252], 'all_points_y': [89, 182, 185, 121]}, {'name': 'polygon', 'all_points_x': [283, 324, 297, 234], 'all_points_y': [58, 86, 111, 75]}, {'name': 'polygon', 'all_points_x': [511, 493, 535, 543], 'all_points_y': [38, 90, 102, 48]}, {'name': 'polygon', 'all_points_x': [529, 614, 625, 540], 'all_points_y': [45, 16, 46, 80]}, {'name': 'polygon', 'all_points_x': [468, 476, 423, 405], 'all_points_y': [66, 146, 159, 105]}, {'name': 'polygon', 'all_points_x': [344, 425, 403, 300], 'all_points_y': [5, 95, 128, 37]}, {'name': 'polygon', 'all_points_x': [315, 209, 176, 318], 'all_points_y': [46, 84, 74, 13]}, {'name': 'polygon', 'all_points_x': [504, 615, 546, 475], 'all_points_y': [273, 322, 338, 288]}, {'name': 'polygon', 'all_points_x': [5, 92, 79, 1], 'all_points_y': [285, 322, 359, 315]}, {'name': 'polygon', 'all_points_x': [83, 224, 219, 78], 'all_points_y': [304, 271, 251, 262]}, {'name': 'polygon', 'all_points_x': [364, 409, 439, 407], 'all_points_y': [116, 113, 235, 243]}], 'num_ids': [3, 3, 3, 3, 3, 3, 3, 3, 3, 3, 3, 3, 3, 3, 3, 3, 3, 3]}\n",
      "Traceback (most recent call last):\n",
      "  File \"/home/melissap/miniconda3/envs/kumar/lib/python3.6/site-packages/mask_rcnn-2.1-py3.6.egg/mrcnn/model.py\", line 1709, in data_generator\n",
      "    use_mini_mask=config.USE_MINI_MASK)\n",
      "  File \"/home/melissap/miniconda3/envs/kumar/lib/python3.6/site-packages/mask_rcnn-2.1-py3.6.egg/mrcnn/model.py\", line 1275, in load_image_gt\n",
      "    source_class_ids = dataset.source_class_ids[dataset.image_info[image_id][\"source\"]]\n",
      "KeyError: 'pupae'"
     ]
    },
    {
     "name": "stdout",
     "output_type": "stream",
     "text": [
      "\n"
     ]
    },
    {
     "name": "stderr",
     "output_type": "stream",
     "text": [
      "\n",
      "WARNING:root:You are using the default load_mask(), maybe you need to define your own one."
     ]
    },
    {
     "name": "stdout",
     "output_type": "stream",
     "text": [
      "\n"
     ]
    },
    {
     "name": "stderr",
     "output_type": "stream",
     "text": [
      "\n",
      "\n",
      "\n",
      "\n",
      "WARNING:root:You are using the default load_mask(), maybe you need to define your own one.WARNING:root:You are using the default load_mask(), maybe you need to define your own one.WARNING:root:You are using the default load_mask(), maybe you need to define your own one."
     ]
    },
    {
     "name": "stdout",
     "output_type": "stream",
     "text": [
      "(array([], shape=(0, 0, 0), dtype=float64), array([], dtype=int32))(array([], shape=(0, 0, 0), dtype=float64), array([], dtype=int32))(array([], shape=(0, 0, 0), dtype=float64), array([], dtype=int32))"
     ]
    },
    {
     "name": "stderr",
     "output_type": "stream",
     "text": [
      "WARNING:root:You are using the default load_mask(), maybe you need to define your own one."
     ]
    },
    {
     "name": "stdout",
     "output_type": "stream",
     "text": [
      "\n",
      "\n"
     ]
    },
    {
     "name": "stderr",
     "output_type": "stream",
     "text": [
      "\n",
      "WARNING:root:You are using the default load_mask(), maybe you need to define your own one.\n",
      "\n",
      "\n",
      "WARNING:root:You are using the default load_mask(), maybe you need to define your own one.WARNING:root:You are using the default load_mask(), maybe you need to define your own one."
     ]
    },
    {
     "name": "stdout",
     "output_type": "stream",
     "text": [
      "\n",
      "(array([], shape=(0, 0, 0), dtype=float64), array([], dtype=int32))"
     ]
    },
    {
     "name": "stderr",
     "output_type": "stream",
     "text": [
      "\n",
      "\n"
     ]
    },
    {
     "name": "stdout",
     "output_type": "stream",
     "text": [
      "(array([], shape=(0, 0, 0), dtype=float64), array([], dtype=int32))"
     ]
    },
    {
     "name": "stderr",
     "output_type": "stream",
     "text": [
      "WARNING:root:You are using the default load_mask(), maybe you need to define your own one."
     ]
    },
    {
     "name": "stdout",
     "output_type": "stream",
     "text": [
      "\n",
      "\n"
     ]
    },
    {
     "name": "stderr",
     "output_type": "stream",
     "text": [
      "WARNING:root:You are using the default load_mask(), maybe you need to define your own one.ERROR:root:Error processing image {'id': '22_040001.jpg', 'source': 'pupae', 'path': '/data/CoRoSect/10.code/maskRCNN/Mask_RCNN_matterport/mask_rcnn/datasets/Nasekomo_insects/22/trainvalid/22_040001.jpg', 'width': 640, 'height': 360, 'polygons': [{'name': 'polygon', 'all_points_x': [188, 176, 198, 205], 'all_points_y': [86, 118, 117, 74]}, {'name': 'polygon', 'all_points_x': [192, 209, 196, 183], 'all_points_y': [151, 191, 226, 182]}, {'name': 'polygon', 'all_points_x': [227, 266, 238, 201], 'all_points_y': [238, 161, 136, 217]}, {'name': 'polygon', 'all_points_x': [202, 266, 278, 215], 'all_points_y': [112, 153, 108, 83]}, {'name': 'polygon', 'all_points_x': [57, 101, 127, 94], 'all_points_y': [357, 309, 317, 357]}, {'name': 'polygon', 'all_points_x': [215, 261, 265, 222], 'all_points_y': [72, 88, 65, 38]}, {'name': 'polygon', 'all_points_x': [399, 377, 358, 389], 'all_points_y': [76, 86, 62, 45]}, {'name': 'polygon', 'all_points_x': [321, 357, 387, 378], 'all_points_y': [1, 47, 40, 1]}, {'name': 'polygon', 'all_points_x': [88, 141, 150, 67], 'all_points_y': [137, 84, 42, 99]}, {'name': 'polygon', 'all_points_x': [134, 226, 214, 139], 'all_points_y': [126, 57, 33, 62]}, {'name': 'polygon', 'all_points_x': [49, 119, 129, 57], 'all_points_y': [189, 164, 194, 216]}, {'name': 'polygon', 'all_points_x': [49, 1, 0, 54], 'all_points_y': [259, 250, 196, 227]}, {'name': 'polygon', 'all_points_x': [2, 25, 27, 0], 'all_points_y': [289, 285, 253, 259]}, {'name': 'polygon', 'all_points_x': [12, 7, 35, 41], 'all_points_y': [330, 282, 260, 314]}, {'name': 'polygon', 'all_points_x': [128, 62, 36, 93], 'all_points_y': [213, 265, 245, 193]}, {'name': 'polygon', 'all_points_x': [63, 85, 48, 37], 'all_points_y': [264, 315, 327, 267]}, {'name': 'polygon', 'all_points_x': [184, 267, 260, 175], 'all_points_y': [322, 323, 297, 289]}, {'name': 'polygon', 'all_points_x': [440, 494, 479, 428], 'all_points_y': [62, 48, 23, 34]}, {'name': 'polygon', 'all_points_x': [539, 501, 556, 582], 'all_points_y': [45, 1, 2, 29]}, {'name': 'polygon', 'all_points_x': [554, 517, 532, 567], 'all_points_y': [85, 65, 43, 66]}, {'name': 'polygon', 'all_points_x': [471, 500, 535, 507], 'all_points_y': [3, 63, 58, 2]}, {'name': 'polygon', 'all_points_x': [615, 637, 638, 617], 'all_points_y': [48, 2, 78, 71]}, {'name': 'polygon', 'all_points_x': [639, 540, 570, 638], 'all_points_y': [117, 59, 21, 76]}, {'name': 'polygon', 'all_points_x': [639, 638, 551, 587], 'all_points_y': [132, 199, 196, 128]}, {'name': 'polygon', 'all_points_x': [560, 476, 467, 511], 'all_points_y': [331, 337, 304, 296]}, {'name': 'polygon', 'all_points_x': [541, 531, 507, 505], 'all_points_y': [311, 233, 235, 288]}, {'name': 'polygon', 'all_points_x': [584, 572, 598, 621], 'all_points_y': [358, 328, 321, 358]}, {'name': 'polygon', 'all_points_x': [639, 561, 591, 637], 'all_points_y': [357, 253, 255, 313]}, {'name': 'polygon', 'all_points_x': [530, 638, 637, 532], 'all_points_y': [253, 278, 239, 220]}, {'name': 'polygon', 'all_points_x': [402, 404, 367, 373], 'all_points_y': [117, 228, 224, 115]}, {'name': 'polygon', 'all_points_x': [456, 401, 441, 483], 'all_points_y': [156, 235, 249, 162]}, {'name': 'polygon', 'all_points_x': [460, 414, 405, 453], 'all_points_y': [318, 337, 357, 360]}, {'name': 'polygon', 'all_points_x': [274, 271, 329, 353], 'all_points_y': [268, 300, 360, 356]}, {'name': 'polygon', 'all_points_x': [285, 315, 311, 262], 'all_points_y': [215, 268, 308, 223]}, {'name': 'polygon', 'all_points_x': [358, 374, 344, 322], 'all_points_y': [287, 340, 357, 306]}, {'name': 'polygon', 'all_points_x': [323, 333, 306, 280], 'all_points_y': [359, 318, 309, 358]}, {'name': 'polygon', 'all_points_x': [294, 312, 275, 270], 'all_points_y': [107, 187, 209, 110]}], 'num_ids': [3, 3, 3, 3, 3, 3, 3, 3, 3, 3, 3, 3, 3, 3, 3, 3, 3, 3, 3, 3, 3, 3, 3, 3, 3, 3, 3, 3, 3, 3, 3, 3, 3, 3, 3, 3, 3]}\n",
      "Traceback (most recent call last):\n",
      "  File \"/home/melissap/miniconda3/envs/kumar/lib/python3.6/site-packages/mask_rcnn-2.1-py3.6.egg/mrcnn/model.py\", line 1709, in data_generator\n",
      "    use_mini_mask=config.USE_MINI_MASK)\n",
      "  File \"/home/melissap/miniconda3/envs/kumar/lib/python3.6/site-packages/mask_rcnn-2.1-py3.6.egg/mrcnn/model.py\", line 1275, in load_image_gt\n",
      "    source_class_ids = dataset.source_class_ids[dataset.image_info[image_id][\"source\"]]\n",
      "KeyError: 'pupae'\n",
      "\n",
      "WARNING:root:You are using the default load_mask(), maybe you need to define your own one.\n",
      "ERROR:root:Error processing image {'id': '22_210001.jpg', 'source': 'pupae', 'path': '/data/CoRoSect/10.code/maskRCNN/Mask_RCNN_matterport/mask_rcnn/datasets/Nasekomo_insects/22/trainvalid/22_210001.jpg', 'width': 640, 'height': 360, 'polygons': [{'name': 'polygon', 'all_points_x': [589, 603, 627, 620], 'all_points_y': [238, 276, 282, 235]}, {'name': 'polygon', 'all_points_x': [269, 242, 234, 258], 'all_points_y': [144, 125, 140, 161]}, {'name': 'polygon', 'all_points_x': [259, 294, 277, 251], 'all_points_y': [127, 107, 91, 115]}, {'name': 'polygon', 'all_points_x': [209, 240, 227, 181], 'all_points_y': [144, 120, 91, 127]}, {'name': 'polygon', 'all_points_x': [574, 624, 598, 566], 'all_points_y': [35, 31, 50, 50]}, {'name': 'polygon', 'all_points_x': [328, 380, 380, 345], 'all_points_y': [209, 240, 222, 196]}, {'name': 'polygon', 'all_points_x': [112, 127, 153, 146], 'all_points_y': [250, 300, 292, 263]}, {'name': 'polygon', 'all_points_x': [115, 163, 151, 97], 'all_points_y': [210, 234, 269, 238]}, {'name': 'polygon', 'all_points_x': [103, 126, 149, 114], 'all_points_y': [63, 149, 137, 57]}, {'name': 'polygon', 'all_points_x': [172, 150, 134, 156], 'all_points_y': [89, 136, 119, 78]}, {'name': 'polygon', 'all_points_x': [238, 292, 272, 214], 'all_points_y': [158, 182, 211, 174]}, {'name': 'polygon', 'all_points_x': [638, 638, 607, 604], 'all_points_y': [205, 169, 169, 199]}, {'name': 'polygon', 'all_points_x': [511, 543, 591, 565], 'all_points_y': [288, 263, 262, 285]}, {'name': 'polygon', 'all_points_x': [453, 460, 493, 468], 'all_points_y': [238, 271, 285, 235]}, {'name': 'polygon', 'all_points_x': [440, 524, 558, 472], 'all_points_y': [268, 332, 320, 248]}, {'name': 'polygon', 'all_points_x': [493, 490, 533, 524], 'all_points_y': [312, 357, 359, 329]}, {'name': 'polygon', 'all_points_x': [457, 494, 453, 440], 'all_points_y': [318, 358, 359, 322]}, {'name': 'polygon', 'all_points_x': [399, 421, 432, 411], 'all_points_y': [240, 250, 236, 223]}, {'name': 'polygon', 'all_points_x': [396, 443, 495, 445], 'all_points_y': [201, 204, 236, 260]}, {'name': 'polygon', 'all_points_x': [486, 530, 588, 584], 'all_points_y': [269, 228, 207, 254]}, {'name': 'polygon', 'all_points_x': [579, 517, 531, 584], 'all_points_y': [169, 194, 230, 210]}, {'name': 'polygon', 'all_points_x': [586, 638, 637, 596], 'all_points_y': [113, 129, 101, 96]}, {'name': 'polygon', 'all_points_x': [578, 584, 610, 590], 'all_points_y': [146, 204, 196, 126]}, {'name': 'polygon', 'all_points_x': [592, 639, 639, 597], 'all_points_y': [136, 140, 170, 169]}, {'name': 'polygon', 'all_points_x': [420, 441, 453, 446], 'all_points_y': [108, 82, 104, 116]}, {'name': 'polygon', 'all_points_x': [440, 486, 470, 449], 'all_points_y': [63, 84, 109, 103]}, {'name': 'polygon', 'all_points_x': [494, 514, 479, 478], 'all_points_y': [179, 172, 116, 152]}, {'name': 'polygon', 'all_points_x': [539, 505, 489, 517], 'all_points_y': [179, 101, 118, 188]}, {'name': 'polygon', 'all_points_x': [491, 527, 516, 471], 'all_points_y': [128, 76, 58, 112]}, {'name': 'polygon', 'all_points_x': [526, 612, 576, 515], 'all_points_y': [62, 77, 123, 88]}, {'name': 'polygon', 'all_points_x': [458, 470, 444, 437], 'all_points_y': [24, 41, 50, 36]}, {'name': 'polygon', 'all_points_x': [430, 406, 442, 446], 'all_points_y': [118, 174, 201, 120]}, {'name': 'polygon', 'all_points_x': [474, 505, 448, 442], 'all_points_y': [108, 199, 205, 115]}, {'name': 'polygon', 'all_points_x': [456, 517, 490, 433], 'all_points_y': [43, 53, 83, 59]}, {'name': 'polygon', 'all_points_x': [477, 431, 412, 440], 'all_points_y': [1, 46, 22, 1]}, {'name': 'polygon', 'all_points_x': [380, 412, 395, 353], 'all_points_y': [146, 176, 207, 159]}, {'name': 'polygon', 'all_points_x': [293, 348, 340, 261], 'all_points_y': [137, 181, 210, 167]}, {'name': 'polygon', 'all_points_x': [342, 396, 412, 352], 'all_points_y': [191, 238, 223, 167]}, {'name': 'polygon', 'all_points_x': [366, 401, 436, 388], 'all_points_y': [267, 302, 300, 250]}, {'name': 'polygon', 'all_points_x': [401, 446, 448, 417], 'all_points_y': [309, 349, 322, 301]}, {'name': 'polygon', 'all_points_x': [361, 381, 387, 319], 'all_points_y': [343, 324, 357, 359]}, {'name': 'polygon', 'all_points_x': [338, 375, 386, 338], 'all_points_y': [329, 298, 317, 352]}, {'name': 'polygon', 'all_points_x': [223, 266, 289, 250], 'all_points_y': [278, 345, 333, 266]}, {'name': 'polygon', 'all_points_x': [285, 289, 310, 310], 'all_points_y': [227, 278, 303, 224]}, {'name': 'polygon', 'all_points_x': [257, 308, 341, 279], 'all_points_y': [285, 355, 340, 262]}, {'name': 'polygon', 'all_points_x': [236, 305, 239, 217], 'all_points_y': [323, 357, 357, 338]}, {'name': 'polygon', 'all_points_x': [220, 129, 129, 212], 'all_points_y': [306, 300, 328, 338]}, {'name': 'polygon', 'all_points_x': [57, 132, 129, 46], 'all_points_y': [293, 304, 331, 316]}, {'name': 'polygon', 'all_points_x': [69, 1, 0, 50], 'all_points_y': [308, 332, 358, 359]}, {'name': 'polygon', 'all_points_x': [10, 3, 32, 26], 'all_points_y': [203, 304, 307, 203]}, {'name': 'polygon', 'all_points_x': [45, 35, 17, 26], 'all_points_y': [219, 278, 265, 207]}, {'name': 'polygon', 'all_points_x': [0, 55, 44, 1], 'all_points_y': [206, 194, 174, 185]}, {'name': 'polygon', 'all_points_x': [1, 65, 44, 1], 'all_points_y': [106, 161, 180, 138]}, {'name': 'polygon', 'all_points_x': [33, 46, 24, 14], 'all_points_y': [85, 131, 127, 90]}, {'name': 'polygon', 'all_points_x': [0, 10, 57, 0], 'all_points_y': [7, 0, 0, 31]}, {'name': 'polygon', 'all_points_x': [0, 55, 69, 2], 'all_points_y': [31, 1, 19, 58]}, {'name': 'polygon', 'all_points_x': [64, 108, 119, 91], 'all_points_y': [24, 6, 14, 39]}, {'name': 'polygon', 'all_points_x': [226, 272, 294, 260], 'all_points_y': [1, 48, 37, 2]}, {'name': 'polygon', 'all_points_x': [335, 369, 401, 368], 'all_points_y': [2, 57, 42, 1]}, {'name': 'polygon', 'all_points_x': [338, 403, 428, 361], 'all_points_y': [63, 22, 39, 95]}, {'name': 'polygon', 'all_points_x': [318, 348, 368, 336], 'all_points_y': [82, 116, 95, 75]}, {'name': 'polygon', 'all_points_x': [219, 238, 248, 235], 'all_points_y': [54, 104, 40, 40]}, {'name': 'polygon', 'all_points_x': [240, 245, 269, 269], 'all_points_y': [37, 125, 104, 32]}, {'name': 'polygon', 'all_points_x': [194, 159, 128, 149], 'all_points_y': [2, 87, 109, 18]}, {'name': 'polygon', 'all_points_x': [98, 124, 144, 110], 'all_points_y': [10, 81, 35, 2]}, {'name': 'polygon', 'all_points_x': [42, 76, 101, 63], 'all_points_y': [76, 164, 139, 67]}, {'name': 'polygon', 'all_points_x': [104, 101, 76, 78], 'all_points_y': [137, 209, 199, 164]}, {'name': 'polygon', 'all_points_x': [82, 132, 110, 56], 'all_points_y': [212, 296, 308, 231]}, {'name': 'polygon', 'all_points_x': [206, 172, 143, 175], 'all_points_y': [205, 308, 303, 190]}], 'num_ids': [3, 3, 3, 3, 3, 3, 3, 3, 3, 3, 3, 3, 3, 3, 3, 3, 3, 3, 3, 3, 3, 3, 3, 3, 3, 3, 3, 3, 3, 3, 3, 3, 3, 3, 3, 3, 3, 3, 3, 3, 3, 3, 3, 3, 3, 3, 3, 3, 3, 3, 3, 3, 3, 3, 3, 3, 3, 3, 3, 3, 3, 3, 3, 3, 3, 3, 3, 3, 3]}\n",
      "Traceback (most recent call last):\n",
      "  File \"/home/melissap/miniconda3/envs/kumar/lib/python3.6/site-packages/mask_rcnn-2.1-py3.6.egg/mrcnn/model.py\", line 1709, in data_generator\n",
      "    use_mini_mask=config.USE_MINI_MASK)\n",
      "  File \"/home/melissap/miniconda3/envs/kumar/lib/python3.6/site-packages/mask_rcnn-2.1-py3.6.egg/mrcnn/model.py\", line 1275, in load_image_gt\n",
      "    source_class_ids = dataset.source_class_ids[dataset.image_info[image_id][\"source\"]]\n"
     ]
    },
    {
     "name": "stderr",
     "output_type": "stream",
     "text": [
      "KeyError: 'pupae'ERROR:root:Error processing image {'id': '37_030001.jpg', 'source': 'pupae', 'path': '/data/CoRoSect/10.code/maskRCNN/Mask_RCNN_matterport/mask_rcnn/datasets/Nasekomo_insects/37/trainvalid/37_030001.jpg', 'width': 640, 'height': 360, 'polygons': [{'name': 'polygon', 'all_points_x': [170, 206, 168, 157], 'all_points_y': [129, 103, 92, 99]}, {'name': 'polygon', 'all_points_x': [624, 625, 639, 638], 'all_points_y': [313, 246, 243, 324]}, {'name': 'polygon', 'all_points_x': [520, 632, 616, 513], 'all_points_y': [275, 267, 239, 247]}, {'name': 'polygon', 'all_points_x': [621, 618, 590, 600], 'all_points_y': [253, 306, 299, 251]}, {'name': 'polygon', 'all_points_x': [76, 93, 77, 61], 'all_points_y': [255, 276, 287, 282]}, {'name': 'polygon', 'all_points_x': [0, 19, 92, 2], 'all_points_y': [357, 357, 288, 285]}, {'name': 'polygon', 'all_points_x': [0, 32, 7, 1], 'all_points_y': [304, 230, 215, 232]}, {'name': 'polygon', 'all_points_x': [7, 45, 36, 20], 'all_points_y': [257, 291, 241, 232]}, {'name': 'polygon', 'all_points_x': [47, 64, 96, 65], 'all_points_y': [330, 323, 359, 358]}, {'name': 'polygon', 'all_points_x': [20, 39, 68, 40], 'all_points_y': [340, 359, 358, 320]}, {'name': 'polygon', 'all_points_x': [226, 259, 242, 197], 'all_points_y': [200, 110, 97, 184]}, {'name': 'polygon', 'all_points_x': [232, 190, 216, 249], 'all_points_y': [59, 124, 141, 83]}, {'name': 'polygon', 'all_points_x': [212, 105, 94, 205], 'all_points_y': [70, 52, 80, 98]}, {'name': 'polygon', 'all_points_x': [148, 196, 120, 104], 'all_points_y': [50, 0, 1, 34]}, {'name': 'polygon', 'all_points_x': [194, 224, 191, 168], 'all_points_y': [55, 3, 1, 49]}, {'name': 'polygon', 'all_points_x': [292, 311, 292, 257], 'all_points_y': [25, 107, 103, 18]}, {'name': 'polygon', 'all_points_x': [501, 492, 454, 471], 'all_points_y': [307, 358, 357, 295]}, {'name': 'polygon', 'all_points_x': [552, 639, 636, 543], 'all_points_y': [245, 176, 142, 187]}, {'name': 'polygon', 'all_points_x': [591, 638, 637, 587], 'all_points_y': [218, 226, 179, 179]}, {'name': 'polygon', 'all_points_x': [559, 637, 639, 551], 'all_points_y': [166, 127, 86, 127]}, {'name': 'polygon', 'all_points_x': [616, 637, 594, 588], 'all_points_y': [98, 8, 29, 98]}, {'name': 'polygon', 'all_points_x': [638, 619, 620, 639], 'all_points_y': [15, 34, 65, 55]}, {'name': 'polygon', 'all_points_x': [329, 255, 248, 324], 'all_points_y': [33, 14, 1, 1]}, {'name': 'polygon', 'all_points_x': [336, 419, 405, 320], 'all_points_y': [52, 97, 111, 70]}, {'name': 'polygon', 'all_points_x': [439, 456, 482, 465], 'all_points_y': [0, 43, 31, 1]}, {'name': 'polygon', 'all_points_x': [468, 453, 417, 429], 'all_points_y': [46, 143, 133, 44]}, {'name': 'polygon', 'all_points_x': [565, 575, 557, 547], 'all_points_y': [0, 66, 89, 1]}, {'name': 'polygon', 'all_points_x': [492, 595, 561, 489], 'all_points_y': [44, 105, 117, 90]}, {'name': 'polygon', 'all_points_x': [26, 54, 78, 68], 'all_points_y': [206, 294, 281, 241]}, {'name': 'polygon', 'all_points_x': [177, 72, 84, 185], 'all_points_y': [237, 194, 181, 214]}, {'name': 'polygon', 'all_points_x': [73, 155, 157, 64], 'all_points_y': [139, 166, 195, 177]}, {'name': 'polygon', 'all_points_x': [34, 103, 103, 26], 'all_points_y': [108, 73, 48, 85]}, {'name': 'polygon', 'all_points_x': [1, 39, 17, 0], 'all_points_y': [111, 163, 193, 172]}, {'name': 'polygon', 'all_points_x': [44, 123, 98, 19], 'all_points_y': [170, 234, 269, 193]}, {'name': 'polygon', 'all_points_x': [159, 94, 62, 125], 'all_points_y': [253, 358, 329, 230]}, {'name': 'polygon', 'all_points_x': [372, 372, 346, 321], 'all_points_y': [310, 214, 218, 301]}, {'name': 'polygon', 'all_points_x': [265, 193, 207, 267], 'all_points_y': [346, 357, 318, 304]}, {'name': 'polygon', 'all_points_x': [237, 245, 238, 224], 'all_points_y': [282, 273, 263, 284]}, {'name': 'polygon', 'all_points_x': [216, 278, 276, 224], 'all_points_y': [315, 312, 281, 285]}, {'name': 'polygon', 'all_points_x': [239, 263, 263, 237], 'all_points_y': [228, 218, 182, 197]}, {'name': 'polygon', 'all_points_x': [330, 329, 294, 298], 'all_points_y': [185, 231, 239, 176]}, {'name': 'polygon', 'all_points_x': [305, 277, 295, 324], 'all_points_y': [171, 127, 110, 157]}, {'name': 'polygon', 'all_points_x': [277, 298, 268, 260], 'all_points_y': [135, 223, 228, 135]}, {'name': 'polygon', 'all_points_x': [240, 244, 261, 262], 'all_points_y': [120, 187, 184, 117]}, {'name': 'polygon', 'all_points_x': [171, 213, 191, 148], 'all_points_y': [138, 191, 238, 168]}, {'name': 'polygon', 'all_points_x': [240, 230, 189, 207], 'all_points_y': [198, 272, 259, 192]}, {'name': 'polygon', 'all_points_x': [232, 193, 165, 188], 'all_points_y': [273, 353, 339, 260]}, {'name': 'polygon', 'all_points_x': [250, 349, 331, 238], 'all_points_y': [283, 260, 228, 254]}, {'name': 'polygon', 'all_points_x': [384, 381, 337, 277], 'all_points_y': [328, 359, 357, 324]}, {'name': 'polygon', 'all_points_x': [412, 497, 494, 417], 'all_points_y': [232, 266, 228, 212]}, {'name': 'polygon', 'all_points_x': [491, 550, 560, 488], 'all_points_y': [246, 203, 155, 193]}, {'name': 'polygon', 'all_points_x': [473, 381, 377, 441], 'all_points_y': [208, 139, 171, 220]}, {'name': 'polygon', 'all_points_x': [378, 358, 378, 398], 'all_points_y': [170, 214, 238, 171]}, {'name': 'polygon', 'all_points_x': [416, 403, 376, 394], 'all_points_y': [194, 271, 250, 179]}, {'name': 'polygon', 'all_points_x': [406, 501, 514, 408], 'all_points_y': [275, 298, 277, 241]}, {'name': 'polygon', 'all_points_x': [463, 432, 408, 438], 'all_points_y': [269, 332, 292, 249]}, {'name': 'polygon', 'all_points_x': [382, 485, 490, 393], 'all_points_y': [139, 217, 174, 110]}, {'name': 'polygon', 'all_points_x': [360, 357, 326, 336], 'all_points_y': [148, 228, 226, 146]}, {'name': 'polygon', 'all_points_x': [368, 404, 441, 387], 'all_points_y': [273, 358, 357, 251]}, {'name': 'polygon', 'all_points_x': [222, 270, 305, 252], 'all_points_y': [34, 129, 114, 10]}], 'num_ids': [3, 3, 3, 3, 3, 3, 3, 3, 3, 3, 3, 3, 3, 3, 3, 3, 3, 3, 3, 3, 3, 3, 3, 3, 3, 3, 3, 3, 3, 3, 3, 3, 3, 3, 3, 3, 3, 3, 3, 3, 3, 3, 3, 3, 3, 3, 3, 3, 3, 3, 3, 3, 3, 3, 3, 3, 3, 3, 3, 3]}\n",
      "Traceback (most recent call last):\n",
      "  File \"/home/melissap/miniconda3/envs/kumar/lib/python3.6/site-packages/mask_rcnn-2.1-py3.6.egg/mrcnn/model.py\", line 1709, in data_generator\n",
      "    use_mini_mask=config.USE_MINI_MASK)\n",
      "  File \"/home/melissap/miniconda3/envs/kumar/lib/python3.6/site-packages/mask_rcnn-2.1-py3.6.egg/mrcnn/model.py\", line 1275, in load_image_gt\n",
      "    source_class_ids = dataset.source_class_ids[dataset.image_info[image_id][\"source\"]]\n",
      "KeyError: 'pupae'WARNING:root:You are using the default load_mask(), maybe you need to define your own one.\n"
     ]
    },
    {
     "name": "stdout",
     "output_type": "stream",
     "text": [
      "\n"
     ]
    },
    {
     "name": "stderr",
     "output_type": "stream",
     "text": [
      "\n",
      "\n",
      "ERROR:root:Error processing image {'id': '7_240001.jpg', 'source': 'larvae', 'path': '/data/CoRoSect/10.code/maskRCNN/Mask_RCNN_matterport/mask_rcnn/datasets/Nasekomo_insects/7/trainvalid/7_240001.jpg', 'width': 640, 'height': 360, 'polygons': [{'name': 'polygon', 'all_points_x': [152, 201, 174, 144], 'all_points_y': [51, 89, 92, 68]}], 'num_ids': [2]}\n",
      "Traceback (most recent call last):\n",
      "  File \"/home/melissap/miniconda3/envs/kumar/lib/python3.6/site-packages/mask_rcnn-2.1-py3.6.egg/mrcnn/model.py\", line 1709, in data_generator\n",
      "    use_mini_mask=config.USE_MINI_MASK)\n",
      "  File \"/home/melissap/miniconda3/envs/kumar/lib/python3.6/site-packages/mask_rcnn-2.1-py3.6.egg/mrcnn/model.py\", line 1275, in load_image_gt\n",
      "    source_class_ids = dataset.source_class_ids[dataset.image_info[image_id][\"source\"]]\n",
      "KeyError: 'larvae'"
     ]
    },
    {
     "name": "stdout",
     "output_type": "stream",
     "text": [
      "(array([], shape=(0, 0, 0), dtype=float64), array([], dtype=int32))\n"
     ]
    },
    {
     "name": "stderr",
     "output_type": "stream",
     "text": [
      "WARNING:root:You are using the default load_mask(), maybe you need to define your own one.ERROR:root:Error processing image {'id': '25_010001.jpg', 'source': 'pupae', 'path': '/data/CoRoSect/10.code/maskRCNN/Mask_RCNN_matterport/mask_rcnn/datasets/Nasekomo_insects/25/trainvalid/25_010001.jpg', 'width': 640, 'height': 360, 'polygons': [{'name': 'polygon', 'all_points_x': [463, 538, 515, 463], 'all_points_y': [319, 333, 350, 347]}, {'name': 'polygon', 'all_points_x': [573, 563, 577, 596], 'all_points_y': [202, 168, 164, 210]}, {'name': 'polygon', 'all_points_x': [600, 580, 603, 615], 'all_points_y': [209, 173, 180, 206]}, {'name': 'polygon', 'all_points_x': [598, 625, 604, 569], 'all_points_y': [179, 167, 142, 165]}, {'name': 'polygon', 'all_points_x': [636, 636, 558, 597], 'all_points_y': [147, 119, 108, 141]}, {'name': 'polygon', 'all_points_x': [552, 638, 640, 574], 'all_points_y': [241, 194, 225, 265]}, {'name': 'polygon', 'all_points_x': [514, 625, 630, 571], 'all_points_y': [346, 312, 337, 359]}, {'name': 'polygon', 'all_points_x': [608, 618, 639, 636], 'all_points_y': [231, 289, 278, 224]}, {'name': 'polygon', 'all_points_x': [566, 618, 595, 546], 'all_points_y': [259, 315, 330, 268]}, {'name': 'polygon', 'all_points_x': [554, 566, 533, 523], 'all_points_y': [262, 172, 176, 248]}, {'name': 'polygon', 'all_points_x': [509, 561, 589, 524], 'all_points_y': [263, 332, 323, 240]}, {'name': 'polygon', 'all_points_x': [507, 541, 520, 489], 'all_points_y': [242, 138, 138, 215]}, {'name': 'polygon', 'all_points_x': [489, 497, 467, 463], 'all_points_y': [180, 270, 280, 181]}, {'name': 'polygon', 'all_points_x': [586, 639, 635, 571], 'all_points_y': [53, 80, 114, 79]}, {'name': 'polygon', 'all_points_x': [508, 559, 593, 531], 'all_points_y': [65, 124, 93, 38]}], 'num_ids': [3, 3, 3, 3, 3, 3, 3, 3, 3, 3, 3, 3, 3, 3, 3]}\n",
      "Traceback (most recent call last):\n",
      "  File \"/home/melissap/miniconda3/envs/kumar/lib/python3.6/site-packages/mask_rcnn-2.1-py3.6.egg/mrcnn/model.py\", line 1709, in data_generator\n",
      "    use_mini_mask=config.USE_MINI_MASK)\n",
      "  File \"/home/melissap/miniconda3/envs/kumar/lib/python3.6/site-packages/mask_rcnn-2.1-py3.6.egg/mrcnn/model.py\", line 1275, in load_image_gt\n",
      "    source_class_ids = dataset.source_class_ids[dataset.image_info[image_id][\"source\"]]\n",
      "KeyError: 'pupae'WARNING:root:You are using the default load_mask(), maybe you need to define your own one.\n",
      "\n",
      "\n",
      "ERROR:root:Error processing image {'id': '1_230001.jpg', 'source': 'eggs', 'path': '/data/CoRoSect/10.code/maskRCNN/Mask_RCNN_matterport/mask_rcnn/datasets/Nasekomo_insects/1/trainvalid/1_230001.jpg', 'width': 640, 'height': 360, 'polygons': [{'name': 'polygon', 'all_points_x': [393, 384, 399, 405], 'all_points_y': [268, 280, 284, 273]}, {'name': 'polygon', 'all_points_x': [308, 324, 339, 318], 'all_points_y': [32, 42, 36, 21]}, {'name': 'polygon', 'all_points_x': [34, 34, 49, 51], 'all_points_y': [182, 195, 195, 180]}, {'name': 'polygon', 'all_points_x': [26, 28, 42, 40], 'all_points_y': [164, 178, 179, 164]}, {'name': 'polygon', 'all_points_x': [433, 422, 428, 444], 'all_points_y': [226, 233, 241, 232]}, {'name': 'polygon', 'all_points_x': [443, 436, 445, 452], 'all_points_y': [231, 241, 249, 242]}, {'name': 'polygon', 'all_points_x': [515, 513, 492, 504], 'all_points_y': [195, 215, 223, 188]}, {'name': 'polygon', 'all_points_x': [480, 491, 484, 476], 'all_points_y': [231, 226, 217, 221]}, {'name': 'polygon', 'all_points_x': [521, 531, 532, 516], 'all_points_y': [277, 277, 263, 264]}, {'name': 'polygon', 'all_points_x': [496, 508, 507, 494], 'all_points_y': [131, 131, 115, 116]}, {'name': 'polygon', 'all_points_x': [433, 445, 444, 431], 'all_points_y': [160, 157, 150, 151]}, {'name': 'polygon', 'all_points_x': [446, 458, 451, 440], 'all_points_y': [176, 168, 161, 165]}, {'name': 'polygon', 'all_points_x': [369, 387, 396, 372], 'all_points_y': [94, 102, 91, 81]}, {'name': 'polygon', 'all_points_x': [404, 398, 413, 419], 'all_points_y': [58, 79, 89, 60]}], 'num_ids': [1, 1, 1, 1, 1, 1, 1, 1, 1, 1, 1, 1, 1, 1]}\n",
      "Traceback (most recent call last):\n",
      "  File \"/home/melissap/miniconda3/envs/kumar/lib/python3.6/site-packages/mask_rcnn-2.1-py3.6.egg/mrcnn/model.py\", line 1709, in data_generator\n",
      "    use_mini_mask=config.USE_MINI_MASK)\n",
      "  File \"/home/melissap/miniconda3/envs/kumar/lib/python3.6/site-packages/mask_rcnn-2.1-py3.6.egg/mrcnn/model.py\", line 1275, in load_image_gt\n",
      "    source_class_ids = dataset.source_class_ids[dataset.image_info[image_id][\"source\"]]\n",
      "KeyError: 'eggs'WARNING:root:You are using the default load_mask(), maybe you need to define your own one.WARNING:root:You are using the default load_mask(), maybe you need to define your own one.ERROR:root:Error processing image {'id': '1_030001.jpg', 'source': 'eggs', 'path': '/data/CoRoSect/10.code/maskRCNN/Mask_RCNN_matterport/mask_rcnn/datasets/Nasekomo_insects/1/trainvalid/1_030001.jpg', 'width': 640, 'height': 360, 'polygons': [{'name': 'polygon', 'all_points_x': [77, 87, 100, 89], 'all_points_y': [113, 142, 140, 109]}, {'name': 'polygon', 'all_points_x': [26, 24, 44, 44], 'all_points_y': [276, 290, 294, 279]}, {'name': 'polygon', 'all_points_x': [140, 141, 160, 159], 'all_points_y': [235, 248, 253, 235]}, {'name': 'polygon', 'all_points_x': [511, 503, 513, 522], 'all_points_y': [48, 57, 64, 52]}, {'name': 'polygon', 'all_points_x': [526, 523, 533, 539], 'all_points_y': [28, 39, 39, 26]}, {'name': 'polygon', 'all_points_x': [478, 477, 494, 492], 'all_points_y': [68, 85, 90, 66]}, {'name': 'polygon', 'all_points_x': [378, 366, 380, 389], 'all_points_y': [248, 265, 272, 248]}, {'name': 'polygon', 'all_points_x': [323, 317, 333, 337], 'all_points_y': [319, 329, 341, 321]}, {'name': 'polygon', 'all_points_x': [151, 168, 179, 168], 'all_points_y': [118, 108, 129, 134]}], 'num_ids': [1, 1, 1, 1, 1, 1, 1, 1, 1]}\n",
      "Traceback (most recent call last):\n",
      "  File \"/home/melissap/miniconda3/envs/kumar/lib/python3.6/site-packages/mask_rcnn-2.1-py3.6.egg/mrcnn/model.py\", line 1709, in data_generator\n",
      "    use_mini_mask=config.USE_MINI_MASK)\n",
      "  File \"/home/melissap/miniconda3/envs/kumar/lib/python3.6/site-packages/mask_rcnn-2.1-py3.6.egg/mrcnn/model.py\", line 1275, in load_image_gt\n",
      "    source_class_ids = dataset.source_class_ids[dataset.image_info[image_id][\"source\"]]\n",
      "KeyError: 'eggs'\n",
      "\n",
      "WARNING:root:You are using the default load_mask(), maybe you need to define your own one.WARNING:root:You are using the default load_mask(), maybe you need to define your own one.\n",
      "\n",
      "WARNING:root:You are using the default load_mask(), maybe you need to define your own one.\n",
      "\n",
      "\n"
     ]
    },
    {
     "name": "stdout",
     "output_type": "stream",
     "text": [
      "(array([], shape=(0, 0, 0), dtype=float64), array([], dtype=int32))(array([], shape=(0, 0, 0), dtype=float64), array([], dtype=int32))\n",
      "\n"
     ]
    },
    {
     "name": "stderr",
     "output_type": "stream",
     "text": [
      "ERROR:root:Error processing image {'id': '19_180001.jpg', 'source': 'larvae', 'path': '/data/CoRoSect/10.code/maskRCNN/Mask_RCNN_matterport/mask_rcnn/datasets/Nasekomo_insects/19/trainvalid/19_180001.jpg', 'width': 640, 'height': 360, 'polygons': [{'name': 'polygon', 'all_points_x': [107, 127, 154, 135], 'all_points_y': [88, 71, 87, 112]}, {'name': 'polygon', 'all_points_x': [164, 200, 170, 137], 'all_points_y': [109, 46, 40, 103]}, {'name': 'polygon', 'all_points_x': [109, 173, 211, 123], 'all_points_y': [125, 165, 161, 107]}, {'name': 'polygon', 'all_points_x': [0, 27, 24, 1], 'all_points_y': [135, 164, 180, 171]}, {'name': 'polygon', 'all_points_x': [0, 82, 98, 1], 'all_points_y': [211, 176, 196, 245]}, {'name': 'polygon', 'all_points_x': [26, 52, 17, 6], 'all_points_y': [275, 223, 237, 260]}, {'name': 'polygon', 'all_points_x': [0, 109, 118, 2], 'all_points_y': [349, 328, 358, 360]}, {'name': 'polygon', 'all_points_x': [207, 148, 114, 154], 'all_points_y': [332, 282, 288, 330]}, {'name': 'polygon', 'all_points_x': [38, 181, 206, 38], 'all_points_y': [273, 225, 272, 304]}, {'name': 'polygon', 'all_points_x': [225, 180, 205, 283], 'all_points_y': [211, 269, 292, 201]}, {'name': 'polygon', 'all_points_x': [295, 300, 333, 322], 'all_points_y': [165, 202, 199, 156]}, {'name': 'polygon', 'all_points_x': [123, 132, 162, 149], 'all_points_y': [0, 38, 18, 0]}, {'name': 'polygon', 'all_points_x': [301, 310, 353, 332], 'all_points_y': [75, 145, 123, 59]}, {'name': 'polygon', 'all_points_x': [54, 171, 157, 90], 'all_points_y': [233, 214, 245, 260]}, {'name': 'polygon', 'all_points_x': [286, 381, 404, 319], 'all_points_y': [287, 240, 261, 308]}], 'num_ids': [2, 2, 2, 2, 2, 2, 2, 2, 2, 2, 2, 2, 2, 2, 2]}\n",
      "Traceback (most recent call last):\n",
      "  File \"/home/melissap/miniconda3/envs/kumar/lib/python3.6/site-packages/mask_rcnn-2.1-py3.6.egg/mrcnn/model.py\", line 1709, in data_generator\n",
      "    use_mini_mask=config.USE_MINI_MASK)\n",
      "  File \"/home/melissap/miniconda3/envs/kumar/lib/python3.6/site-packages/mask_rcnn-2.1-py3.6.egg/mrcnn/model.py\", line 1275, in load_image_gt\n",
      "    source_class_ids = dataset.source_class_ids[dataset.image_info[image_id][\"source\"]]\n",
      "KeyError: 'larvae'WARNING:root:You are using the default load_mask(), maybe you need to define your own one.\n",
      "ERROR:root:Error processing image {'id': '40_110001.jpg', 'source': 'adult', 'path': '/data/CoRoSect/10.code/maskRCNN/Mask_RCNN_matterport/mask_rcnn/datasets/Nasekomo_insects/40/trainvalid/40_110001.jpg', 'width': 640, 'height': 360, 'polygons': [{'name': 'polygon', 'all_points_x': [504, 550, 549, 495], 'all_points_y': [14, 15, 47, 39]}, {'name': 'polygon', 'all_points_x': [149, 140, 175, 178], 'all_points_y': [80, 135, 142, 68]}, {'name': 'polygon', 'all_points_x': [539, 544, 579, 578], 'all_points_y': [104, 198, 188, 117]}, {'name': 'polygon', 'all_points_x': [482, 557, 571, 509], 'all_points_y': [203, 246, 223, 182]}, {'name': 'polygon', 'all_points_x': [563, 639, 638, 565], 'all_points_y': [265, 255, 222, 230]}, {'name': 'polygon', 'all_points_x': [438, 455, 455, 436], 'all_points_y': [257, 258, 303, 327]}, {'name': 'polygon', 'all_points_x': [456, 457, 499, 492], 'all_points_y': [255, 314, 316, 248]}, {'name': 'polygon', 'all_points_x': [582, 597, 561, 550], 'all_points_y': [1, 121, 124, 2]}, {'name': 'polygon', 'all_points_x': [553, 637, 637, 555], 'all_points_y': [223, 225, 187, 190]}, {'name': 'polygon', 'all_points_x': [517, 553, 513, 478], 'all_points_y': [208, 195, 87, 101]}, {'name': 'polygon', 'all_points_x': [468, 433, 412, 427], 'all_points_y': [142, 247, 243, 171]}, {'name': 'polygon', 'all_points_x': [443, 551, 564, 456], 'all_points_y': [227, 281, 247, 197]}, {'name': 'polygon', 'all_points_x': [399, 393, 437, 437], 'all_points_y': [251, 357, 359, 245]}, {'name': 'polygon', 'all_points_x': [263, 324, 375, 371], 'all_points_y': [358, 329, 332, 358]}, {'name': 'polygon', 'all_points_x': [249, 228, 216, 229], 'all_points_y': [247, 275, 250, 236]}, {'name': 'polygon', 'all_points_x': [211, 277, 241, 201], 'all_points_y': [248, 213, 195, 231]}, {'name': 'polygon', 'all_points_x': [261, 251, 218, 227], 'all_points_y': [263, 358, 358, 266]}, {'name': 'polygon', 'all_points_x': [310, 249, 272, 346], 'all_points_y': [234, 339, 359, 243]}, {'name': 'polygon', 'all_points_x': [134, 168, 201, 178], 'all_points_y': [223, 343, 337, 219]}, {'name': 'polygon', 'all_points_x': [225, 218, 189, 201], 'all_points_y': [250, 356, 347, 251]}, {'name': 'polygon', 'all_points_x': [94, 157, 180, 147], 'all_points_y': [359, 291, 325, 358]}, {'name': 'polygon', 'all_points_x': [0, 105, 67, 0], 'all_points_y': [311, 290, 251, 264]}, {'name': 'polygon', 'all_points_x': [53, 113, 151, 66], 'all_points_y': [247, 287, 252, 219]}, {'name': 'polygon', 'all_points_x': [53, 148, 161, 73], 'all_points_y': [322, 267, 300, 351]}, {'name': 'polygon', 'all_points_x': [295, 357, 380, 330], 'all_points_y': [96, 174, 146, 75]}, {'name': 'polygon', 'all_points_x': [329, 235, 248, 321], 'all_points_y': [163, 149, 120, 138]}, {'name': 'polygon', 'all_points_x': [194, 287, 301, 209], 'all_points_y': [186, 153, 176, 219]}, {'name': 'polygon', 'all_points_x': [278, 401, 415, 291], 'all_points_y': [195, 229, 196, 156]}, {'name': 'polygon', 'all_points_x': [387, 427, 381, 355], 'all_points_y': [277, 173, 172, 268]}, {'name': 'polygon', 'all_points_x': [439, 498, 467, 412], 'all_points_y': [174, 87, 83, 167]}, {'name': 'polygon', 'all_points_x': [409, 464, 460, 394], 'all_points_y': [108, 99, 64, 80]}, {'name': 'polygon', 'all_points_x': [472, 569, 552, 467], 'all_points_y': [83, 79, 51, 54]}, {'name': 'polygon', 'all_points_x': [380, 462, 470, 359], 'all_points_y': [12, 36, 76, 34]}, {'name': 'polygon', 'all_points_x': [376, 412, 370, 341], 'all_points_y': [37, 128, 128, 47]}, {'name': 'polygon', 'all_points_x': [299, 339, 397, 322], 'all_points_y': [34, 2, 0, 46]}, {'name': 'polygon', 'all_points_x': [267, 342, 355, 277], 'all_points_y': [103, 67, 35, 72]}, {'name': 'polygon', 'all_points_x': [207, 192, 223, 227], 'all_points_y': [34, 88, 103, 57]}, {'name': 'polygon', 'all_points_x': [196, 247, 239, 174], 'all_points_y': [91, 119, 148, 113]}, {'name': 'polygon', 'all_points_x': [207, 180, 155, 180], 'all_points_y': [132, 228, 219, 127]}, {'name': 'polygon', 'all_points_x': [143, 137, 158, 180], 'all_points_y': [23, 63, 82, 1]}, {'name': 'polygon', 'all_points_x': [209, 186, 157, 184], 'all_points_y': [4, 97, 73, 1]}, {'name': 'polygon', 'all_points_x': [144, 109, 91, 130], 'all_points_y': [66, 128, 97, 56]}, {'name': 'polygon', 'all_points_x': [4, 77, 70, 2], 'all_points_y': [7, 12, 41, 41]}, {'name': 'polygon', 'all_points_x': [1, 20, 7, 2], 'all_points_y': [40, 44, 135, 133]}, {'name': 'polygon', 'all_points_x': [30, 37, 23, 14], 'all_points_y': [43, 70, 79, 47]}, {'name': 'polygon', 'all_points_x': [32, 74, 128, 53], 'all_points_y': [78, 150, 158, 54]}, {'name': 'polygon', 'all_points_x': [47, 82, 54, 17], 'all_points_y': [126, 182, 203, 137]}, {'name': 'polygon', 'all_points_x': [40, 43, 17, 14], 'all_points_y': [166, 262, 237, 165]}, {'name': 'polygon', 'all_points_x': [54, 180, 157, 51], 'all_points_y': [231, 168, 139, 207]}], 'num_ids': [4, 4, 4, 4, 4, 4, 4, 4, 4, 4, 4, 4, 4, 4, 4, 4, 4, 4, 4, 4, 4, 4, 4, 4, 4, 4, 4, 4, 4, 4, 4, 4, 4, 4, 4, 4, 4, 4, 4, 4, 4, 4, 4, 4, 4, 4, 4, 4, 4]}\n",
      "Traceback (most recent call last):\n",
      "  File \"/home/melissap/miniconda3/envs/kumar/lib/python3.6/site-packages/mask_rcnn-2.1-py3.6.egg/mrcnn/model.py\", line 1709, in data_generator\n",
      "    use_mini_mask=config.USE_MINI_MASK)\n",
      "  File \"/home/melissap/miniconda3/envs/kumar/lib/python3.6/site-packages/mask_rcnn-2.1-py3.6.egg/mrcnn/model.py\", line 1275, in load_image_gt\n",
      "    source_class_ids = dataset.source_class_ids[dataset.image_info[image_id][\"source\"]]\n",
      "KeyError: 'adult'ERROR:root:Error processing image {'id': '44_170001.jpg', 'source': 'adult', 'path': '/data/CoRoSect/10.code/maskRCNN/Mask_RCNN_matterport/mask_rcnn/datasets/Nasekomo_insects/44/trainvalid/44_170001.jpg', 'width': 640, 'height': 360, 'polygons': [{'name': 'polygon', 'all_points_x': [405, 406, 437, 434], 'all_points_y': [173, 268, 268, 168]}], 'num_ids': [4]}\n",
      "Traceback (most recent call last):\n",
      "  File \"/home/melissap/miniconda3/envs/kumar/lib/python3.6/site-packages/mask_rcnn-2.1-py3.6.egg/mrcnn/model.py\", line 1709, in data_generator\n",
      "    use_mini_mask=config.USE_MINI_MASK)\n",
      "  File \"/home/melissap/miniconda3/envs/kumar/lib/python3.6/site-packages/mask_rcnn-2.1-py3.6.egg/mrcnn/model.py\", line 1275, in load_image_gt\n",
      "    source_class_ids = dataset.source_class_ids[dataset.image_info[image_id][\"source\"]]\n"
     ]
    },
    {
     "name": "stderr",
     "output_type": "stream",
     "text": [
      "KeyError: 'adult'ERROR:root:Error processing image {'id': '37_070001.jpg', 'source': 'pupae', 'path': '/data/CoRoSect/10.code/maskRCNN/Mask_RCNN_matterport/mask_rcnn/datasets/Nasekomo_insects/37/trainvalid/37_070001.jpg', 'width': 640, 'height': 360, 'polygons': [{'name': 'polygon', 'all_points_x': [551, 573, 615, 579], 'all_points_y': [232, 225, 281, 279]}, {'name': 'polygon', 'all_points_x': [462, 461, 488, 477], 'all_points_y': [329, 359, 329, 319]}, {'name': 'polygon', 'all_points_x': [501, 470, 522, 532], 'all_points_y': [303, 359, 357, 307]}, {'name': 'polygon', 'all_points_x': [502, 521, 569, 525], 'all_points_y': [264, 310, 323, 258]}, {'name': 'polygon', 'all_points_x': [449, 569, 586, 455], 'all_points_y': [241, 289, 252, 208]}, {'name': 'polygon', 'all_points_x': [525, 579, 603, 549], 'all_points_y': [137, 182, 179, 116]}, {'name': 'polygon', 'all_points_x': [563, 610, 638, 571], 'all_points_y': [211, 270, 258, 187]}, {'name': 'polygon', 'all_points_x': [638, 636, 544, 545], 'all_points_y': [118, 78, 78, 108]}, {'name': 'polygon', 'all_points_x': [547, 607, 633, 593], 'all_points_y': [112, 175, 157, 111]}, {'name': 'polygon', 'all_points_x': [537, 520, 556, 568], 'all_points_y': [161, 230, 242, 162]}, {'name': 'polygon', 'all_points_x': [500, 563, 577, 482], 'all_points_y': [125, 75, 42, 89]}, {'name': 'polygon', 'all_points_x': [424, 478, 462, 398], 'all_points_y': [252, 300, 315, 279]}, {'name': 'polygon', 'all_points_x': [442, 447, 410, 407], 'all_points_y': [302, 359, 358, 289]}, {'name': 'polygon', 'all_points_x': [157, 292, 305, 174], 'all_points_y': [339, 359, 335, 293]}, {'name': 'polygon', 'all_points_x': [163, 294, 294, 142], 'all_points_y': [250, 300, 336, 287]}, {'name': 'polygon', 'all_points_x': [289, 330, 369, 320], 'all_points_y': [162, 92, 96, 178]}, {'name': 'polygon', 'all_points_x': [340, 389, 330, 311], 'all_points_y': [151, 248, 235, 167]}, {'name': 'polygon', 'all_points_x': [407, 474, 477, 389], 'all_points_y': [102, 124, 157, 128]}, {'name': 'polygon', 'all_points_x': [439, 557, 552, 429], 'all_points_y': [68, 57, 27, 35]}, {'name': 'polygon', 'all_points_x': [366, 423, 353, 325], 'all_points_y': [95, 1, 2, 94]}, {'name': 'polygon', 'all_points_x': [269, 302, 332, 263], 'all_points_y': [26, 22, 59, 43]}, {'name': 'polygon', 'all_points_x': [248, 315, 318, 262], 'all_points_y': [62, 92, 62, 40]}, {'name': 'polygon', 'all_points_x': [251, 302, 303, 255], 'all_points_y': [126, 146, 113, 104]}, {'name': 'polygon', 'all_points_x': [239, 258, 221, 210], 'all_points_y': [69, 179, 193, 74]}, {'name': 'polygon', 'all_points_x': [257, 293, 250, 218], 'all_points_y': [9, 111, 105, 19]}, {'name': 'polygon', 'all_points_x': [235, 165, 139, 215], 'all_points_y': [67, 146, 115, 30]}], 'num_ids': [3, 3, 3, 3, 3, 3, 3, 3, 3, 3, 3, 3, 3, 3, 3, 3, 3, 3, 3, 3, 3, 3, 3, 3, 3, 3]}\n",
      "Traceback (most recent call last):\n",
      "  File \"/home/melissap/miniconda3/envs/kumar/lib/python3.6/site-packages/mask_rcnn-2.1-py3.6.egg/mrcnn/model.py\", line 1709, in data_generator\n",
      "    use_mini_mask=config.USE_MINI_MASK)\n",
      "  File \"/home/melissap/miniconda3/envs/kumar/lib/python3.6/site-packages/mask_rcnn-2.1-py3.6.egg/mrcnn/model.py\", line 1275, in load_image_gt\n",
      "    source_class_ids = dataset.source_class_ids[dataset.image_info[image_id][\"source\"]]\n",
      "KeyError: 'pupae'ERROR:root:Error processing image {'id': '40_050001.jpg', 'source': 'adult', 'path': '/data/CoRoSect/10.code/maskRCNN/Mask_RCNN_matterport/mask_rcnn/datasets/Nasekomo_insects/40/trainvalid/40_050001.jpg', 'width': 640, 'height': 360, 'polygons': [{'name': 'polygon', 'all_points_x': [496, 497, 529, 526], 'all_points_y': [246, 273, 273, 246]}, {'name': 'polygon', 'all_points_x': [317, 337, 357, 334], 'all_points_y': [222, 290, 279, 213]}, {'name': 'polygon', 'all_points_x': [56, 99, 115, 94], 'all_points_y': [185, 221, 208, 180]}, {'name': 'polygon', 'all_points_x': [230, 231, 188, 187], 'all_points_y': [1, 34, 25, 2]}, {'name': 'polygon', 'all_points_x': [494, 495, 526, 524], 'all_points_y': [1, 46, 44, 2]}, {'name': 'polygon', 'all_points_x': [322, 346, 387, 378], 'all_points_y': [3, 33, 13, 2]}, {'name': 'polygon', 'all_points_x': [257, 279, 300, 289], 'all_points_y': [3, 40, 19, 1]}, {'name': 'polygon', 'all_points_x': [446, 495, 516, 489], 'all_points_y': [174, 235, 190, 150]}, {'name': 'polygon', 'all_points_x': [528, 571, 575, 534], 'all_points_y': [242, 221, 246, 267]}, {'name': 'polygon', 'all_points_x': [591, 563, 541, 572], 'all_points_y': [257, 297, 284, 245]}, {'name': 'polygon', 'all_points_x': [554, 541, 501, 510], 'all_points_y': [358, 319, 331, 358]}, {'name': 'polygon', 'all_points_x': [529, 466, 511, 539], 'all_points_y': [346, 301, 279, 302]}, {'name': 'polygon', 'all_points_x': [341, 406, 427, 398], 'all_points_y': [359, 320, 347, 359]}, {'name': 'polygon', 'all_points_x': [537, 636, 630, 535], 'all_points_y': [297, 299, 338, 332]}, {'name': 'polygon', 'all_points_x': [578, 635, 637, 612], 'all_points_y': [237, 272, 236, 220]}, {'name': 'polygon', 'all_points_x': [358, 422, 403, 353], 'all_points_y': [79, 33, 12, 23]}, {'name': 'polygon', 'all_points_x': [246, 236, 267, 277], 'all_points_y': [257, 355, 358, 258]}, {'name': 'polygon', 'all_points_x': [463, 525, 520, 448], 'all_points_y': [164, 136, 98, 132]}, {'name': 'polygon', 'all_points_x': [434, 484, 467, 427], 'all_points_y': [71, 97, 138, 112]}, {'name': 'polygon', 'all_points_x': [598, 541, 509, 562], 'all_points_y': [2, 145, 135, 3]}, {'name': 'polygon', 'all_points_x': [610, 579, 616, 631], 'all_points_y': [68, 196, 191, 67]}, {'name': 'polygon', 'all_points_x': [279, 328, 338, 268], 'all_points_y': [281, 264, 290, 326]}, {'name': 'polygon', 'all_points_x': [284, 402, 385, 271], 'all_points_y': [354, 295, 267, 330]}, {'name': 'polygon', 'all_points_x': [450, 511, 477, 421], 'all_points_y': [225, 274, 302, 255]}, {'name': 'polygon', 'all_points_x': [379, 449, 410, 363], 'all_points_y': [156, 206, 250, 204]}, {'name': 'polygon', 'all_points_x': [360, 277, 299, 378], 'all_points_y': [160, 198, 235, 185]}, {'name': 'polygon', 'all_points_x': [321, 282, 249, 289], 'all_points_y': [120, 197, 187, 106]}, {'name': 'polygon', 'all_points_x': [369, 378, 348, 334], 'all_points_y': [93, 167, 163, 96]}, {'name': 'polygon', 'all_points_x': [425, 471, 438, 394], 'all_points_y': [79, 191, 206, 86]}, {'name': 'polygon', 'all_points_x': [172, 234, 240, 169], 'all_points_y': [123, 112, 132, 141]}, {'name': 'polygon', 'all_points_x': [241, 284, 298, 229], 'all_points_y': [129, 123, 90, 104]}, {'name': 'polygon', 'all_points_x': [180, 233, 273, 189], 'all_points_y': [111, 112, 90, 72]}, {'name': 'polygon', 'all_points_x': [2, 20, 22, 2], 'all_points_y': [82, 81, 166, 169]}, {'name': 'polygon', 'all_points_x': [2, 41, 20, 0], 'all_points_y': [224, 254, 281, 273]}, {'name': 'polygon', 'all_points_x': [1, 80, 78, 5], 'all_points_y': [309, 344, 358, 357]}, {'name': 'polygon', 'all_points_x': [78, 93, 130, 107], 'all_points_y': [357, 274, 257, 359]}, {'name': 'polygon', 'all_points_x': [120, 150, 154, 127], 'all_points_y': [292, 292, 273, 274]}, {'name': 'polygon', 'all_points_x': [156, 190, 197, 160], 'all_points_y': [266, 265, 278, 289]}, {'name': 'polygon', 'all_points_x': [153, 145, 175, 178], 'all_points_y': [284, 358, 359, 290]}, {'name': 'polygon', 'all_points_x': [181, 247, 278, 203], 'all_points_y': [249, 186, 199, 287]}, {'name': 'polygon', 'all_points_x': [114, 190, 171, 102], 'all_points_y': [216, 257, 268, 223]}, {'name': 'polygon', 'all_points_x': [191, 175, 142, 158], 'all_points_y': [197, 245, 228, 190]}, {'name': 'polygon', 'all_points_x': [64, 102, 169, 88], 'all_points_y': [255, 276, 265, 220]}, {'name': 'polygon', 'all_points_x': [46, 67, 26, 22], 'all_points_y': [258, 343, 325, 255]}, {'name': 'polygon', 'all_points_x': [67, 86, 54, 35], 'all_points_y': [246, 204, 192, 252]}, {'name': 'polygon', 'all_points_x': [126, 271, 253, 115], 'all_points_y': [213, 155, 115, 171]}, {'name': 'polygon', 'all_points_x': [58, 98, 113, 49], 'all_points_y': [170, 191, 156, 114]}, {'name': 'polygon', 'all_points_x': [36, 101, 98, 29], 'all_points_y': [125, 127, 97, 95]}, {'name': 'polygon', 'all_points_x': [0, 74, 40, 1], 'all_points_y': [19, 78, 104, 72]}, {'name': 'polygon', 'all_points_x': [111, 199, 180, 88], 'all_points_y': [10, 67, 85, 29]}, {'name': 'polygon', 'all_points_x': [162, 289, 322, 170], 'all_points_y': [53, 97, 56, 22]}, {'name': 'polygon', 'all_points_x': [99, 184, 158, 71], 'all_points_y': [40, 90, 123, 68]}, {'name': 'polygon', 'all_points_x': [91, 144, 126, 102], 'all_points_y': [79, 142, 159, 127]}], 'num_ids': [4, 4, 4, 4, 4, 4, 4, 4, 4, 4, 4, 4, 4, 4, 4, 4, 4, 4, 4, 4, 4, 4, 4, 4, 4, 4, 4, 4, 4, 4, 4, 4, 4, 4, 4, 4, 4, 4, 4, 4, 4, 4, 4, 4, 4, 4, 4, 4, 4, 4, 4, 4, 4]}\n",
      "Traceback (most recent call last):\n",
      "  File \"/home/melissap/miniconda3/envs/kumar/lib/python3.6/site-packages/mask_rcnn-2.1-py3.6.egg/mrcnn/model.py\", line 1709, in data_generator\n",
      "    use_mini_mask=config.USE_MINI_MASK)\n",
      "  File \"/home/melissap/miniconda3/envs/kumar/lib/python3.6/site-packages/mask_rcnn-2.1-py3.6.egg/mrcnn/model.py\", line 1275, in load_image_gt\n",
      "    source_class_ids = dataset.source_class_ids[dataset.image_info[image_id][\"source\"]]\n"
     ]
    },
    {
     "name": "stderr",
     "output_type": "stream",
     "text": [
      "KeyError: 'adult'WARNING:root:You are using the default load_mask(), maybe you need to define your own one.\n",
      "\n",
      "\n",
      "WARNING:root:You are using the default load_mask(), maybe you need to define your own one."
     ]
    },
    {
     "name": "stdout",
     "output_type": "stream",
     "text": [
      "(array([], shape=(0, 0, 0), dtype=float64), array([], dtype=int32))"
     ]
    },
    {
     "name": "stderr",
     "output_type": "stream",
     "text": [
      "\n"
     ]
    },
    {
     "name": "stdout",
     "output_type": "stream",
     "text": [
      "\n"
     ]
    },
    {
     "name": "stderr",
     "output_type": "stream",
     "text": [
      "\n",
      "WARNING:root:You are using the default load_mask(), maybe you need to define your own one.\n",
      "WARNING:root:You are using the default load_mask(), maybe you need to define your own one."
     ]
    },
    {
     "name": "stdout",
     "output_type": "stream",
     "text": [
      "(array([], shape=(0, 0, 0), dtype=float64), array([], dtype=int32))"
     ]
    },
    {
     "name": "stderr",
     "output_type": "stream",
     "text": [
      "\n",
      "WARNING:root:You are using the default load_mask(), maybe you need to define your own one.\n",
      "ERROR:root:Error processing image {'id': '30_270001.jpg', 'source': 'pupae', 'path': '/data/CoRoSect/10.code/maskRCNN/Mask_RCNN_matterport/mask_rcnn/datasets/Nasekomo_insects/30/trainvalid/30_270001.jpg', 'width': 640, 'height': 360, 'polygons': [{'name': 'polygon', 'all_points_x': [1, 55, 48, 1], 'all_points_y': [58, 85, 109, 99]}, {'name': 'polygon', 'all_points_x': [1, 47, 49, 1], 'all_points_y': [176, 176, 131, 133]}, {'name': 'polygon', 'all_points_x': [413, 385, 387, 434], 'all_points_y': [67, 117, 134, 109]}, {'name': 'polygon', 'all_points_x': [94, 135, 106, 78], 'all_points_y': [99, 146, 192, 102]}, {'name': 'polygon', 'all_points_x': [268, 295, 300, 255], 'all_points_y': [250, 241, 223, 214]}, {'name': 'polygon', 'all_points_x': [236, 214, 183, 213], 'all_points_y': [263, 341, 332, 247]}, {'name': 'polygon', 'all_points_x': [2, 70, 63, 1], 'all_points_y': [309, 342, 358, 358]}, {'name': 'polygon', 'all_points_x': [331, 347, 360, 357], 'all_points_y': [136, 181, 174, 138]}, {'name': 'polygon', 'all_points_x': [557, 556, 582, 580], 'all_points_y': [56, 135, 110, 79]}, {'name': 'polygon', 'all_points_x': [619, 604, 581, 593], 'all_points_y': [64, 124, 110, 55]}, {'name': 'polygon', 'all_points_x': [539, 572, 575, 539], 'all_points_y': [236, 237, 219, 210]}, {'name': 'polygon', 'all_points_x': [606, 638, 637, 613], 'all_points_y': [254, 238, 283, 280]}, {'name': 'polygon', 'all_points_x': [524, 632, 630, 510], 'all_points_y': [282, 282, 262, 253]}, {'name': 'polygon', 'all_points_x': [509, 524, 495, 476], 'all_points_y': [259, 193, 187, 253]}, {'name': 'polygon', 'all_points_x': [470, 520, 511, 467], 'all_points_y': [290, 293, 265, 256]}, {'name': 'polygon', 'all_points_x': [375, 405, 387, 364], 'all_points_y': [340, 296, 285, 321]}, {'name': 'polygon', 'all_points_x': [357, 373, 333, 332], 'all_points_y': [293, 359, 358, 300]}, {'name': 'polygon', 'all_points_x': [445, 515, 527, 440], 'all_points_y': [332, 314, 342, 359]}, {'name': 'polygon', 'all_points_x': [185, 141, 106, 130], 'all_points_y': [172, 259, 214, 161]}, {'name': 'polygon', 'all_points_x': [295, 373, 368, 251], 'all_points_y': [191, 200, 232, 212]}, {'name': 'polygon', 'all_points_x': [435, 511, 503, 416], 'all_points_y': [69, 35, 13, 40]}, {'name': 'polygon', 'all_points_x': [542, 502, 464, 515], 'all_points_y': [8, 99, 74, 2]}, {'name': 'polygon', 'all_points_x': [543, 564, 530, 524], 'all_points_y': [73, 182, 146, 86]}, {'name': 'polygon', 'all_points_x': [429, 506, 449, 400], 'all_points_y': [119, 236, 223, 130]}, {'name': 'polygon', 'all_points_x': [357, 364, 387, 386], 'all_points_y': [78, 187, 185, 71]}, {'name': 'polygon', 'all_points_x': [185, 208, 252, 193], 'all_points_y': [139, 162, 156, 109]}, {'name': 'polygon', 'all_points_x': [200, 263, 258, 179], 'all_points_y': [193, 186, 156, 165]}, {'name': 'polygon', 'all_points_x': [70, 115, 112, 37], 'all_points_y': [149, 202, 246, 181]}], 'num_ids': [3, 3, 3, 3, 3, 3, 3, 3, 3, 3, 3, 3, 3, 3, 3, 3, 3, 3, 3, 3, 3, 3, 3, 3, 3, 3, 3, 3]}\n",
      "Traceback (most recent call last):\n",
      "  File \"/home/melissap/miniconda3/envs/kumar/lib/python3.6/site-packages/mask_rcnn-2.1-py3.6.egg/mrcnn/model.py\", line 1709, in data_generator\n",
      "    use_mini_mask=config.USE_MINI_MASK)\n",
      "  File \"/home/melissap/miniconda3/envs/kumar/lib/python3.6/site-packages/mask_rcnn-2.1-py3.6.egg/mrcnn/model.py\", line 1275, in load_image_gt\n",
      "    source_class_ids = dataset.source_class_ids[dataset.image_info[image_id][\"source\"]]\n",
      "KeyError: 'pupae'"
     ]
    },
    {
     "name": "stdout",
     "output_type": "stream",
     "text": [
      "(array([], shape=(0, 0, 0), dtype=float64), array([], dtype=int32))"
     ]
    },
    {
     "name": "stderr",
     "output_type": "stream",
     "text": [
      "\n",
      "ERROR:root:Error processing image {'id': '44_080001.jpg', 'source': 'adult', 'path': '/data/CoRoSect/10.code/maskRCNN/Mask_RCNN_matterport/mask_rcnn/datasets/Nasekomo_insects/44/trainvalid/44_080001.jpg', 'width': 640, 'height': 360, 'polygons': [{'name': 'polygon', 'all_points_x': [321, 430, 428, 318], 'all_points_y': [152, 178, 208, 191]}, {'name': 'polygon', 'all_points_x': [482, 535, 497, 456], 'all_points_y': [113, 73, 22, 93]}, {'name': 'polygon', 'all_points_x': [0, 61, 127, 2], 'all_points_y': [78, 180, 114, 45]}, {'name': 'polygon', 'all_points_x': [252, 257, 291, 318], 'all_points_y': [109, 197, 202, 116]}], 'num_ids': [4, 4, 4, 4]}\n",
      "Traceback (most recent call last):\n",
      "  File \"/home/melissap/miniconda3/envs/kumar/lib/python3.6/site-packages/mask_rcnn-2.1-py3.6.egg/mrcnn/model.py\", line 1709, in data_generator\n",
      "    use_mini_mask=config.USE_MINI_MASK)\n",
      "  File \"/home/melissap/miniconda3/envs/kumar/lib/python3.6/site-packages/mask_rcnn-2.1-py3.6.egg/mrcnn/model.py\", line 1275, in load_image_gt\n",
      "    source_class_ids = dataset.source_class_ids[dataset.image_info[image_id][\"source\"]]\n",
      "KeyError: 'adult'\n"
     ]
    },
    {
     "name": "stdout",
     "output_type": "stream",
     "text": [
      "(array([], shape=(0, 0, 0), dtype=float64), array([], dtype=int32))\n",
      "\n"
     ]
    },
    {
     "name": "stderr",
     "output_type": "stream",
     "text": [
      "WARNING:root:You are using the default load_mask(), maybe you need to define your own one.\n"
     ]
    },
    {
     "name": "stdout",
     "output_type": "stream",
     "text": [
      "\n"
     ]
    },
    {
     "name": "stderr",
     "output_type": "stream",
     "text": [
      "\n",
      "WARNING:root:You are using the default load_mask(), maybe you need to define your own one.WARNING:root:You are using the default load_mask(), maybe you need to define your own one.\n"
     ]
    },
    {
     "name": "stdout",
     "output_type": "stream",
     "text": [
      "(array([], shape=(0, 0, 0), dtype=float64), array([], dtype=int32))"
     ]
    },
    {
     "name": "stderr",
     "output_type": "stream",
     "text": [
      "\n"
     ]
    },
    {
     "name": "stdout",
     "output_type": "stream",
     "text": [
      "\n"
     ]
    },
    {
     "name": "stderr",
     "output_type": "stream",
     "text": [
      "\n",
      "WARNING:root:You are using the default load_mask(), maybe you need to define your own one.WARNING:root:You are using the default load_mask(), maybe you need to define your own one.WARNING:root:You are using the default load_mask(), maybe you need to define your own one.\n",
      "ERROR:root:Error processing image {'id': '7_140001.jpg', 'source': 'larvae', 'path': '/data/CoRoSect/10.code/maskRCNN/Mask_RCNN_matterport/mask_rcnn/datasets/Nasekomo_insects/7/trainvalid/7_140001.jpg', 'width': 640, 'height': 360, 'polygons': [{'name': 'polygon', 'all_points_x': [350, 361, 372, 373], 'all_points_y': [242, 279, 282, 256]}, {'name': 'polygon', 'all_points_x': [111, 113, 128, 123], 'all_points_y': [54, 92, 91, 47]}, {'name': 'polygon', 'all_points_x': [191, 185, 196, 203], 'all_points_y': [73, 97, 103, 81]}, {'name': 'polygon', 'all_points_x': [254, 234, 216, 232], 'all_points_y': [64, 87, 90, 62]}, {'name': 'polygon', 'all_points_x': [440, 474, 473, 443], 'all_points_y': [263, 250, 265, 276]}, {'name': 'polygon', 'all_points_x': [511, 522, 516, 497], 'all_points_y': [290, 316, 322, 297]}, {'name': 'polygon', 'all_points_x': [586, 541, 541, 575], 'all_points_y': [251, 251, 260, 267]}, {'name': 'polygon', 'all_points_x': [638, 639, 604, 593], 'all_points_y': [54, 74, 63, 48]}, {'name': 'polygon', 'all_points_x': [470, 476, 488, 486], 'all_points_y': [48, 82, 81, 68]}, {'name': 'polygon', 'all_points_x': [338, 331, 320, 327], 'all_points_y': [204, 222, 217, 200]}, {'name': 'polygon', 'all_points_x': [269, 319, 308, 283], 'all_points_y': [273, 268, 288, 293]}, {'name': 'polygon', 'all_points_x': [257, 260, 273, 274], 'all_points_y': [179, 218, 220, 193]}, {'name': 'polygon', 'all_points_x': [300, 294, 286, 290], 'all_points_y': [38, 64, 62, 38]}, {'name': 'polygon', 'all_points_x': [275, 264, 229, 230], 'all_points_y': [12, 0, 0, 12]}, {'name': 'polygon', 'all_points_x': [147, 178, 184, 158], 'all_points_y': [38, 66, 56, 20]}, {'name': 'polygon', 'all_points_x': [116, 158, 155, 124], 'all_points_y': [160, 171, 185, 178]}, {'name': 'polygon', 'all_points_x': [137, 142, 166, 151], 'all_points_y': [347, 356, 359, 349]}, {'name': 'polygon', 'all_points_x': [208, 158, 166, 208], 'all_points_y': [323, 350, 358, 349]}, {'name': 'polygon', 'all_points_x': [124, 162, 174, 143], 'all_points_y': [319, 351, 337, 315]}, {'name': 'polygon', 'all_points_x': [101, 109, 130, 115], 'all_points_y': [265, 316, 311, 267]}, {'name': 'polygon', 'all_points_x': [133, 169, 168, 127], 'all_points_y': [274, 267, 253, 262]}, {'name': 'polygon', 'all_points_x': [213, 159, 161, 214], 'all_points_y': [293, 284, 270, 276]}, {'name': 'polygon', 'all_points_x': [178, 221, 222, 177], 'all_points_y': [307, 307, 296, 295]}, {'name': 'polygon', 'all_points_x': [153, 191, 202, 185], 'all_points_y': [304, 340, 326, 301]}, {'name': 'polygon', 'all_points_x': [296, 332, 324, 275], 'all_points_y': [322, 298, 287, 306]}, {'name': 'polygon', 'all_points_x': [430, 388, 393, 447], 'all_points_y': [297, 330, 349, 308]}, {'name': 'polygon', 'all_points_x': [389, 440, 423, 377], 'all_points_y': [301, 275, 262, 297]}, {'name': 'polygon', 'all_points_x': [435, 399, 399, 434], 'all_points_y': [211, 205, 217, 224]}, {'name': 'polygon', 'all_points_x': [407, 406, 390, 382], 'all_points_y': [185, 203, 205, 194]}, {'name': 'polygon', 'all_points_x': [345, 363, 393, 386], 'all_points_y': [190, 207, 209, 198]}, {'name': 'polygon', 'all_points_x': [518, 559, 559, 512], 'all_points_y': [101, 106, 118, 116]}, {'name': 'polygon', 'all_points_x': [440, 460, 473, 448], 'all_points_y': [25, 42, 32, 18]}, {'name': 'polygon', 'all_points_x': [428, 405, 390, 405], 'all_points_y': [0, 35, 22, 1]}, {'name': 'polygon', 'all_points_x': [353, 383, 404, 391], 'all_points_y': [104, 140, 139, 119]}, {'name': 'polygon', 'all_points_x': [331, 321, 377, 387], 'all_points_y': [131, 144, 165, 146]}], 'num_ids': [2, 2, 2, 2, 2, 2, 2, 2, 2, 2, 2, 2, 2, 2, 2, 2, 2, 2, 2, 2, 2, 2, 2, 2, 2, 2, 2, 2, 2, 2, 2, 2, 2, 2, 2]}\n",
      "Traceback (most recent call last):\n",
      "  File \"/home/melissap/miniconda3/envs/kumar/lib/python3.6/site-packages/mask_rcnn-2.1-py3.6.egg/mrcnn/model.py\", line 1709, in data_generator\n",
      "    use_mini_mask=config.USE_MINI_MASK)\n",
      "  File \"/home/melissap/miniconda3/envs/kumar/lib/python3.6/site-packages/mask_rcnn-2.1-py3.6.egg/mrcnn/model.py\", line 1275, in load_image_gt\n",
      "    source_class_ids = dataset.source_class_ids[dataset.image_info[image_id][\"source\"]]\n",
      "KeyError: 'larvae'"
     ]
    },
    {
     "name": "stdout",
     "output_type": "stream",
     "text": [
      "(array([], shape=(0, 0, 0), dtype=float64), array([], dtype=int32))"
     ]
    },
    {
     "name": "stderr",
     "output_type": "stream",
     "text": [
      "\n",
      "\n",
      "\n",
      "\n",
      "\n"
     ]
    },
    {
     "name": "stdout",
     "output_type": "stream",
     "text": [
      "\n"
     ]
    },
    {
     "name": "stderr",
     "output_type": "stream",
     "text": [
      "WARNING:root:You are using the default load_mask(), maybe you need to define your own one.\n",
      "WARNING:root:You are using the default load_mask(), maybe you need to define your own one.\n",
      "WARNING:root:You are using the default load_mask(), maybe you need to define your own one.\n",
      "ERROR:root:Error processing image {'id': '7_270001.jpg', 'source': 'larvae', 'path': '/data/CoRoSect/10.code/maskRCNN/Mask_RCNN_matterport/mask_rcnn/datasets/Nasekomo_insects/7/trainvalid/7_270001.jpg', 'width': 640, 'height': 360, 'polygons': [{'name': 'polygon', 'all_points_x': [453, 468, 461, 435], 'all_points_y': [206, 253, 259, 218]}, {'name': 'polygon', 'all_points_x': [560, 585, 603, 566], 'all_points_y': [287, 318, 306, 281]}, {'name': 'polygon', 'all_points_x': [466, 518, 521, 477], 'all_points_y': [268, 264, 249, 249]}, {'name': 'polygon', 'all_points_x': [510, 551, 549, 506], 'all_points_y': [278, 263, 250, 265]}, {'name': 'polygon', 'all_points_x': [454, 492, 497, 452], 'all_points_y': [130, 124, 113, 120]}, {'name': 'polygon', 'all_points_x': [397, 373, 385, 409], 'all_points_y': [34, 66, 71, 51]}, {'name': 'polygon', 'all_points_x': [497, 488, 475, 482], 'all_points_y': [29, 78, 80, 29]}, {'name': 'polygon', 'all_points_x': [292, 335, 321, 292], 'all_points_y': [216, 264, 280, 245]}, {'name': 'polygon', 'all_points_x': [290, 304, 347, 302], 'all_points_y': [118, 154, 148, 116]}, {'name': 'polygon', 'all_points_x': [252, 245, 230, 235], 'all_points_y': [158, 180, 180, 150]}, {'name': 'polygon', 'all_points_x': [371, 338, 318, 325], 'all_points_y': [59, 87, 76, 62]}, {'name': 'polygon', 'all_points_x': [280, 318, 316, 278], 'all_points_y': [109, 99, 74, 93]}, {'name': 'polygon', 'all_points_x': [310, 322, 342, 333], 'all_points_y': [9, 61, 57, 10]}, {'name': 'polygon', 'all_points_x': [290, 317, 315, 281], 'all_points_y': [59, 49, 32, 45]}, {'name': 'polygon', 'all_points_x': [254, 291, 284, 243], 'all_points_y': [88, 83, 70, 75]}, {'name': 'polygon', 'all_points_x': [224, 256, 274, 234], 'all_points_y': [29, 69, 57, 20]}, {'name': 'polygon', 'all_points_x': [237, 204, 190, 231], 'all_points_y': [68, 103, 86, 52]}, {'name': 'polygon', 'all_points_x': [203, 264, 260, 218], 'all_points_y': [98, 104, 123, 123]}, {'name': 'polygon', 'all_points_x': [210, 199, 187, 188], 'all_points_y': [18, 59, 57, 16]}, {'name': 'polygon', 'all_points_x': [64, 106, 107, 57], 'all_points_y': [145, 139, 126, 133]}, {'name': 'polygon', 'all_points_x': [268, 269, 260, 254], 'all_points_y': [311, 332, 334, 313]}, {'name': 'polygon', 'all_points_x': [240, 257, 242, 223], 'all_points_y': [344, 302, 300, 349]}, {'name': 'polygon', 'all_points_x': [242, 271, 261, 228], 'all_points_y': [302, 288, 271, 289]}, {'name': 'polygon', 'all_points_x': [245, 276, 267, 235], 'all_points_y': [275, 261, 247, 266]}, {'name': 'polygon', 'all_points_x': [194, 234, 228, 188], 'all_points_y': [235, 224, 210, 220]}, {'name': 'polygon', 'all_points_x': [223, 256, 238, 209], 'all_points_y': [259, 228, 220, 253]}, {'name': 'polygon', 'all_points_x': [157, 187, 184, 149], 'all_points_y': [44, 71, 83, 71]}, {'name': 'polygon', 'all_points_x': [185, 142, 140, 175], 'all_points_y': [89, 123, 103, 78]}, {'name': 'polygon', 'all_points_x': [137, 176, 198, 152], 'all_points_y': [211, 246, 242, 201]}, {'name': 'polygon', 'all_points_x': [192, 202, 176, 167], 'all_points_y': [275, 316, 324, 284]}, {'name': 'polygon', 'all_points_x': [74, 116, 102, 70], 'all_points_y': [291, 323, 338, 310]}, {'name': 'polygon', 'all_points_x': [149, 154, 99, 95], 'all_points_y': [311, 293, 278, 290]}, {'name': 'polygon', 'all_points_x': [107, 157, 168, 123], 'all_points_y': [266, 297, 280, 260]}, {'name': 'polygon', 'all_points_x': [1, 11, 9, 1], 'all_points_y': [344, 345, 358, 359]}, {'name': 'polygon', 'all_points_x': [2, 30, 23, 0], 'all_points_y': [340, 323, 310, 321]}, {'name': 'polygon', 'all_points_x': [24, 88, 96, 36], 'all_points_y': [263, 289, 278, 247]}, {'name': 'polygon', 'all_points_x': [125, 168, 164, 121], 'all_points_y': [263, 251, 239, 249]}, {'name': 'polygon', 'all_points_x': [173, 176, 192, 190], 'all_points_y': [218, 180, 175, 221]}, {'name': 'polygon', 'all_points_x': [138, 133, 180, 190], 'all_points_y': [128, 139, 172, 165]}, {'name': 'polygon', 'all_points_x': [125, 167, 183, 142], 'all_points_y': [153, 199, 176, 145]}, {'name': 'polygon', 'all_points_x': [99, 155, 148, 88], 'all_points_y': [219, 190, 175, 204]}, {'name': 'polygon', 'all_points_x': [72, 88, 76, 59], 'all_points_y': [264, 255, 216, 226]}, {'name': 'polygon', 'all_points_x': [18, 62, 61, 15], 'all_points_y': [253, 230, 216, 237]}, {'name': 'polygon', 'all_points_x': [10, 76, 73, 16], 'all_points_y': [215, 209, 198, 195]}, {'name': 'polygon', 'all_points_x': [2, 20, 16, 0], 'all_points_y': [197, 166, 157, 169]}, {'name': 'polygon', 'all_points_x': [85, 88, 76, 71], 'all_points_y': [35, 72, 75, 36]}, {'name': 'polygon', 'all_points_x': [87, 118, 128, 109], 'all_points_y': [59, 57, 25, 28]}, {'name': 'polygon', 'all_points_x': [80, 128, 111, 76], 'all_points_y': [131, 99, 94, 121]}, {'name': 'polygon', 'all_points_x': [71, 92, 78, 59], 'all_points_y': [129, 101, 95, 126]}, {'name': 'polygon', 'all_points_x': [54, 81, 68, 45], 'all_points_y': [118, 85, 82, 109]}, {'name': 'polygon', 'all_points_x': [22, 64, 53, 22], 'all_points_y': [164, 152, 138, 145]}, {'name': 'polygon', 'all_points_x': [2, 50, 45, 2], 'all_points_y': [30, 33, 17, 16]}, {'name': 'polygon', 'all_points_x': [42, 35, 16, 15], 'all_points_y': [57, 99, 89, 52]}, {'name': 'polygon', 'all_points_x': [74, 47, 35, 52], 'all_points_y': [58, 102, 98, 55]}], 'num_ids': [2, 2, 2, 2, 2, 2, 2, 2, 2, 2, 2, 2, 2, 2, 2, 2, 2, 2, 2, 2, 2, 2, 2, 2, 2, 2, 2, 2, 2, 2, 2, 2, 2, 2, 2, 2, 2, 2, 2, 2, 2, 2, 2, 2, 2, 2, 2, 2, 2, 2, 2, 2, 2, 2]}\n",
      "Traceback (most recent call last):\n",
      "  File \"/home/melissap/miniconda3/envs/kumar/lib/python3.6/site-packages/mask_rcnn-2.1-py3.6.egg/mrcnn/model.py\", line 1709, in data_generator\n",
      "    use_mini_mask=config.USE_MINI_MASK)\n",
      "  File \"/home/melissap/miniconda3/envs/kumar/lib/python3.6/site-packages/mask_rcnn-2.1-py3.6.egg/mrcnn/model.py\", line 1275, in load_image_gt\n",
      "    source_class_ids = dataset.source_class_ids[dataset.image_info[image_id][\"source\"]]\n",
      "KeyError: 'larvae'ERROR:root:Error processing image {'id': '37_130001.jpg', 'source': 'pupae', 'path': '/data/CoRoSect/10.code/maskRCNN/Mask_RCNN_matterport/mask_rcnn/datasets/Nasekomo_insects/37/trainvalid/37_130001.jpg', 'width': 640, 'height': 360, 'polygons': [{'name': 'polygon', 'all_points_x': [580, 629, 638, 590], 'all_points_y': [270, 298, 281, 240]}, {'name': 'polygon', 'all_points_x': [535, 551, 502, 497], 'all_points_y': [296, 360, 358, 296]}, {'name': 'polygon', 'all_points_x': [564, 590, 557, 538], 'all_points_y': [262, 358, 359, 265]}, {'name': 'polygon', 'all_points_x': [554, 639, 639, 537], 'all_points_y': [236, 188, 151, 197]}, {'name': 'polygon', 'all_points_x': [468, 493, 412, 379], 'all_points_y': [234, 196, 115, 136]}, {'name': 'polygon', 'all_points_x': [460, 402, 379, 408], 'all_points_y': [358, 293, 308, 359]}, {'name': 'polygon', 'all_points_x': [396, 416, 397, 362], 'all_points_y': [296, 282, 249, 265]}, {'name': 'polygon', 'all_points_x': [362, 415, 390, 293], 'all_points_y': [252, 223, 201, 228]}, {'name': 'polygon', 'all_points_x': [381, 402, 366, 341], 'all_points_y': [273, 359, 358, 276]}, {'name': 'polygon', 'all_points_x': [638, 559, 555, 638], 'all_points_y': [128, 139, 175, 165]}, {'name': 'polygon', 'all_points_x': [586, 532, 562, 620], 'all_points_y': [40, 115, 137, 59]}, {'name': 'polygon', 'all_points_x': [566, 572, 639, 637], 'all_points_y': [2, 31, 71, 1]}, {'name': 'polygon', 'all_points_x': [468, 444, 481, 515], 'all_points_y': [2, 54, 87, 2]}, {'name': 'polygon', 'all_points_x': [528, 527, 494, 502], 'all_points_y': [2, 112, 121, 2]}, {'name': 'polygon', 'all_points_x': [374, 412, 458, 411], 'all_points_y': [1, 76, 76, 2]}, {'name': 'polygon', 'all_points_x': [322, 382, 423, 349], 'all_points_y': [50, 130, 108, 36]}, {'name': 'polygon', 'all_points_x': [275, 298, 335, 314], 'all_points_y': [154, 57, 63, 152]}, {'name': 'polygon', 'all_points_x': [154, 229, 215, 145], 'all_points_y': [145, 123, 96, 118]}, {'name': 'polygon', 'all_points_x': [236, 232, 192, 204], 'all_points_y': [123, 194, 230, 119]}, {'name': 'polygon', 'all_points_x': [402, 435, 461, 420], 'all_points_y': [170, 170, 240, 247]}, {'name': 'polygon', 'all_points_x': [274, 302, 276, 245], 'all_points_y': [3, 57, 108, 8]}, {'name': 'polygon', 'all_points_x': [256, 251, 232, 229], 'all_points_y': [52, 2, 2, 57]}, {'name': 'polygon', 'all_points_x': [241, 207, 181, 204], 'all_points_y': [1, 106, 102, 1]}], 'num_ids': [3, 3, 3, 3, 3, 3, 3, 3, 3, 3, 3, 3, 3, 3, 3, 3, 3, 3, 3, 3, 3, 3, 3]}\n",
      "Traceback (most recent call last):\n",
      "  File \"/home/melissap/miniconda3/envs/kumar/lib/python3.6/site-packages/mask_rcnn-2.1-py3.6.egg/mrcnn/model.py\", line 1709, in data_generator\n",
      "    use_mini_mask=config.USE_MINI_MASK)\n",
      "  File \"/home/melissap/miniconda3/envs/kumar/lib/python3.6/site-packages/mask_rcnn-2.1-py3.6.egg/mrcnn/model.py\", line 1275, in load_image_gt\n",
      "    source_class_ids = dataset.source_class_ids[dataset.image_info[image_id][\"source\"]]\n",
      "KeyError: 'pupae'"
     ]
    },
    {
     "name": "stdout",
     "output_type": "stream",
     "text": [
      "(array([], shape=(0, 0, 0), dtype=float64), array([], dtype=int32))"
     ]
    },
    {
     "name": "stderr",
     "output_type": "stream",
     "text": [
      "WARNING:root:You are using the default load_mask(), maybe you need to define your own one.WARNING:root:You are using the default load_mask(), maybe you need to define your own one."
     ]
    },
    {
     "name": "stdout",
     "output_type": "stream",
     "text": [
      "(array([], shape=(0, 0, 0), dtype=float64), array([], dtype=int32))"
     ]
    },
    {
     "name": "stderr",
     "output_type": "stream",
     "text": [
      "ERROR:root:Error processing image {'id': '40_260001.jpg', 'source': 'adult', 'path': '/data/CoRoSect/10.code/maskRCNN/Mask_RCNN_matterport/mask_rcnn/datasets/Nasekomo_insects/40/trainvalid/40_260001.jpg', 'width': 640, 'height': 360, 'polygons': [{'name': 'polygon', 'all_points_x': [502, 466, 444, 495], 'all_points_y': [238, 286, 272, 228]}, {'name': 'polygon', 'all_points_x': [632, 640, 640, 616], 'all_points_y': [9, 9, 92, 78]}, {'name': 'polygon', 'all_points_x': [601, 602, 630, 634], 'all_points_y': [85, 146, 146, 75]}, {'name': 'polygon', 'all_points_x': [639, 624, 629, 639], 'all_points_y': [92, 101, 202, 204]}, {'name': 'polygon', 'all_points_x': [326, 266, 292, 339], 'all_points_y': [237, 245, 211, 199]}, {'name': 'polygon', 'all_points_x': [551, 553, 523, 530], 'all_points_y': [297, 359, 357, 292]}, {'name': 'polygon', 'all_points_x': [556, 541, 560, 580], 'all_points_y': [244, 272, 280, 249]}, {'name': 'polygon', 'all_points_x': [560, 625, 639, 574], 'all_points_y': [285, 287, 259, 254]}, {'name': 'polygon', 'all_points_x': [598, 639, 639, 571], 'all_points_y': [350, 314, 270, 349]}, {'name': 'polygon', 'all_points_x': [413, 499, 474, 399], 'all_points_y': [298, 227, 211, 256]}, {'name': 'polygon', 'all_points_x': [480, 594, 596, 485], 'all_points_y': [221, 249, 211, 176]}, {'name': 'polygon', 'all_points_x': [629, 631, 599, 599], 'all_points_y': [141, 226, 251, 136]}, {'name': 'polygon', 'all_points_x': [544, 600, 603, 565], 'all_points_y': [90, 131, 97, 67]}, {'name': 'polygon', 'all_points_x': [449, 523, 513, 466], 'all_points_y': [68, 111, 131, 114]}, {'name': 'polygon', 'all_points_x': [499, 624, 617, 496], 'all_points_y': [53, 33, 5, 26]}, {'name': 'polygon', 'all_points_x': [441, 477, 440, 418], 'all_points_y': [38, 148, 138, 41]}, {'name': 'polygon', 'all_points_x': [415, 429, 391, 374], 'all_points_y': [7, 137, 140, 5]}, {'name': 'polygon', 'all_points_x': [10, 80, 69, 4], 'all_points_y': [135, 88, 47, 98]}, {'name': 'polygon', 'all_points_x': [192, 228, 209, 180], 'all_points_y': [140, 167, 187, 167]}, {'name': 'polygon', 'all_points_x': [302, 262, 232, 283], 'all_points_y': [278, 359, 358, 268]}, {'name': 'polygon', 'all_points_x': [178, 239, 256, 242], 'all_points_y': [322, 347, 316, 306]}, {'name': 'polygon', 'all_points_x': [104, 174, 123, 71], 'all_points_y': [275, 356, 360, 304]}, {'name': 'polygon', 'all_points_x': [65, 0, 16, 45], 'all_points_y': [322, 271, 237, 261]}, {'name': 'polygon', 'all_points_x': [0, 20, 16, 2], 'all_points_y': [259, 227, 213, 225]}, {'name': 'polygon', 'all_points_x': [14, 64, 92, 40], 'all_points_y': [189, 309, 286, 176]}, {'name': 'polygon', 'all_points_x': [93, 65, 95, 124], 'all_points_y': [57, 181, 177, 68]}, {'name': 'polygon', 'all_points_x': [46, 61, 85, 70], 'all_points_y': [172, 275, 275, 178]}, {'name': 'polygon', 'all_points_x': [79, 140, 178, 97], 'all_points_y': [228, 318, 292, 206]}, {'name': 'polygon', 'all_points_x': [152, 178, 88, 61], 'all_points_y': [262, 240, 174, 195]}, {'name': 'polygon', 'all_points_x': [187, 144, 130, 165], 'all_points_y': [213, 165, 181, 224]}, {'name': 'polygon', 'all_points_x': [163, 208, 176, 140], 'all_points_y': [139, 194, 209, 162]}, {'name': 'polygon', 'all_points_x': [214, 271, 298, 245], 'all_points_y': [133, 246, 232, 123]}, {'name': 'polygon', 'all_points_x': [374, 463, 488, 390], 'all_points_y': [196, 240, 211, 162]}, {'name': 'polygon', 'all_points_x': [226, 242, 206, 189], 'all_points_y': [229, 272, 288, 242]}, {'name': 'polygon', 'all_points_x': [213, 149, 126, 183], 'all_points_y': [2, 99, 88, 1]}, {'name': 'polygon', 'all_points_x': [199, 259, 254, 168], 'all_points_y': [44, 95, 126, 77]}, {'name': 'polygon', 'all_points_x': [201, 120, 88, 169], 'all_points_y': [98, 189, 177, 76]}], 'num_ids': [4, 4, 4, 4, 4, 4, 4, 4, 4, 4, 4, 4, 4, 4, 4, 4, 4, 4, 4, 4, 4, 4, 4, 4, 4, 4, 4, 4, 4, 4, 4, 4, 4, 4, 4, 4, 4]}\n",
      "Traceback (most recent call last):\n",
      "  File \"/home/melissap/miniconda3/envs/kumar/lib/python3.6/site-packages/mask_rcnn-2.1-py3.6.egg/mrcnn/model.py\", line 1709, in data_generator\n",
      "    use_mini_mask=config.USE_MINI_MASK)\n",
      "  File \"/home/melissap/miniconda3/envs/kumar/lib/python3.6/site-packages/mask_rcnn-2.1-py3.6.egg/mrcnn/model.py\", line 1275, in load_image_gt\n",
      "    source_class_ids = dataset.source_class_ids[dataset.image_info[image_id][\"source\"]]\n",
      "KeyError: 'adult'"
     ]
    },
    {
     "name": "stdout",
     "output_type": "stream",
     "text": [
      "\n"
     ]
    },
    {
     "name": "stderr",
     "output_type": "stream",
     "text": [
      "\n"
     ]
    },
    {
     "name": "stdout",
     "output_type": "stream",
     "text": [
      "(array([], shape=(0, 0, 0), dtype=float64), array([], dtype=int32))(array([], shape=(0, 0, 0), dtype=float64), array([], dtype=int32))\n"
     ]
    },
    {
     "name": "stderr",
     "output_type": "stream",
     "text": [
      "WARNING:root:You are using the default load_mask(), maybe you need to define your own one."
     ]
    },
    {
     "name": "stdout",
     "output_type": "stream",
     "text": [
      "(array([], shape=(0, 0, 0), dtype=float64), array([], dtype=int32))(array([], shape=(0, 0, 0), dtype=float64), array([], dtype=int32))"
     ]
    },
    {
     "name": "stderr",
     "output_type": "stream",
     "text": [
      "WARNING:root:You are using the default load_mask(), maybe you need to define your own one.\n",
      "\n",
      "\n"
     ]
    },
    {
     "name": "stdout",
     "output_type": "stream",
     "text": [
      "\n"
     ]
    },
    {
     "name": "stderr",
     "output_type": "stream",
     "text": [
      "\n",
      "\n",
      "WARNING:root:You are using the default load_mask(), maybe you need to define your own one.\n"
     ]
    },
    {
     "name": "stdout",
     "output_type": "stream",
     "text": [
      "(array([], shape=(0, 0, 0), dtype=float64), array([], dtype=int32))"
     ]
    },
    {
     "name": "stderr",
     "output_type": "stream",
     "text": [
      "ERROR:root:Error processing image {'id': '13_010001.jpg', 'source': 'larvae', 'path': '/data/CoRoSect/10.code/maskRCNN/Mask_RCNN_matterport/mask_rcnn/datasets/Nasekomo_insects/13/trainvalid/13_010001.jpg', 'width': 640, 'height': 360, 'polygons': [{'name': 'polygon', 'all_points_x': [325, 327, 362, 344], 'all_points_y': [84, 126, 125, 73]}, {'name': 'polygon', 'all_points_x': [533, 536, 561, 567], 'all_points_y': [3, 15, 14, 2]}, {'name': 'polygon', 'all_points_x': [638, 598, 602, 637], 'all_points_y': [65, 40, 13, 30]}, {'name': 'polygon', 'all_points_x': [534, 614, 623, 552], 'all_points_y': [68, 90, 69, 25]}, {'name': 'polygon', 'all_points_x': [638, 601, 631, 639], 'all_points_y': [143, 187, 196, 173]}, {'name': 'polygon', 'all_points_x': [637, 603, 611, 638], 'all_points_y': [210, 232, 261, 255]}, {'name': 'polygon', 'all_points_x': [409, 433, 435, 389], 'all_points_y': [338, 342, 359, 359]}, {'name': 'polygon', 'all_points_x': [533, 517, 469, 495], 'all_points_y': [325, 357, 358, 325]}, {'name': 'polygon', 'all_points_x': [484, 593, 454, 379], 'all_points_y': [243, 256, 360, 272]}, {'name': 'polygon', 'all_points_x': [488, 529, 532, 477], 'all_points_y': [137, 142, 169, 167]}, {'name': 'polygon', 'all_points_x': [408, 401, 372, 355], 'all_points_y': [272, 353, 347, 288]}, {'name': 'polygon', 'all_points_x': [403, 473, 498, 446], 'all_points_y': [0, 65, 44, 2]}, {'name': 'polygon', 'all_points_x': [359, 418, 459, 389], 'all_points_y': [27, 156, 135, 5]}], 'num_ids': [2, 2, 2, 2, 2, 2, 2, 2, 2, 2, 2, 2, 2]}\n",
      "Traceback (most recent call last):\n",
      "  File \"/home/melissap/miniconda3/envs/kumar/lib/python3.6/site-packages/mask_rcnn-2.1-py3.6.egg/mrcnn/model.py\", line 1709, in data_generator\n",
      "    use_mini_mask=config.USE_MINI_MASK)\n",
      "  File \"/home/melissap/miniconda3/envs/kumar/lib/python3.6/site-packages/mask_rcnn-2.1-py3.6.egg/mrcnn/model.py\", line 1275, in load_image_gt\n",
      "    source_class_ids = dataset.source_class_ids[dataset.image_info[image_id][\"source\"]]\n",
      "KeyError: 'larvae'\n"
     ]
    },
    {
     "name": "stdout",
     "output_type": "stream",
     "text": [
      "\n"
     ]
    },
    {
     "name": "stderr",
     "output_type": "stream",
     "text": [
      "\n",
      "WARNING:root:You are using the default load_mask(), maybe you need to define your own one.\n"
     ]
    },
    {
     "name": "stdout",
     "output_type": "stream",
     "text": [
      "\n"
     ]
    },
    {
     "name": "stderr",
     "output_type": "stream",
     "text": [
      "ERROR:root:Error processing image {'id': '30_230001.jpg', 'source': 'pupae', 'path': '/data/CoRoSect/10.code/maskRCNN/Mask_RCNN_matterport/mask_rcnn/datasets/Nasekomo_insects/30/trainvalid/30_230001.jpg', 'width': 640, 'height': 360, 'polygons': [{'name': 'polygon', 'all_points_x': [319, 340, 330, 294], 'all_points_y': [100, 94, 70, 90]}, {'name': 'polygon', 'all_points_x': [2, 64, 53, 0], 'all_points_y': [167, 179, 205, 212]}, {'name': 'polygon', 'all_points_x': [97, 155, 128, 71], 'all_points_y': [291, 335, 355, 306]}, {'name': 'polygon', 'all_points_x': [528, 569, 555, 503], 'all_points_y': [152, 177, 199, 174]}, {'name': 'polygon', 'all_points_x': [541, 559, 575, 564], 'all_points_y': [154, 118, 123, 168]}, {'name': 'polygon', 'all_points_x': [532, 568, 562, 522], 'all_points_y': [127, 130, 104, 105]}, {'name': 'polygon', 'all_points_x': [309, 348, 340, 294], 'all_points_y': [210, 228, 260, 234]}, {'name': 'polygon', 'all_points_x': [274, 303, 320, 295], 'all_points_y': [212, 274, 263, 212]}, {'name': 'polygon', 'all_points_x': [187, 201, 232, 229], 'all_points_y': [2, 22, 16, 2]}, {'name': 'polygon', 'all_points_x': [274, 276, 242, 240], 'all_points_y': [249, 203, 220, 246]}, {'name': 'polygon', 'all_points_x': [387, 434, 445, 391], 'all_points_y': [328, 347, 312, 296]}, {'name': 'polygon', 'all_points_x': [461, 438, 470, 501], 'all_points_y': [90, 162, 184, 102]}, {'name': 'polygon', 'all_points_x': [364, 424, 446, 430], 'all_points_y': [2, 52, 30, 1]}, {'name': 'polygon', 'all_points_x': [339, 357, 390, 392], 'all_points_y': [86, 151, 153, 103]}, {'name': 'polygon', 'all_points_x': [336, 345, 385, 398], 'all_points_y': [190, 275, 274, 206]}, {'name': 'polygon', 'all_points_x': [157, 200, 200, 148], 'all_points_y': [233, 220, 184, 208]}, {'name': 'polygon', 'all_points_x': [109, 74, 49, 91], 'all_points_y': [89, 114, 96, 52]}, {'name': 'polygon', 'all_points_x': [516, 539, 573, 560], 'all_points_y': [2, 62, 59, 3]}, {'name': 'polygon', 'all_points_x': [587, 623, 572, 557], 'all_points_y': [160, 108, 112, 152]}, {'name': 'polygon', 'all_points_x': [485, 612, 613, 484], 'all_points_y': [86, 118, 81, 62]}, {'name': 'polygon', 'all_points_x': [500, 555, 631, 529], 'all_points_y': [273, 342, 352, 256]}, {'name': 'polygon', 'all_points_x': [491, 493, 453, 449], 'all_points_y': [245, 341, 344, 254]}, {'name': 'polygon', 'all_points_x': [408, 521, 482, 394], 'all_points_y': [271, 230, 199, 246]}], 'num_ids': [3, 3, 3, 3, 3, 3, 3, 3, 3, 3, 3, 3, 3, 3, 3, 3, 3, 3, 3, 3, 3, 3, 3]}\n",
      "Traceback (most recent call last):\n",
      "  File \"/home/melissap/miniconda3/envs/kumar/lib/python3.6/site-packages/mask_rcnn-2.1-py3.6.egg/mrcnn/model.py\", line 1709, in data_generator\n",
      "    use_mini_mask=config.USE_MINI_MASK)\n",
      "  File \"/home/melissap/miniconda3/envs/kumar/lib/python3.6/site-packages/mask_rcnn-2.1-py3.6.egg/mrcnn/model.py\", line 1275, in load_image_gt\n",
      "    source_class_ids = dataset.source_class_ids[dataset.image_info[image_id][\"source\"]]\n",
      "KeyError: 'pupae'"
     ]
    },
    {
     "name": "stdout",
     "output_type": "stream",
     "text": [
      "\n"
     ]
    },
    {
     "name": "stderr",
     "output_type": "stream",
     "text": [
      "\n",
      "WARNING:root:You are using the default load_mask(), maybe you need to define your own one.\n",
      "WARNING:root:You are using the default load_mask(), maybe you need to define your own one.\n",
      "WARNING:root:You are using the default load_mask(), maybe you need to define your own one.WARNING:root:You are using the default load_mask(), maybe you need to define your own one.WARNING:root:You are using the default load_mask(), maybe you need to define your own one."
     ]
    },
    {
     "name": "stdout",
     "output_type": "stream",
     "text": [
      "(array([], shape=(0, 0, 0), dtype=float64), array([], dtype=int32))"
     ]
    },
    {
     "name": "stderr",
     "output_type": "stream",
     "text": [
      "WARNING:root:You are using the default load_mask(), maybe you need to define your own one.\n",
      "\n",
      "ERROR:root:Error processing image {'id': '22_030001.jpg', 'source': 'pupae', 'path': '/data/CoRoSect/10.code/maskRCNN/Mask_RCNN_matterport/mask_rcnn/datasets/Nasekomo_insects/22/trainvalid/22_030001.jpg', 'width': 640, 'height': 360, 'polygons': [{'name': 'polygon', 'all_points_x': [30, 114, 123, 92], 'all_points_y': [357, 318, 337, 358]}, {'name': 'polygon', 'all_points_x': [550, 638, 639, 555], 'all_points_y': [359, 359, 300, 294]}, {'name': 'polygon', 'all_points_x': [253, 153, 152, 248], 'all_points_y': [66, 26, 1, 11]}, {'name': 'polygon', 'all_points_x': [147, 153, 80, 103], 'all_points_y': [35, 1, 2, 33]}, {'name': 'polygon', 'all_points_x': [1, 79, 80, 1], 'all_points_y': [52, 25, 1, 2]}, {'name': 'polygon', 'all_points_x': [56, 62, 37, 37], 'all_points_y': [86, 119, 107, 83]}, {'name': 'polygon', 'all_points_x': [69, 68, 43, 48], 'all_points_y': [125, 169, 149, 121]}, {'name': 'polygon', 'all_points_x': [25, 96, 70, 9], 'all_points_y': [144, 188, 214, 171]}, {'name': 'polygon', 'all_points_x': [329, 186, 184, 319], 'all_points_y': [162, 189, 215, 211]}, {'name': 'polygon', 'all_points_x': [354, 352, 391, 383], 'all_points_y': [164, 204, 194, 157]}, {'name': 'polygon', 'all_points_x': [353, 329, 300, 330], 'all_points_y': [200, 218, 205, 182]}, {'name': 'polygon', 'all_points_x': [228, 151, 138, 219], 'all_points_y': [225, 190, 214, 255]}, {'name': 'polygon', 'all_points_x': [211, 302, 300, 202], 'all_points_y': [98, 111, 147, 132]}, {'name': 'polygon', 'all_points_x': [337, 273, 247, 258], 'all_points_y': [52, 1, 3, 62]}, {'name': 'polygon', 'all_points_x': [399, 369, 378, 427], 'all_points_y': [9, 68, 80, 23]}, {'name': 'polygon', 'all_points_x': [508, 517, 499, 482], 'all_points_y': [69, 121, 120, 68]}, {'name': 'polygon', 'all_points_x': [411, 416, 456, 451], 'all_points_y': [76, 137, 135, 78]}, {'name': 'polygon', 'all_points_x': [396, 482, 472, 381], 'all_points_y': [96, 63, 31, 53]}, {'name': 'polygon', 'all_points_x': [513, 544, 538, 500], 'all_points_y': [81, 76, 51, 44]}, {'name': 'polygon', 'all_points_x': [623, 607, 551, 562], 'all_points_y': [37, 0, 2, 44]}, {'name': 'polygon', 'all_points_x': [608, 582, 593, 630], 'all_points_y': [98, 62, 43, 86]}, {'name': 'polygon', 'all_points_x': [598, 638, 638, 594], 'all_points_y': [136, 124, 93, 112]}, {'name': 'polygon', 'all_points_x': [532, 611, 631, 528], 'all_points_y': [269, 276, 245, 226]}, {'name': 'polygon', 'all_points_x': [480, 427, 437, 492], 'all_points_y': [333, 288, 271, 306]}, {'name': 'polygon', 'all_points_x': [418, 377, 353, 409], 'all_points_y': [232, 193, 209, 258]}, {'name': 'polygon', 'all_points_x': [374, 277, 277, 367], 'all_points_y': [211, 222, 272, 258]}, {'name': 'polygon', 'all_points_x': [445, 373, 345, 440], 'all_points_y': [258, 238, 265, 281]}, {'name': 'polygon', 'all_points_x': [519, 590, 568, 498], 'all_points_y': [145, 195, 237, 182]}, {'name': 'polygon', 'all_points_x': [468, 473, 441, 433], 'all_points_y': [213, 138, 144, 213]}, {'name': 'polygon', 'all_points_x': [401, 434, 445, 375], 'all_points_y': [137, 167, 234, 158]}, {'name': 'polygon', 'all_points_x': [307, 388, 371, 287], 'all_points_y': [0, 33, 59, 18]}], 'num_ids': [3, 3, 3, 3, 3, 3, 3, 3, 3, 3, 3, 3, 3, 3, 3, 3, 3, 3, 3, 3, 3, 3, 3, 3, 3, 3, 3, 3, 3, 3, 3]}\n",
      "Traceback (most recent call last):\n",
      "  File \"/home/melissap/miniconda3/envs/kumar/lib/python3.6/site-packages/mask_rcnn-2.1-py3.6.egg/mrcnn/model.py\", line 1709, in data_generator\n",
      "    use_mini_mask=config.USE_MINI_MASK)\n",
      "  File \"/home/melissap/miniconda3/envs/kumar/lib/python3.6/site-packages/mask_rcnn-2.1-py3.6.egg/mrcnn/model.py\", line 1275, in load_image_gt\n",
      "    source_class_ids = dataset.source_class_ids[dataset.image_info[image_id][\"source\"]]\n",
      "KeyError: 'pupae'ERROR:root:Error processing image {'id': '30_040001.jpg', 'source': 'pupae', 'path': '/data/CoRoSect/10.code/maskRCNN/Mask_RCNN_matterport/mask_rcnn/datasets/Nasekomo_insects/30/trainvalid/30_040001.jpg', 'width': 640, 'height': 360, 'polygons': [{'name': 'polygon', 'all_points_x': [99, 139, 138, 80], 'all_points_y': [83, 78, 54, 62]}, {'name': 'polygon', 'all_points_x': [168, 268, 221, 138], 'all_points_y': [25, 135, 127, 38]}, {'name': 'polygon', 'all_points_x': [377, 386, 337, 327], 'all_points_y': [27, 80, 92, 25]}, {'name': 'polygon', 'all_points_x': [603, 570, 565, 596], 'all_points_y': [282, 329, 289, 249]}, {'name': 'polygon', 'all_points_x': [412, 438, 428, 393], 'all_points_y': [317, 291, 275, 299]}, {'name': 'polygon', 'all_points_x': [218, 247, 291, 253], 'all_points_y': [195, 312, 313, 185]}, {'name': 'polygon', 'all_points_x': [282, 320, 287, 259], 'all_points_y': [255, 159, 148, 213]}, {'name': 'polygon', 'all_points_x': [372, 495, 497, 367], 'all_points_y': [236, 249, 210, 186]}, {'name': 'polygon', 'all_points_x': [220, 244, 228, 185], 'all_points_y': [18, 79, 85, 22]}, {'name': 'polygon', 'all_points_x': [307, 284, 242, 275], 'all_points_y': [36, 85, 81, 22]}, {'name': 'polygon', 'all_points_x': [49, 73, 42, 30], 'all_points_y': [67, 15, 3, 18]}, {'name': 'polygon', 'all_points_x': [0, 3, 51, 24], 'all_points_y': [4, 79, 74, 0]}, {'name': 'polygon', 'all_points_x': [2, 141, 149, 0], 'all_points_y': [152, 143, 177, 197]}, {'name': 'polygon', 'all_points_x': [32, 65, 123, 62], 'all_points_y': [130, 226, 200, 118]}, {'name': 'polygon', 'all_points_x': [1, 55, 48, 1], 'all_points_y': [317, 291, 266, 286]}, {'name': 'polygon', 'all_points_x': [46, 89, 120, 81], 'all_points_y': [270, 205, 216, 288]}], 'num_ids': [3, 3, 3, 3, 3, 3, 3, 3, 3, 3, 3, 3, 3, 3, 3, 3]}\n",
      "Traceback (most recent call last):\n",
      "  File \"/home/melissap/miniconda3/envs/kumar/lib/python3.6/site-packages/mask_rcnn-2.1-py3.6.egg/mrcnn/model.py\", line 1709, in data_generator\n",
      "    use_mini_mask=config.USE_MINI_MASK)\n",
      "  File \"/home/melissap/miniconda3/envs/kumar/lib/python3.6/site-packages/mask_rcnn-2.1-py3.6.egg/mrcnn/model.py\", line 1275, in load_image_gt\n",
      "    source_class_ids = dataset.source_class_ids[dataset.image_info[image_id][\"source\"]]\n",
      "KeyError: 'pupae'WARNING:root:You are using the default load_mask(), maybe you need to define your own one.ERROR:root:Error processing image {'id': '22_180001.jpg', 'source': 'pupae', 'path': '/data/CoRoSect/10.code/maskRCNN/Mask_RCNN_matterport/mask_rcnn/datasets/Nasekomo_insects/22/trainvalid/22_180001.jpg', 'width': 640, 'height': 360, 'polygons': [{'name': 'polygon', 'all_points_x': [378, 471, 461, 364], 'all_points_y': [26, 37, 1, 0]}, {'name': 'polygon', 'all_points_x': [122, 41, 85, 168], 'all_points_y': [94, 1, 2, 68]}, {'name': 'polygon', 'all_points_x': [82, 157, 171, 74], 'all_points_y': [197, 165, 190, 226]}, {'name': 'polygon', 'all_points_x': [17, 113, 88, 19], 'all_points_y': [280, 266, 304, 308]}, {'name': 'polygon', 'all_points_x': [28, 101, 115, 26], 'all_points_y': [321, 322, 352, 355]}, {'name': 'polygon', 'all_points_x': [225, 258, 290, 273], 'all_points_y': [202, 193, 239, 326]}, {'name': 'polygon', 'all_points_x': [298, 364, 381, 364], 'all_points_y': [1, 79, 38, 2]}, {'name': 'polygon', 'all_points_x': [256, 307, 354, 290], 'all_points_y': [56, 146, 152, 34]}, {'name': 'polygon', 'all_points_x': [395, 465, 444, 352], 'all_points_y': [209, 142, 123, 196]}, {'name': 'polygon', 'all_points_x': [164, 109, 147, 204], 'all_points_y': [174, 250, 271, 190]}], 'num_ids': [3, 3, 3, 3, 3, 3, 3, 3, 3, 3]}\n",
      "Traceback (most recent call last):\n",
      "  File \"/home/melissap/miniconda3/envs/kumar/lib/python3.6/site-packages/mask_rcnn-2.1-py3.6.egg/mrcnn/model.py\", line 1709, in data_generator\n",
      "    use_mini_mask=config.USE_MINI_MASK)\n",
      "  File \"/home/melissap/miniconda3/envs/kumar/lib/python3.6/site-packages/mask_rcnn-2.1-py3.6.egg/mrcnn/model.py\", line 1275, in load_image_gt\n",
      "    source_class_ids = dataset.source_class_ids[dataset.image_info[image_id][\"source\"]]\n",
      "KeyError: 'pupae'"
     ]
    },
    {
     "name": "stdout",
     "output_type": "stream",
     "text": [
      "(array([], shape=(0, 0, 0), dtype=float64), array([], dtype=int32))(array([], shape=(0, 0, 0), dtype=float64), array([], dtype=int32))"
     ]
    },
    {
     "name": "stderr",
     "output_type": "stream",
     "text": [
      "WARNING:root:You are using the default load_mask(), maybe you need to define your own one."
     ]
    },
    {
     "name": "stdout",
     "output_type": "stream",
     "text": [
      "Epoch 1/30\n"
     ]
    },
    {
     "name": "stderr",
     "output_type": "stream",
     "text": [
      "\n",
      "\n",
      "\n"
     ]
    },
    {
     "name": "stdout",
     "output_type": "stream",
     "text": [
      "(array([], shape=(0, 0, 0), dtype=float64), array([], dtype=int32))"
     ]
    },
    {
     "name": "stderr",
     "output_type": "stream",
     "text": [
      "\n",
      "WARNING:root:You are using the default load_mask(), maybe you need to define your own one."
     ]
    },
    {
     "name": "stdout",
     "output_type": "stream",
     "text": [
      "\n",
      "\n"
     ]
    },
    {
     "name": "stderr",
     "output_type": "stream",
     "text": [
      "\n",
      "WARNING:root:You are using the default load_mask(), maybe you need to define your own one.\n",
      "\n",
      "WARNING:root:You are using the default load_mask(), maybe you need to define your own one.WARNING:root:You are using the default load_mask(), maybe you need to define your own one."
     ]
    },
    {
     "name": "stdout",
     "output_type": "stream",
     "text": [
      "\n"
     ]
    },
    {
     "name": "stderr",
     "output_type": "stream",
     "text": [
      "WARNING:root:You are using the default load_mask(), maybe you need to define your own one.ERROR:root:Error processing image {'id': '1_040001.jpg', 'source': 'eggs', 'path': '/data/CoRoSect/10.code/maskRCNN/Mask_RCNN_matterport/mask_rcnn/datasets/Nasekomo_insects/1/trainvalid/1_040001.jpg', 'width': 640, 'height': 360, 'polygons': [{'name': 'polygon', 'all_points_x': [226, 244, 226, 219], 'all_points_y': [234, 225, 217, 221]}, {'name': 'polygon', 'all_points_x': [604, 592, 614, 615], 'all_points_y': [123, 134, 145, 133]}, {'name': 'polygon', 'all_points_x': [474, 481, 507, 498], 'all_points_y': [16, 30, 17, 4]}, {'name': 'polygon', 'all_points_x': [438, 436, 448, 453], 'all_points_y': [100, 124, 121, 97]}, {'name': 'polygon', 'all_points_x': [263, 263, 287, 281], 'all_points_y': [153, 169, 166, 143]}], 'num_ids': [1, 1, 1, 1, 1]}\n",
      "Traceback (most recent call last):\n",
      "  File \"/home/melissap/miniconda3/envs/kumar/lib/python3.6/site-packages/mask_rcnn-2.1-py3.6.egg/mrcnn/model.py\", line 1709, in data_generator\n",
      "    use_mini_mask=config.USE_MINI_MASK)\n",
      "  File \"/home/melissap/miniconda3/envs/kumar/lib/python3.6/site-packages/mask_rcnn-2.1-py3.6.egg/mrcnn/model.py\", line 1275, in load_image_gt\n",
      "    source_class_ids = dataset.source_class_ids[dataset.image_info[image_id][\"source\"]]\n",
      "KeyError: 'eggs'\n"
     ]
    },
    {
     "name": "stdout",
     "output_type": "stream",
     "text": [
      "(array([], shape=(0, 0, 0), dtype=float64), array([], dtype=int32))"
     ]
    },
    {
     "name": "stderr",
     "output_type": "stream",
     "text": [
      "\n"
     ]
    },
    {
     "name": "stdout",
     "output_type": "stream",
     "text": [
      "(array([], shape=(0, 0, 0), dtype=float64), array([], dtype=int32))"
     ]
    },
    {
     "name": "stderr",
     "output_type": "stream",
     "text": [
      "WARNING:root:You are using the default load_mask(), maybe you need to define your own one.\n"
     ]
    },
    {
     "name": "stdout",
     "output_type": "stream",
     "text": [
      "\n"
     ]
    },
    {
     "name": "stderr",
     "output_type": "stream",
     "text": [
      "\n",
      "WARNING:root:You are using the default load_mask(), maybe you need to define your own one."
     ]
    },
    {
     "name": "stdout",
     "output_type": "stream",
     "text": [
      "(array([], shape=(0, 0, 0), dtype=float64), array([], dtype=int32))"
     ]
    },
    {
     "name": "stderr",
     "output_type": "stream",
     "text": [
      "ERROR:root:Error processing image {'id': '30_220001.jpg', 'source': 'pupae', 'path': '/data/CoRoSect/10.code/maskRCNN/Mask_RCNN_matterport/mask_rcnn/datasets/Nasekomo_insects/30/trainvalid/30_220001.jpg', 'width': 640, 'height': 360, 'polygons': [{'name': 'polygon', 'all_points_x': [526, 480, 458, 491], 'all_points_y': [180, 231, 201, 166]}, {'name': 'polygon', 'all_points_x': [513, 456, 447, 523], 'all_points_y': [289, 287, 318, 336]}, {'name': 'polygon', 'all_points_x': [219, 213, 180, 195], 'all_points_y': [120, 169, 182, 117]}, {'name': 'polygon', 'all_points_x': [594, 572, 551, 569], 'all_points_y': [71, 120, 109, 66]}, {'name': 'polygon', 'all_points_x': [448, 527, 521, 460], 'all_points_y': [360, 346, 324, 335]}, {'name': 'polygon', 'all_points_x': [411, 453, 436, 398], 'all_points_y': [231, 210, 200, 213]}, {'name': 'polygon', 'all_points_x': [362, 319, 308, 347], 'all_points_y': [72, 96, 74, 50]}, {'name': 'polygon', 'all_points_x': [26, 54, 18, 0], 'all_points_y': [74, 166, 164, 81]}, {'name': 'polygon', 'all_points_x': [77, 81, 47, 49], 'all_points_y': [201, 264, 259, 200]}, {'name': 'polygon', 'all_points_x': [224, 244, 209, 210], 'all_points_y': [324, 357, 358, 326]}, {'name': 'polygon', 'all_points_x': [241, 254, 297, 258], 'all_points_y': [313, 359, 357, 309]}, {'name': 'polygon', 'all_points_x': [317, 354, 349, 291], 'all_points_y': [312, 341, 350, 317]}, {'name': 'polygon', 'all_points_x': [221, 310, 334, 240], 'all_points_y': [283, 354, 341, 278]}, {'name': 'polygon', 'all_points_x': [378, 418, 371, 356], 'all_points_y': [278, 328, 343, 282]}, {'name': 'polygon', 'all_points_x': [588, 556, 515, 559], 'all_points_y': [326, 357, 357, 298]}, {'name': 'polygon', 'all_points_x': [84, 120, 140, 101], 'all_points_y': [217, 255, 240, 201]}, {'name': 'polygon', 'all_points_x': [76, 35, 3, 52], 'all_points_y': [160, 248, 242, 157]}, {'name': 'polygon', 'all_points_x': [24, 33, 8, 0], 'all_points_y': [160, 201, 212, 169]}, {'name': 'polygon', 'all_points_x': [137, 204, 170, 134], 'all_points_y': [82, 79, 56, 69]}, {'name': 'polygon', 'all_points_x': [279, 299, 343, 301], 'all_points_y': [189, 269, 269, 181]}, {'name': 'polygon', 'all_points_x': [302, 306, 370, 338], 'all_points_y': [152, 239, 243, 152]}, {'name': 'polygon', 'all_points_x': [293, 336, 342, 258], 'all_points_y': [315, 317, 274, 276]}, {'name': 'polygon', 'all_points_x': [248, 296, 283, 237], 'all_points_y': [282, 253, 228, 247]}, {'name': 'polygon', 'all_points_x': [151, 234, 264, 175], 'all_points_y': [199, 146, 167, 231]}, {'name': 'polygon', 'all_points_x': [128, 141, 119, 95], 'all_points_y': [60, 93, 103, 71]}, {'name': 'polygon', 'all_points_x': [321, 327, 295, 298], 'all_points_y': [96, 155, 135, 100]}, {'name': 'polygon', 'all_points_x': [392, 452, 469, 420], 'all_points_y': [91, 144, 111, 68]}, {'name': 'polygon', 'all_points_x': [359, 455, 428, 373], 'all_points_y': [185, 273, 294, 241]}, {'name': 'polygon', 'all_points_x': [600, 638, 636, 594], 'all_points_y': [191, 211, 161, 165]}, {'name': 'polygon', 'all_points_x': [483, 456, 483, 506], 'all_points_y': [140, 97, 86, 116]}, {'name': 'polygon', 'all_points_x': [438, 479, 501, 475], 'all_points_y': [5, 43, 30, 1]}, {'name': 'polygon', 'all_points_x': [500, 493, 521, 524], 'all_points_y': [73, 144, 143, 72]}, {'name': 'polygon', 'all_points_x': [425, 464, 454, 401], 'all_points_y': [35, 70, 95, 56]}, {'name': 'polygon', 'all_points_x': [411, 403, 388, 383], 'all_points_y': [2, 37, 27, 2]}, {'name': 'polygon', 'all_points_x': [387, 354, 330, 360], 'all_points_y': [17, 55, 15, 1]}, {'name': 'polygon', 'all_points_x': [197, 231, 267, 230], 'all_points_y': [58, 102, 87, 47]}, {'name': 'polygon', 'all_points_x': [160, 148, 178, 191], 'all_points_y': [146, 179, 177, 130]}, {'name': 'polygon', 'all_points_x': [135, 177, 158, 113], 'all_points_y': [202, 232, 250, 215]}, {'name': 'polygon', 'all_points_x': [123, 199, 190, 114], 'all_points_y': [161, 128, 103, 134]}], 'num_ids': [3, 3, 3, 3, 3, 3, 3, 3, 3, 3, 3, 3, 3, 3, 3, 3, 3, 3, 3, 3, 3, 3, 3, 3, 3, 3, 3, 3, 3, 3, 3, 3, 3, 3, 3, 3, 3, 3, 3]}\n",
      "Traceback (most recent call last):\n",
      "  File \"/home/melissap/miniconda3/envs/kumar/lib/python3.6/site-packages/mask_rcnn-2.1-py3.6.egg/mrcnn/model.py\", line 1709, in data_generator\n",
      "    use_mini_mask=config.USE_MINI_MASK)\n",
      "  File \"/home/melissap/miniconda3/envs/kumar/lib/python3.6/site-packages/mask_rcnn-2.1-py3.6.egg/mrcnn/model.py\", line 1275, in load_image_gt\n",
      "    source_class_ids = dataset.source_class_ids[dataset.image_info[image_id][\"source\"]]\n",
      "KeyError: 'pupae'\n",
      "ERROR:root:Error processing image {'id': '44_100001.jpg', 'source': 'adult', 'path': '/data/CoRoSect/10.code/maskRCNN/Mask_RCNN_matterport/mask_rcnn/datasets/Nasekomo_insects/44/trainvalid/44_100001.jpg', 'width': 640, 'height': 360, 'polygons': [{'name': 'polygon', 'all_points_x': [146, 115, 82, 114], 'all_points_y': [124, 207, 205, 114]}, {'name': 'polygon', 'all_points_x': [483, 388, 422, 504], 'all_points_y': [114, 162, 183, 134]}], 'num_ids': [4, 4]}\n",
      "Traceback (most recent call last):\n",
      "  File \"/home/melissap/miniconda3/envs/kumar/lib/python3.6/site-packages/mask_rcnn-2.1-py3.6.egg/mrcnn/model.py\", line 1709, in data_generator\n",
      "    use_mini_mask=config.USE_MINI_MASK)\n",
      "  File \"/home/melissap/miniconda3/envs/kumar/lib/python3.6/site-packages/mask_rcnn-2.1-py3.6.egg/mrcnn/model.py\", line 1275, in load_image_gt\n",
      "    source_class_ids = dataset.source_class_ids[dataset.image_info[image_id][\"source\"]]\n",
      "KeyError: 'adult'ERROR:root:Error processing image {'id': '25_060001.jpg', 'source': 'pupae', 'path': '/data/CoRoSect/10.code/maskRCNN/Mask_RCNN_matterport/mask_rcnn/datasets/Nasekomo_insects/25/trainvalid/25_060001.jpg', 'width': 640, 'height': 360, 'polygons': [{'name': 'polygon', 'all_points_x': [105, 96, 153, 137], 'all_points_y': [118, 182, 172, 119]}, {'name': 'polygon', 'all_points_x': [138, 148, 178, 175], 'all_points_y': [135, 204, 196, 116]}], 'num_ids': [3, 3]}\n",
      "Traceback (most recent call last):\n",
      "  File \"/home/melissap/miniconda3/envs/kumar/lib/python3.6/site-packages/mask_rcnn-2.1-py3.6.egg/mrcnn/model.py\", line 1709, in data_generator\n",
      "    use_mini_mask=config.USE_MINI_MASK)\n",
      "  File \"/home/melissap/miniconda3/envs/kumar/lib/python3.6/site-packages/mask_rcnn-2.1-py3.6.egg/mrcnn/model.py\", line 1275, in load_image_gt\n",
      "    source_class_ids = dataset.source_class_ids[dataset.image_info[image_id][\"source\"]]\n",
      "KeyError: 'pupae'\n"
     ]
    },
    {
     "name": "stdout",
     "output_type": "stream",
     "text": [
      "\n",
      "\n",
      "\n"
     ]
    },
    {
     "name": "stderr",
     "output_type": "stream",
     "text": [
      "WARNING:root:You are using the default load_mask(), maybe you need to define your own one.WARNING:root:You are using the default load_mask(), maybe you need to define your own one.\n",
      "\n",
      "WARNING:root:You are using the default load_mask(), maybe you need to define your own one.\n"
     ]
    },
    {
     "name": "stdout",
     "output_type": "stream",
     "text": [
      "\n"
     ]
    },
    {
     "name": "stderr",
     "output_type": "stream",
     "text": [
      "\n"
     ]
    },
    {
     "name": "stdout",
     "output_type": "stream",
     "text": [
      "(array([], shape=(0, 0, 0), dtype=float64), array([], dtype=int32))"
     ]
    },
    {
     "name": "stderr",
     "output_type": "stream",
     "text": [
      "ERROR:root:Error processing image {'id': '1_180001.jpg', 'source': 'eggs', 'path': '/data/CoRoSect/10.code/maskRCNN/Mask_RCNN_matterport/mask_rcnn/datasets/Nasekomo_insects/1/trainvalid/1_180001.jpg', 'width': 640, 'height': 360, 'polygons': [{'name': 'polygon', 'all_points_x': [620, 620, 634, 635], 'all_points_y': [328, 340, 342, 329]}, {'name': 'polygon', 'all_points_x': [494, 505, 516, 503], 'all_points_y': [209, 221, 220, 204]}, {'name': 'polygon', 'all_points_x': [479, 467, 479, 491], 'all_points_y': [208, 218, 226, 220]}, {'name': 'polygon', 'all_points_x': [217, 235, 232, 212], 'all_points_y': [34, 26, 10, 12]}, {'name': 'polygon', 'all_points_x': [111, 102, 124, 122], 'all_points_y': [351, 359, 359, 354]}, {'name': 'polygon', 'all_points_x': [34, 27, 18, 23], 'all_points_y': [334, 345, 346, 334]}, {'name': 'polygon', 'all_points_x': [31, 19, 35, 38], 'all_points_y': [346, 358, 358, 349]}, {'name': 'polygon', 'all_points_x': [221, 225, 210, 210], 'all_points_y': [349, 357, 356, 352]}, {'name': 'polygon', 'all_points_x': [241, 231, 245, 248], 'all_points_y': [313, 325, 335, 320]}, {'name': 'polygon', 'all_points_x': [212, 221, 228, 215], 'all_points_y': [321, 338, 335, 314]}, {'name': 'polygon', 'all_points_x': [174, 184, 172, 164], 'all_points_y': [257, 242, 239, 254]}, {'name': 'polygon', 'all_points_x': [216, 231, 231, 216], 'all_points_y': [309, 310, 300, 298]}, {'name': 'polygon', 'all_points_x': [202, 211, 211, 199], 'all_points_y': [248, 248, 239, 240]}, {'name': 'polygon', 'all_points_x': [191, 200, 201, 193], 'all_points_y': [221, 215, 224, 228]}, {'name': 'polygon', 'all_points_x': [198, 216, 218, 204], 'all_points_y': [238, 239, 226, 226]}, {'name': 'polygon', 'all_points_x': [374, 391, 391, 376], 'all_points_y': [312, 310, 298, 300]}, {'name': 'polygon', 'all_points_x': [450, 461, 458, 444], 'all_points_y': [294, 300, 308, 301]}, {'name': 'polygon', 'all_points_x': [444, 455, 440, 432], 'all_points_y': [320, 313, 304, 308]}, {'name': 'polygon', 'all_points_x': [232, 277, 284, 238], 'all_points_y': [149, 152, 126, 121]}, {'name': 'polygon', 'all_points_x': [418, 421, 446, 445], 'all_points_y': [162, 175, 181, 166]}, {'name': 'polygon', 'all_points_x': [55, 47, 35, 43], 'all_points_y': [302, 314, 311, 298]}, {'name': 'polygon', 'all_points_x': [135, 146, 155, 146], 'all_points_y': [296, 312, 307, 288]}, {'name': 'polygon', 'all_points_x': [143, 129, 140, 157], 'all_points_y': [318, 339, 342, 338]}, {'name': 'polygon', 'all_points_x': [141, 162, 158, 135], 'all_points_y': [252, 247, 235, 239]}, {'name': 'polygon', 'all_points_x': [132, 147, 137, 125], 'all_points_y': [191, 175, 172, 181]}, {'name': 'polygon', 'all_points_x': [543, 555, 566, 565], 'all_points_y': [1, 19, 13, 0]}], 'num_ids': [1, 1, 1, 1, 1, 1, 1, 1, 1, 1, 1, 1, 1, 1, 1, 1, 1, 1, 1, 1, 1, 1, 1, 1, 1, 1]}\n",
      "Traceback (most recent call last):\n",
      "  File \"/home/melissap/miniconda3/envs/kumar/lib/python3.6/site-packages/mask_rcnn-2.1-py3.6.egg/mrcnn/model.py\", line 1709, in data_generator\n",
      "    use_mini_mask=config.USE_MINI_MASK)\n",
      "  File \"/home/melissap/miniconda3/envs/kumar/lib/python3.6/site-packages/mask_rcnn-2.1-py3.6.egg/mrcnn/model.py\", line 1275, in load_image_gt\n",
      "    source_class_ids = dataset.source_class_ids[dataset.image_info[image_id][\"source\"]]\n",
      "KeyError: 'eggs'"
     ]
    },
    {
     "name": "stdout",
     "output_type": "stream",
     "text": [
      "(array([], shape=(0, 0, 0), dtype=float64), array([], dtype=int32))"
     ]
    },
    {
     "name": "stderr",
     "output_type": "stream",
     "text": [
      "ERROR:root:Error processing image {'id': '19_100001.jpg', 'source': 'larvae', 'path': '/data/CoRoSect/10.code/maskRCNN/Mask_RCNN_matterport/mask_rcnn/datasets/Nasekomo_insects/19/trainvalid/19_100001.jpg', 'width': 640, 'height': 360, 'polygons': [{'name': 'polygon', 'all_points_x': [391, 394, 375, 362], 'all_points_y': [19, 46, 61, 39]}, {'name': 'polygon', 'all_points_x': [442, 442, 385, 398], 'all_points_y': [10, 38, 95, 19]}, {'name': 'polygon', 'all_points_x': [469, 492, 440, 447], 'all_points_y': [2, 62, 59, 0]}, {'name': 'polygon', 'all_points_x': [13, 70, 33, 0], 'all_points_y': [17, 76, 90, 33]}, {'name': 'polygon', 'all_points_x': [85, 59, 15, 22], 'all_points_y': [0, 34, 26, 0]}, {'name': 'polygon', 'all_points_x': [168, 142, 165, 200], 'all_points_y': [19, 26, 83, 80]}, {'name': 'polygon', 'all_points_x': [224, 215, 194, 202], 'all_points_y': [0, 28, 17, 0]}, {'name': 'polygon', 'all_points_x': [53, 92, 85, 42], 'all_points_y': [62, 55, 23, 50]}, {'name': 'polygon', 'all_points_x': [0, 26, 24, 1], 'all_points_y': [166, 168, 188, 189]}, {'name': 'polygon', 'all_points_x': [59, 107, 61, 33], 'all_points_y': [87, 162, 169, 97]}, {'name': 'polygon', 'all_points_x': [101, 128, 112, 86], 'all_points_y': [146, 123, 109, 133]}, {'name': 'polygon', 'all_points_x': [48, 50, 0, 1], 'all_points_y': [178, 207, 240, 206]}, {'name': 'polygon', 'all_points_x': [13, 60, 33, 0], 'all_points_y': [231, 243, 259, 252]}, {'name': 'polygon', 'all_points_x': [121, 122, 42, 27], 'all_points_y': [257, 280, 276, 255]}, {'name': 'polygon', 'all_points_x': [0, 41, 54, 20], 'all_points_y': [256, 302, 284, 255]}, {'name': 'polygon', 'all_points_x': [3, 47, 51, 11], 'all_points_y': [285, 307, 330, 323]}, {'name': 'polygon', 'all_points_x': [180, 166, 128, 150], 'all_points_y': [267, 283, 259, 241]}, {'name': 'polygon', 'all_points_x': [176, 166, 126, 108], 'all_points_y': [321, 284, 268, 295]}, {'name': 'polygon', 'all_points_x': [205, 328, 309, 221], 'all_points_y': [289, 245, 221, 245]}, {'name': 'polygon', 'all_points_x': [315, 292, 321, 337], 'all_points_y': [191, 212, 233, 195]}, {'name': 'polygon', 'all_points_x': [193, 259, 203, 168], 'all_points_y': [116, 161, 178, 136]}, {'name': 'polygon', 'all_points_x': [246, 216, 214, 242], 'all_points_y': [166, 175, 197, 200]}, {'name': 'polygon', 'all_points_x': [212, 147, 164, 217], 'all_points_y': [171, 226, 256, 195]}, {'name': 'polygon', 'all_points_x': [106, 173, 145, 104], 'all_points_y': [153, 204, 221, 191]}, {'name': 'polygon', 'all_points_x': [90, 132, 129, 100], 'all_points_y': [208, 202, 220, 218]}, {'name': 'polygon', 'all_points_x': [66, 162, 133, 52], 'all_points_y': [212, 228, 254, 249]}, {'name': 'polygon', 'all_points_x': [2, 38, 40, 0], 'all_points_y': [354, 349, 359, 359]}, {'name': 'polygon', 'all_points_x': [90, 85, 60, 71], 'all_points_y': [277, 307, 297, 269]}, {'name': 'polygon', 'all_points_x': [43, 83, 107, 55], 'all_points_y': [312, 360, 335, 290]}, {'name': 'polygon', 'all_points_x': [97, 192, 212, 215], 'all_points_y': [358, 333, 333, 359]}, {'name': 'polygon', 'all_points_x': [189, 213, 182, 165], 'all_points_y': [275, 334, 338, 281]}, {'name': 'polygon', 'all_points_x': [256, 230, 206, 217], 'all_points_y': [358, 311, 314, 358]}, {'name': 'polygon', 'all_points_x': [316, 295, 273, 281], 'all_points_y': [356, 331, 342, 359]}, {'name': 'polygon', 'all_points_x': [289, 340, 361, 321], 'all_points_y': [326, 240, 251, 347]}, {'name': 'polygon', 'all_points_x': [365, 364, 337, 334], 'all_points_y': [359, 297, 297, 359]}, {'name': 'polygon', 'all_points_x': [436, 471, 418, 411], 'all_points_y': [322, 359, 359, 325]}, {'name': 'polygon', 'all_points_x': [639, 589, 573, 588], 'all_points_y': [358, 325, 351, 359]}, {'name': 'polygon', 'all_points_x': [563, 626, 599, 557], 'all_points_y': [301, 270, 237, 275]}, {'name': 'polygon', 'all_points_x': [480, 420, 424, 456], 'all_points_y': [245, 321, 247, 229]}, {'name': 'polygon', 'all_points_x': [462, 489, 519, 488], 'all_points_y': [216, 278, 259, 216]}, {'name': 'polygon', 'all_points_x': [541, 587, 546, 507], 'all_points_y': [297, 235, 230, 286]}, {'name': 'polygon', 'all_points_x': [589, 635, 601, 582], 'all_points_y': [179, 134, 125, 153]}, {'name': 'polygon', 'all_points_x': [640, 561, 610, 640], 'all_points_y': [137, 101, 91, 94]}, {'name': 'polygon', 'all_points_x': [566, 601, 569, 549], 'all_points_y': [96, 228, 235, 146]}, {'name': 'polygon', 'all_points_x': [621, 575, 560, 615], 'all_points_y': [32, 47, 28, 11]}, {'name': 'polygon', 'all_points_x': [573, 640, 640, 591], 'all_points_y': [48, 52, 93, 78]}, {'name': 'polygon', 'all_points_x': [604, 549, 516, 561], 'all_points_y': [92, 11, 30, 84]}, {'name': 'polygon', 'all_points_x': [496, 494, 530, 520], 'all_points_y': [23, 1, 0, 42]}, {'name': 'polygon', 'all_points_x': [469, 506, 525, 482], 'all_points_y': [33, 62, 47, 16]}, {'name': 'polygon', 'all_points_x': [578, 527, 507, 554], 'all_points_y': [93, 110, 92, 76]}, {'name': 'polygon', 'all_points_x': [510, 549, 539, 503], 'all_points_y': [147, 135, 114, 126]}, {'name': 'polygon', 'all_points_x': [454, 513, 508, 424], 'all_points_y': [182, 133, 100, 155]}, {'name': 'polygon', 'all_points_x': [430, 421, 378, 399], 'all_points_y': [66, 135, 167, 70]}, {'name': 'polygon', 'all_points_x': [334, 364, 390, 364], 'all_points_y': [157, 334, 242, 152]}, {'name': 'polygon', 'all_points_x': [256, 289, 314, 259], 'all_points_y': [176, 135, 157, 195]}, {'name': 'polygon', 'all_points_x': [327, 399, 389, 356], 'all_points_y': [43, 15, 2, 0]}, {'name': 'polygon', 'all_points_x': [233, 287, 266, 239], 'all_points_y': [82, 50, 97, 107]}, {'name': 'polygon', 'all_points_x': [227, 185, 211, 260], 'all_points_y': [35, 114, 130, 46]}], 'num_ids': [2, 2, 2, 2, 2, 2, 2, 2, 2, 2, 2, 2, 2, 2, 2, 2, 2, 2, 2, 2, 2, 2, 2, 2, 2, 2, 2, 2, 2, 2, 2, 2, 2, 2, 2, 2, 2, 2, 2, 2, 2, 2, 2, 2, 2, 2, 2, 2, 2, 2, 2, 2, 2, 2, 2, 2, 2, 2]}\n",
      "Traceback (most recent call last):\n",
      "  File \"/home/melissap/miniconda3/envs/kumar/lib/python3.6/site-packages/mask_rcnn-2.1-py3.6.egg/mrcnn/model.py\", line 1709, in data_generator\n",
      "    use_mini_mask=config.USE_MINI_MASK)\n",
      "  File \"/home/melissap/miniconda3/envs/kumar/lib/python3.6/site-packages/mask_rcnn-2.1-py3.6.egg/mrcnn/model.py\", line 1275, in load_image_gt\n",
      "    source_class_ids = dataset.source_class_ids[dataset.image_info[image_id][\"source\"]]\n",
      "KeyError: 'larvae'\n"
     ]
    },
    {
     "name": "stdout",
     "output_type": "stream",
     "text": [
      "\n"
     ]
    },
    {
     "name": "stderr",
     "output_type": "stream",
     "text": [
      "\n",
      "WARNING:root:You are using the default load_mask(), maybe you need to define your own one.WARNING:root:You are using the default load_mask(), maybe you need to define your own one.\n",
      "ERROR:root:Error processing image {'id': '22_090001.jpg', 'source': 'pupae', 'path': '/data/CoRoSect/10.code/maskRCNN/Mask_RCNN_matterport/mask_rcnn/datasets/Nasekomo_insects/22/trainvalid/22_090001.jpg', 'width': 640, 'height': 360, 'polygons': [{'name': 'polygon', 'all_points_x': [169, 131, 126, 137], 'all_points_y': [1, 32, 12, 2]}, {'name': 'polygon', 'all_points_x': [134, 149, 177, 150], 'all_points_y': [33, 15, 13, 48]}, {'name': 'polygon', 'all_points_x': [207, 186, 199, 231], 'all_points_y': [51, 33, 17, 46]}, {'name': 'polygon', 'all_points_x': [124, 97, 106, 139], 'all_points_y': [221, 209, 184, 192]}, {'name': 'polygon', 'all_points_x': [469, 455, 434, 436], 'all_points_y': [357, 328, 330, 358]}, {'name': 'polygon', 'all_points_x': [258, 235, 213, 229], 'all_points_y': [358, 332, 330, 357]}, {'name': 'polygon', 'all_points_x': [630, 544, 546, 618], 'all_points_y': [237, 258, 229, 209]}, {'name': 'polygon', 'all_points_x': [542, 482, 517, 565], 'all_points_y': [215, 266, 282, 228]}, {'name': 'polygon', 'all_points_x': [523, 588, 569, 507], 'all_points_y': [309, 271, 247, 284]}, {'name': 'polygon', 'all_points_x': [215, 308, 312, 215], 'all_points_y': [20, 9, 31, 42]}, {'name': 'polygon', 'all_points_x': [394, 403, 419, 416], 'all_points_y': [77, 39, 45, 63]}, {'name': 'polygon', 'all_points_x': [451, 427, 412, 441], 'all_points_y': [30, 58, 49, 18]}, {'name': 'polygon', 'all_points_x': [438, 417, 403, 415], 'all_points_y': [6, 45, 42, 1]}, {'name': 'polygon', 'all_points_x': [458, 545, 562, 476], 'all_points_y': [119, 169, 119, 92]}, {'name': 'polygon', 'all_points_x': [322, 404, 374, 311], 'all_points_y': [150, 126, 108, 127]}, {'name': 'polygon', 'all_points_x': [423, 477, 490, 425], 'all_points_y': [143, 148, 132, 124]}, {'name': 'polygon', 'all_points_x': [441, 393, 372, 421], 'all_points_y': [67, 129, 112, 53]}, {'name': 'polygon', 'all_points_x': [314, 372, 346, 301], 'all_points_y': [237, 163, 150, 217]}, {'name': 'polygon', 'all_points_x': [387, 348, 374, 417], 'all_points_y': [142, 218, 223, 151]}, {'name': 'polygon', 'all_points_x': [384, 363, 323, 362], 'all_points_y': [213, 287, 285, 219]}, {'name': 'polygon', 'all_points_x': [388, 443, 471, 409], 'all_points_y': [260, 210, 237, 292]}, {'name': 'polygon', 'all_points_x': [513, 533, 459, 448], 'all_points_y': [228, 209, 169, 185]}, {'name': 'polygon', 'all_points_x': [467, 563, 574, 478], 'all_points_y': [171, 223, 185, 148]}, {'name': 'polygon', 'all_points_x': [563, 605, 593, 549], 'all_points_y': [148, 164, 182, 171]}, {'name': 'polygon', 'all_points_x': [614, 639, 638, 613], 'all_points_y': [211, 210, 179, 185]}, {'name': 'polygon', 'all_points_x': [606, 594, 563, 580], 'all_points_y': [194, 216, 222, 182]}, {'name': 'polygon', 'all_points_x': [596, 631, 639, 638], 'all_points_y': [357, 312, 313, 358]}, {'name': 'polygon', 'all_points_x': [640, 586, 596, 639], 'all_points_y': [314, 260, 246, 278]}, {'name': 'polygon', 'all_points_x': [554, 524, 544, 586], 'all_points_y': [357, 332, 312, 356]}, {'name': 'polygon', 'all_points_x': [301, 342, 311, 277], 'all_points_y': [320, 256, 246, 311]}, {'name': 'polygon', 'all_points_x': [241, 293, 290, 256], 'all_points_y': [135, 79, 127, 148]}, {'name': 'polygon', 'all_points_x': [200, 194, 171, 181], 'all_points_y': [145, 103, 131, 162]}, {'name': 'polygon', 'all_points_x': [175, 179, 155, 153], 'all_points_y': [158, 188, 196, 157]}, {'name': 'polygon', 'all_points_x': [83, 110, 84, 46], 'all_points_y': [187, 247, 269, 194]}, {'name': 'polygon', 'all_points_x': [130, 135, 172, 155], 'all_points_y': [319, 357, 358, 315]}, {'name': 'polygon', 'all_points_x': [119, 120, 93, 92], 'all_points_y': [359, 333, 330, 357]}, {'name': 'polygon', 'all_points_x': [75, 100, 91, 54], 'all_points_y': [351, 342, 312, 319]}, {'name': 'polygon', 'all_points_x': [41, 21, 2, 8], 'all_points_y': [356, 307, 313, 357]}, {'name': 'polygon', 'all_points_x': [2, 19, 12, 0], 'all_points_y': [265, 265, 235, 235]}, {'name': 'polygon', 'all_points_x': [18, 68, 43, 2], 'all_points_y': [197, 275, 294, 216]}, {'name': 'polygon', 'all_points_x': [41, 59, 75, 73], 'all_points_y': [292, 319, 307, 272]}, {'name': 'polygon', 'all_points_x': [66, 159, 168, 77], 'all_points_y': [318, 307, 274, 273]}, {'name': 'polygon', 'all_points_x': [166, 225, 202, 158], 'all_points_y': [317, 285, 254, 291]}, {'name': 'polygon', 'all_points_x': [215, 303, 287, 208], 'all_points_y': [249, 255, 291, 278]}, {'name': 'polygon', 'all_points_x': [292, 328, 281, 268], 'all_points_y': [230, 157, 154, 205]}, {'name': 'polygon', 'all_points_x': [275, 312, 312, 268], 'all_points_y': [99, 55, 32, 73]}, {'name': 'polygon', 'all_points_x': [51, 94, 91, 44], 'all_points_y': [169, 170, 133, 139]}, {'name': 'polygon', 'all_points_x': [104, 155, 150, 100], 'all_points_y': [175, 172, 141, 151]}, {'name': 'polygon', 'all_points_x': [145, 163, 199, 174], 'all_points_y': [44, 125, 117, 34]}, {'name': 'polygon', 'all_points_x': [169, 274, 267, 165], 'all_points_y': [53, 53, 88, 89]}, {'name': 'polygon', 'all_points_x': [93, 40, 0, 47], 'all_points_y': [79, 1, 2, 84]}], 'num_ids': [3, 3, 3, 3, 3, 3, 3, 3, 3, 3, 3, 3, 3, 3, 3, 3, 3, 3, 3, 3, 3, 3, 3, 3, 3, 3, 3, 3, 3, 3, 3, 3, 3, 3, 3, 3, 3, 3, 3, 3, 3, 3, 3, 3, 3, 3, 3, 3, 3, 3, 3]}\n",
      "Traceback (most recent call last):\n",
      "  File \"/home/melissap/miniconda3/envs/kumar/lib/python3.6/site-packages/mask_rcnn-2.1-py3.6.egg/mrcnn/model.py\", line 1709, in data_generator\n",
      "    use_mini_mask=config.USE_MINI_MASK)\n",
      "  File \"/home/melissap/miniconda3/envs/kumar/lib/python3.6/site-packages/mask_rcnn-2.1-py3.6.egg/mrcnn/model.py\", line 1275, in load_image_gt\n",
      "    source_class_ids = dataset.source_class_ids[dataset.image_info[image_id][\"source\"]]\n",
      "KeyError: 'pupae'WARNING:root:You are using the default load_mask(), maybe you need to define your own one.WARNING:root:You are using the default load_mask(), maybe you need to define your own one.\n"
     ]
    },
    {
     "name": "stdout",
     "output_type": "stream",
     "text": [
      "\n"
     ]
    },
    {
     "name": "stderr",
     "output_type": "stream",
     "text": [
      "\n",
      "\n",
      "WARNING:root:You are using the default load_mask(), maybe you need to define your own one."
     ]
    },
    {
     "name": "stdout",
     "output_type": "stream",
     "text": [
      "(array([], shape=(0, 0, 0), dtype=float64), array([], dtype=int32))"
     ]
    },
    {
     "name": "stderr",
     "output_type": "stream",
     "text": [
      "\n",
      "\n",
      "WARNING:root:You are using the default load_mask(), maybe you need to define your own one.\n",
      "\n",
      "WARNING:root:You are using the default load_mask(), maybe you need to define your own one.\n"
     ]
    },
    {
     "name": "stdout",
     "output_type": "stream",
     "text": [
      "\n"
     ]
    },
    {
     "name": "stderr",
     "output_type": "stream",
     "text": [
      "WARNING:root:You are using the default load_mask(), maybe you need to define your own one.\n"
     ]
    },
    {
     "name": "stdout",
     "output_type": "stream",
     "text": [
      "(array([], shape=(0, 0, 0), dtype=float64), array([], dtype=int32))"
     ]
    },
    {
     "name": "stderr",
     "output_type": "stream",
     "text": [
      "\n"
     ]
    },
    {
     "name": "stdout",
     "output_type": "stream",
     "text": [
      "(array([], shape=(0, 0, 0), dtype=float64), array([], dtype=int32))"
     ]
    },
    {
     "name": "stderr",
     "output_type": "stream",
     "text": [
      "ERROR:root:Error processing image {'id': '40_270001.jpg', 'source': 'adult', 'path': '/data/CoRoSect/10.code/maskRCNN/Mask_RCNN_matterport/mask_rcnn/datasets/Nasekomo_insects/40/trainvalid/40_270001.jpg', 'width': 640, 'height': 360, 'polygons': [{'name': 'polygon', 'all_points_x': [85, 178, 175, 82], 'all_points_y': [306, 309, 358, 342]}, {'name': 'polygon', 'all_points_x': [334, 447, 429, 354], 'all_points_y': [83, 61, 38, 51]}, {'name': 'polygon', 'all_points_x': [532, 537, 518, 509], 'all_points_y': [92, 171, 173, 88]}, {'name': 'polygon', 'all_points_x': [592, 639, 639, 598], 'all_points_y': [62, 87, 139, 96]}, {'name': 'polygon', 'all_points_x': [610, 639, 638, 619], 'all_points_y': [204, 235, 207, 190]}, {'name': 'polygon', 'all_points_x': [281, 358, 384, 315], 'all_points_y': [112, 170, 152, 94]}, {'name': 'polygon', 'all_points_x': [175, 256, 247, 166], 'all_points_y': [275, 238, 207, 229]}, {'name': 'polygon', 'all_points_x': [538, 637, 640, 604], 'all_points_y': [1, 64, 24, 1]}, {'name': 'polygon', 'all_points_x': [511, 520, 493, 488], 'all_points_y': [88, 173, 179, 105]}, {'name': 'polygon', 'all_points_x': [491, 494, 464, 465], 'all_points_y': [109, 164, 167, 111]}, {'name': 'polygon', 'all_points_x': [506, 458, 435, 468], 'all_points_y': [55, 109, 92, 38]}, {'name': 'polygon', 'all_points_x': [433, 443, 497, 455], 'all_points_y': [56, 1, 0, 59]}, {'name': 'polygon', 'all_points_x': [540, 497, 468, 500], 'all_points_y': [0, 54, 39, 0]}, {'name': 'polygon', 'all_points_x': [590, 632, 598, 556], 'all_points_y': [69, 176, 187, 78]}, {'name': 'polygon', 'all_points_x': [487, 548, 518, 460], 'all_points_y': [160, 234, 257, 171]}, {'name': 'polygon', 'all_points_x': [363, 440, 433, 398], 'all_points_y': [226, 262, 223, 209]}, {'name': 'polygon', 'all_points_x': [430, 456, 434, 406], 'all_points_y': [249, 315, 344, 262]}, {'name': 'polygon', 'all_points_x': [375, 406, 441, 403], 'all_points_y': [264, 358, 359, 248]}, {'name': 'polygon', 'all_points_x': [265, 369, 360, 276], 'all_points_y': [305, 224, 262, 337]}, {'name': 'polygon', 'all_points_x': [236, 204, 228, 258], 'all_points_y': [237, 325, 355, 264]}, {'name': 'polygon', 'all_points_x': [265, 345, 325, 245], 'all_points_y': [287, 220, 193, 252]}, {'name': 'polygon', 'all_points_x': [360, 466, 475, 354], 'all_points_y': [163, 152, 190, 195]}, {'name': 'polygon', 'all_points_x': [141, 119, 73, 120], 'all_points_y': [42, 144, 137, 36]}, {'name': 'polygon', 'all_points_x': [140, 111, 129, 172], 'all_points_y': [149, 210, 236, 171]}, {'name': 'polygon', 'all_points_x': [60, 35, 24, 73], 'all_points_y': [241, 256, 290, 255]}, {'name': 'polygon', 'all_points_x': [39, 12, 1, 0], 'all_points_y': [256, 310, 310, 256]}, {'name': 'polygon', 'all_points_x': [77, 123, 107, 47], 'all_points_y': [326, 292, 268, 321]}, {'name': 'polygon', 'all_points_x': [39, 92, 73, 11], 'all_points_y': [326, 278, 255, 299]}, {'name': 'polygon', 'all_points_x': [0, 76, 52, 1], 'all_points_y': [268, 181, 162, 213]}, {'name': 'polygon', 'all_points_x': [1, 21, 19, 0], 'all_points_y': [93, 92, 195, 211]}, {'name': 'polygon', 'all_points_x': [10, 88, 87, 10], 'all_points_y': [58, 40, 97, 120]}, {'name': 'polygon', 'all_points_x': [59, 154, 178, 109], 'all_points_y': [2, 102, 75, 0]}, {'name': 'polygon', 'all_points_x': [223, 255, 234, 204], 'all_points_y': [68, 33, 20, 47]}, {'name': 'polygon', 'all_points_x': [127, 214, 219, 122], 'all_points_y': [26, 48, 1, 0]}, {'name': 'polygon', 'all_points_x': [318, 295, 318, 353], 'all_points_y': [1, 57, 56, 0]}, {'name': 'polygon', 'all_points_x': [392, 320, 300, 355], 'all_points_y': [0, 99, 85, 0]}, {'name': 'polygon', 'all_points_x': [261, 300, 293, 210], 'all_points_y': [102, 95, 65, 81]}, {'name': 'polygon', 'all_points_x': [233, 342, 340, 222], 'all_points_y': [127, 149, 166, 143]}, {'name': 'polygon', 'all_points_x': [266, 233, 210, 211], 'all_points_y': [145, 227, 223, 143]}, {'name': 'polygon', 'all_points_x': [174, 218, 212, 141], 'all_points_y': [121, 178, 218, 142]}], 'num_ids': [4, 4, 4, 4, 4, 4, 4, 4, 4, 4, 4, 4, 4, 4, 4, 4, 4, 4, 4, 4, 4, 4, 4, 4, 4, 4, 4, 4, 4, 4, 4, 4, 4, 4, 4, 4, 4, 4, 4, 4]}\n",
      "Traceback (most recent call last):\n",
      "  File \"/home/melissap/miniconda3/envs/kumar/lib/python3.6/site-packages/mask_rcnn-2.1-py3.6.egg/mrcnn/model.py\", line 1709, in data_generator\n",
      "    use_mini_mask=config.USE_MINI_MASK)\n",
      "  File \"/home/melissap/miniconda3/envs/kumar/lib/python3.6/site-packages/mask_rcnn-2.1-py3.6.egg/mrcnn/model.py\", line 1275, in load_image_gt\n",
      "    source_class_ids = dataset.source_class_ids[dataset.image_info[image_id][\"source\"]]\n",
      "KeyError: 'adult'\n",
      "\n",
      "WARNING:root:You are using the default load_mask(), maybe you need to define your own one.\n",
      "WARNING:root:You are using the default load_mask(), maybe you need to define your own one.ERROR:root:Error processing image {'id': '44_290001.jpg', 'source': 'adult', 'path': '/data/CoRoSect/10.code/maskRCNN/Mask_RCNN_matterport/mask_rcnn/datasets/Nasekomo_insects/44/trainvalid/44_290001.jpg', 'width': 640, 'height': 360, 'polygons': [{'name': 'polygon', 'all_points_x': [616, 588, 562, 578], 'all_points_y': [171, 275, 230, 159]}, {'name': 'polygon', 'all_points_x': [54, 71, 40, 23], 'all_points_y': [273, 359, 357, 271]}], 'num_ids': [4, 4]}\n",
      "Traceback (most recent call last):\n",
      "  File \"/home/melissap/miniconda3/envs/kumar/lib/python3.6/site-packages/mask_rcnn-2.1-py3.6.egg/mrcnn/model.py\", line 1709, in data_generator\n",
      "    use_mini_mask=config.USE_MINI_MASK)\n",
      "  File \"/home/melissap/miniconda3/envs/kumar/lib/python3.6/site-packages/mask_rcnn-2.1-py3.6.egg/mrcnn/model.py\", line 1275, in load_image_gt\n",
      "    source_class_ids = dataset.source_class_ids[dataset.image_info[image_id][\"source\"]]\n",
      "KeyError: 'adult'"
     ]
    },
    {
     "name": "stdout",
     "output_type": "stream",
     "text": [
      "\n"
     ]
    },
    {
     "name": "stderr",
     "output_type": "stream",
     "text": [
      "\n",
      "\n",
      "ERROR:root:Error processing image {'id': '40_040001.jpg', 'source': 'adult', 'path': '/data/CoRoSect/10.code/maskRCNN/Mask_RCNN_matterport/mask_rcnn/datasets/Nasekomo_insects/40/trainvalid/40_040001.jpg', 'width': 640, 'height': 360, 'polygons': [{'name': 'polygon', 'all_points_x': [89, 120, 136, 103], 'all_points_y': [181, 224, 198, 176]}, {'name': 'polygon', 'all_points_x': [163, 176, 200, 178], 'all_points_y': [207, 225, 209, 161]}, {'name': 'polygon', 'all_points_x': [532, 504, 536, 550], 'all_points_y': [150, 236, 242, 163]}, {'name': 'polygon', 'all_points_x': [549, 579, 610, 586], 'all_points_y': [23, 83, 58, 25]}, {'name': 'polygon', 'all_points_x': [575, 570, 550, 563], 'all_points_y': [88, 126, 121, 76]}, {'name': 'polygon', 'all_points_x': [491, 582, 590, 485], 'all_points_y': [18, 28, 0, 1]}, {'name': 'polygon', 'all_points_x': [415, 454, 443, 395], 'all_points_y': [291, 245, 226, 268]}, {'name': 'polygon', 'all_points_x': [483, 533, 536, 521], 'all_points_y': [339, 331, 293, 297]}, {'name': 'polygon', 'all_points_x': [542, 638, 636, 534], 'all_points_y': [343, 342, 311, 324]}, {'name': 'polygon', 'all_points_x': [535, 639, 634, 534], 'all_points_y': [328, 308, 285, 291]}, {'name': 'polygon', 'all_points_x': [555, 598, 551, 529], 'all_points_y': [204, 286, 292, 205]}, {'name': 'polygon', 'all_points_x': [200, 239, 249, 206], 'all_points_y': [92, 123, 88, 57]}, {'name': 'polygon', 'all_points_x': [177, 223, 238, 206], 'all_points_y': [283, 255, 292, 303]}, {'name': 'polygon', 'all_points_x': [217, 272, 269, 202], 'all_points_y': [296, 318, 343, 309]}, {'name': 'polygon', 'all_points_x': [160, 258, 232, 148], 'all_points_y': [278, 341, 356, 310]}, {'name': 'polygon', 'all_points_x': [116, 192, 198, 130], 'all_points_y': [323, 330, 358, 358]}, {'name': 'polygon', 'all_points_x': [150, 155, 113, 93], 'all_points_y': [288, 324, 318, 278]}, {'name': 'polygon', 'all_points_x': [76, 126, 67, 43], 'all_points_y': [238, 351, 307, 253]}, {'name': 'polygon', 'all_points_x': [31, 67, 126, 53], 'all_points_y': [315, 355, 359, 290]}, {'name': 'polygon', 'all_points_x': [1, 73, 34, 0], 'all_points_y': [207, 300, 307, 253]}, {'name': 'polygon', 'all_points_x': [112, 150, 154, 104], 'all_points_y': [139, 99, 57, 96]}, {'name': 'polygon', 'all_points_x': [157, 135, 112, 126], 'all_points_y': [6, 103, 110, 5]}, {'name': 'polygon', 'all_points_x': [99, 93, 116, 133], 'all_points_y': [2, 46, 52, 1]}, {'name': 'polygon', 'all_points_x': [53, 55, 4, 1], 'all_points_y': [22, 1, 3, 34]}, {'name': 'polygon', 'all_points_x': [51, 2, 1, 38], 'all_points_y': [41, 88, 36, 11]}, {'name': 'polygon', 'all_points_x': [85, 70, 39, 51], 'all_points_y': [7, 116, 109, 4]}, {'name': 'polygon', 'all_points_x': [57, 36, 3, 34], 'all_points_y': [60, 121, 99, 52]}, {'name': 'polygon', 'all_points_x': [3, 84, 81, 0], 'all_points_y': [135, 168, 124, 88]}, {'name': 'polygon', 'all_points_x': [95, 114, 85, 75], 'all_points_y': [47, 177, 171, 51]}, {'name': 'polygon', 'all_points_x': [0, 44, 77, 22], 'all_points_y': [188, 257, 246, 178]}, {'name': 'polygon', 'all_points_x': [26, 54, 51, 1], 'all_points_y': [187, 168, 145, 165]}, {'name': 'polygon', 'all_points_x': [83, 75, 45, 52], 'all_points_y': [161, 201, 194, 159]}, {'name': 'polygon', 'all_points_x': [74, 124, 105, 38], 'all_points_y': [201, 267, 277, 197]}, {'name': 'polygon', 'all_points_x': [103, 214, 212, 109], 'all_points_y': [284, 275, 237, 247]}, {'name': 'polygon', 'all_points_x': [221, 242, 265, 242], 'all_points_y': [249, 309, 311, 236]}, {'name': 'polygon', 'all_points_x': [317, 325, 373, 342], 'all_points_y': [312, 359, 356, 303]}, {'name': 'polygon', 'all_points_x': [369, 405, 411, 338], 'all_points_y': [336, 281, 247, 295]}, {'name': 'polygon', 'all_points_x': [464, 540, 517, 437], 'all_points_y': [358, 279, 270, 336]}, {'name': 'polygon', 'all_points_x': [421, 466, 495, 479], 'all_points_y': [163, 261, 242, 192]}, {'name': 'polygon', 'all_points_x': [404, 368, 423, 420], 'all_points_y': [133, 200, 202, 137]}, {'name': 'polygon', 'all_points_x': [420, 485, 518, 434], 'all_points_y': [161, 195, 152, 131]}, {'name': 'polygon', 'all_points_x': [326, 272, 250, 291], 'all_points_y': [197, 324, 253, 195]}, {'name': 'polygon', 'all_points_x': [294, 305, 340, 323], 'all_points_y': [273, 319, 301, 256]}, {'name': 'polygon', 'all_points_x': [332, 418, 410, 312], 'all_points_y': [282, 247, 221, 257]}, {'name': 'polygon', 'all_points_x': [327, 455, 452, 329], 'all_points_y': [247, 232, 200, 207]}, {'name': 'polygon', 'all_points_x': [218, 285, 267, 200], 'all_points_y': [180, 211, 251, 208]}, {'name': 'polygon', 'all_points_x': [246, 327, 376, 250], 'all_points_y': [125, 160, 133, 96]}, {'name': 'polygon', 'all_points_x': [184, 152, 126, 164], 'all_points_y': [140, 226, 221, 119]}], 'num_ids': [4, 4, 4, 4, 4, 4, 4, 4, 4, 4, 4, 4, 4, 4, 4, 4, 4, 4, 4, 4, 4, 4, 4, 4, 4, 4, 4, 4, 4, 4, 4, 4, 4, 4, 4, 4, 4, 4, 4, 4, 4, 4, 4, 4, 4, 4, 4, 4]}\n",
      "Traceback (most recent call last):\n",
      "  File \"/home/melissap/miniconda3/envs/kumar/lib/python3.6/site-packages/mask_rcnn-2.1-py3.6.egg/mrcnn/model.py\", line 1709, in data_generator\n",
      "    use_mini_mask=config.USE_MINI_MASK)\n",
      "  File \"/home/melissap/miniconda3/envs/kumar/lib/python3.6/site-packages/mask_rcnn-2.1-py3.6.egg/mrcnn/model.py\", line 1275, in load_image_gt\n",
      "    source_class_ids = dataset.source_class_ids[dataset.image_info[image_id][\"source\"]]\n",
      "KeyError: 'adult'"
     ]
    },
    {
     "name": "stdout",
     "output_type": "stream",
     "text": [
      "(array([], shape=(0, 0, 0), dtype=float64), array([], dtype=int32))(array([], shape=(0, 0, 0), dtype=float64), array([], dtype=int32))"
     ]
    },
    {
     "name": "stderr",
     "output_type": "stream",
     "text": [
      "ERROR:root:Error processing image {'id': '37_010001.jpg', 'source': 'pupae', 'path': '/data/CoRoSect/10.code/maskRCNN/Mask_RCNN_matterport/mask_rcnn/datasets/Nasekomo_insects/37/trainvalid/37_010001.jpg', 'width': 640, 'height': 360, 'polygons': [{'name': 'polygon', 'all_points_x': [197, 214, 190, 140], 'all_points_y': [0, 70, 82, 2]}, {'name': 'polygon', 'all_points_x': [514, 550, 532, 496], 'all_points_y': [10, 26, 55, 32]}, {'name': 'polygon', 'all_points_x': [461, 537, 556, 473], 'all_points_y': [123, 94, 115, 157]}, {'name': 'polygon', 'all_points_x': [447, 435, 500, 505], 'all_points_y': [1, 36, 13, 1]}, {'name': 'polygon', 'all_points_x': [480, 434, 406, 442], 'all_points_y': [67, 133, 126, 63]}, {'name': 'polygon', 'all_points_x': [557, 636, 639, 604], 'all_points_y': [357, 283, 330, 359]}, {'name': 'polygon', 'all_points_x': [294, 352, 372, 307], 'all_points_y': [326, 358, 346, 280]}, {'name': 'polygon', 'all_points_x': [327, 412, 385, 292], 'all_points_y': [241, 344, 358, 260]}, {'name': 'polygon', 'all_points_x': [437, 493, 518, 459], 'all_points_y': [273, 236, 264, 298]}, {'name': 'polygon', 'all_points_x': [483, 565, 551, 462], 'all_points_y': [327, 271, 245, 302]}, {'name': 'polygon', 'all_points_x': [547, 638, 626, 537], 'all_points_y': [316, 290, 251, 282]}, {'name': 'polygon', 'all_points_x': [592, 614, 581, 564], 'all_points_y': [203, 254, 267, 197]}, {'name': 'polygon', 'all_points_x': [559, 574, 541, 523], 'all_points_y': [166, 240, 241, 160]}, {'name': 'polygon', 'all_points_x': [502, 554, 517, 477], 'all_points_y': [192, 250, 263, 207]}, {'name': 'polygon', 'all_points_x': [416, 529, 530, 456], 'all_points_y': [206, 179, 150, 164]}, {'name': 'polygon', 'all_points_x': [509, 431, 416, 493], 'all_points_y': [43, 73, 46, 14]}, {'name': 'polygon', 'all_points_x': [435, 405, 378, 408], 'all_points_y': [73, 126, 97, 52]}, {'name': 'polygon', 'all_points_x': [318, 422, 400, 341], 'all_points_y': [105, 132, 162, 148]}, {'name': 'polygon', 'all_points_x': [269, 341, 337, 270], 'all_points_y': [152, 158, 112, 115]}, {'name': 'polygon', 'all_points_x': [273, 386, 383, 265], 'all_points_y': [202, 184, 153, 173]}, {'name': 'polygon', 'all_points_x': [414, 474, 448, 384], 'all_points_y': [198, 153, 115, 178]}, {'name': 'polygon', 'all_points_x': [309, 398, 324, 284], 'all_points_y': [34, 123, 103, 42]}, {'name': 'polygon', 'all_points_x': [204, 295, 306, 231], 'all_points_y': [75, 40, 75, 107]}, {'name': 'polygon', 'all_points_x': [221, 253, 270, 237], 'all_points_y': [144, 163, 130, 104]}, {'name': 'polygon', 'all_points_x': [170, 212, 214, 163], 'all_points_y': [145, 153, 133, 108]}, {'name': 'polygon', 'all_points_x': [165, 213, 227, 168], 'all_points_y': [87, 138, 118, 49]}, {'name': 'polygon', 'all_points_x': [159, 285, 291, 189], 'all_points_y': [185, 264, 251, 142]}, {'name': 'polygon', 'all_points_x': [196, 208, 251, 239], 'all_points_y': [215, 340, 337, 227]}], 'num_ids': [3, 3, 3, 3, 3, 3, 3, 3, 3, 3, 3, 3, 3, 3, 3, 3, 3, 3, 3, 3, 3, 3, 3, 3, 3, 3, 3, 3]}\n",
      "Traceback (most recent call last):\n",
      "  File \"/home/melissap/miniconda3/envs/kumar/lib/python3.6/site-packages/mask_rcnn-2.1-py3.6.egg/mrcnn/model.py\", line 1709, in data_generator\n",
      "    use_mini_mask=config.USE_MINI_MASK)\n",
      "  File \"/home/melissap/miniconda3/envs/kumar/lib/python3.6/site-packages/mask_rcnn-2.1-py3.6.egg/mrcnn/model.py\", line 1275, in load_image_gt\n",
      "    source_class_ids = dataset.source_class_ids[dataset.image_info[image_id][\"source\"]]\n",
      "KeyError: 'pupae'\n"
     ]
    },
    {
     "name": "stdout",
     "output_type": "stream",
     "text": [
      "(array([], shape=(0, 0, 0), dtype=float64), array([], dtype=int32))"
     ]
    },
    {
     "name": "stderr",
     "output_type": "stream",
     "text": [
      "ERROR:root:Error processing image {'id': '22_070001.jpg', 'source': 'pupae', 'path': '/data/CoRoSect/10.code/maskRCNN/Mask_RCNN_matterport/mask_rcnn/datasets/Nasekomo_insects/22/trainvalid/22_070001.jpg', 'width': 640, 'height': 360, 'polygons': [{'name': 'polygon', 'all_points_x': [419, 375, 384, 423], 'all_points_y': [295, 287, 258, 267]}, {'name': 'polygon', 'all_points_x': [455, 428, 463, 486], 'all_points_y': [54, 66, 112, 105]}, {'name': 'polygon', 'all_points_x': [415, 436, 466, 429], 'all_points_y': [81, 126, 114, 68]}, {'name': 'polygon', 'all_points_x': [265, 354, 359, 264], 'all_points_y': [82, 87, 52, 57]}, {'name': 'polygon', 'all_points_x': [348, 431, 438, 351], 'all_points_y': [40, 58, 27, 16]}, {'name': 'polygon', 'all_points_x': [261, 348, 353, 260], 'all_points_y': [56, 49, 17, 30]}, {'name': 'polygon', 'all_points_x': [532, 605, 617, 529], 'all_points_y': [53, 56, 77, 77]}, {'name': 'polygon', 'all_points_x': [531, 606, 576, 518], 'all_points_y': [72, 175, 197, 99]}, {'name': 'polygon', 'all_points_x': [617, 567, 637, 639], 'all_points_y': [157, 232, 257, 156]}, {'name': 'polygon', 'all_points_x': [467, 518, 535, 490], 'all_points_y': [83, 140, 123, 67]}, {'name': 'polygon', 'all_points_x': [394, 506, 506, 412], 'all_points_y': [292, 326, 342, 350]}, {'name': 'polygon', 'all_points_x': [299, 330, 336, 299], 'all_points_y': [282, 279, 359, 357]}, {'name': 'polygon', 'all_points_x': [288, 359, 338, 277], 'all_points_y': [241, 210, 176, 213]}], 'num_ids': [3, 3, 3, 3, 3, 3, 3, 3, 3, 3, 3, 3, 3]}\n",
      "Traceback (most recent call last):\n",
      "  File \"/home/melissap/miniconda3/envs/kumar/lib/python3.6/site-packages/mask_rcnn-2.1-py3.6.egg/mrcnn/model.py\", line 1709, in data_generator\n",
      "    use_mini_mask=config.USE_MINI_MASK)\n",
      "  File \"/home/melissap/miniconda3/envs/kumar/lib/python3.6/site-packages/mask_rcnn-2.1-py3.6.egg/mrcnn/model.py\", line 1275, in load_image_gt\n",
      "    source_class_ids = dataset.source_class_ids[dataset.image_info[image_id][\"source\"]]\n",
      "KeyError: 'pupae'"
     ]
    },
    {
     "name": "stdout",
     "output_type": "stream",
     "text": [
      "\n"
     ]
    },
    {
     "name": "stderr",
     "output_type": "stream",
     "text": [
      "WARNING:root:You are using the default load_mask(), maybe you need to define your own one.WARNING:root:You are using the default load_mask(), maybe you need to define your own one."
     ]
    },
    {
     "name": "stdout",
     "output_type": "stream",
     "text": [
      "(array([], shape=(0, 0, 0), dtype=float64), array([], dtype=int32))"
     ]
    },
    {
     "name": "stderr",
     "output_type": "stream",
     "text": [
      "WARNING:root:You are using the default load_mask(), maybe you need to define your own one.\n"
     ]
    },
    {
     "name": "stdout",
     "output_type": "stream",
     "text": [
      "\n"
     ]
    },
    {
     "name": "stderr",
     "output_type": "stream",
     "text": [
      "\n",
      "WARNING:root:You are using the default load_mask(), maybe you need to define your own one.\n",
      "WARNING:root:You are using the default load_mask(), maybe you need to define your own one.\n",
      "WARNING:root:You are using the default load_mask(), maybe you need to define your own one."
     ]
    },
    {
     "name": "stdout",
     "output_type": "stream",
     "text": [
      "(array([], shape=(0, 0, 0), dtype=float64), array([], dtype=int32))"
     ]
    },
    {
     "name": "stderr",
     "output_type": "stream",
     "text": [
      "Traceback (most recent call last):\n"
     ]
    },
    {
     "name": "stdout",
     "output_type": "stream",
     "text": [
      "\n"
     ]
    },
    {
     "name": "stderr",
     "output_type": "stream",
     "text": [
      "  File \"/home/melissap/miniconda3/envs/kumar/lib/python3.6/site-packages/keras/utils/data_utils.py\", line 677, in _data_generator_task\n",
      "    generator_output = next(self._generator)\n",
      "\n",
      "  File \"/home/melissap/miniconda3/envs/kumar/lib/python3.6/site-packages/mask_rcnn-2.1-py3.6.egg/mrcnn/model.py\", line 1709, in data_generator\n",
      "    use_mini_mask=config.USE_MINI_MASK)\n",
      "\n",
      "ERROR:root:Error processing image {'id': '22_290001.jpg', 'source': 'pupae', 'path': '/data/CoRoSect/10.code/maskRCNN/Mask_RCNN_matterport/mask_rcnn/datasets/Nasekomo_insects/22/trainvalid/22_290001.jpg', 'width': 640, 'height': 360, 'polygons': [{'name': 'polygon', 'all_points_x': [1, 7, 43, 29], 'all_points_y': [117, 212, 196, 148]}, {'name': 'polygon', 'all_points_x': [595, 638, 580, 558], 'all_points_y': [40, 2, 1, 23]}, {'name': 'polygon', 'all_points_x': [628, 559, 574, 637], 'all_points_y': [26, 97, 127, 91]}, {'name': 'polygon', 'all_points_x': [477, 562, 602, 495], 'all_points_y': [97, 42, 72, 149]}, {'name': 'polygon', 'all_points_x': [520, 546, 576, 554], 'all_points_y': [129, 170, 156, 120]}, {'name': 'polygon', 'all_points_x': [439, 484, 533, 469], 'all_points_y': [311, 359, 357, 295]}, {'name': 'polygon', 'all_points_x': [402, 479, 438, 391], 'all_points_y': [206, 296, 300, 241]}, {'name': 'polygon', 'all_points_x': [424, 469, 515, 452], 'all_points_y': [212, 208, 290, 278]}, {'name': 'polygon', 'all_points_x': [335, 440, 415, 328], 'all_points_y': [155, 149, 188, 191]}, {'name': 'polygon', 'all_points_x': [367, 462, 462, 367], 'all_points_y': [100, 76, 121, 124]}, {'name': 'polygon', 'all_points_x': [328, 400, 385, 314], 'all_points_y': [33, 38, 11, 5]}, {'name': 'polygon', 'all_points_x': [285, 313, 347, 318], 'all_points_y': [9, 114, 100, 9]}, {'name': 'polygon', 'all_points_x': [178, 287, 288, 177], 'all_points_y': [50, 48, 83, 72]}, {'name': 'polygon', 'all_points_x': [184, 126, 118, 181], 'all_points_y': [76, 53, 77, 89]}, {'name': 'polygon', 'all_points_x': [2, 95, 106, 3], 'all_points_y': [32, 50, 30, 4]}, {'name': 'polygon', 'all_points_x': [11, 67, 72, 3], 'all_points_y': [97, 137, 189, 120]}, {'name': 'polygon', 'all_points_x': [123, 61, 109, 138], 'all_points_y': [80, 157, 184, 110]}, {'name': 'polygon', 'all_points_x': [125, 189, 190, 131], 'all_points_y': [82, 93, 116, 113]}, {'name': 'polygon', 'all_points_x': [154, 270, 221, 135], 'all_points_y': [137, 121, 91, 124]}, {'name': 'polygon', 'all_points_x': [203, 257, 227, 192], 'all_points_y': [207, 217, 184, 177]}, {'name': 'polygon', 'all_points_x': [218, 302, 281, 210], 'all_points_y': [262, 254, 231, 218]}, {'name': 'polygon', 'all_points_x': [224, 238, 303, 290], 'all_points_y': [182, 162, 217, 252]}, {'name': 'polygon', 'all_points_x': [87, 153, 163, 132], 'all_points_y': [342, 267, 314, 358]}, {'name': 'polygon', 'all_points_x': [37, 53, 12, 7], 'all_points_y': [224, 331, 319, 211]}, {'name': 'polygon', 'all_points_x': [146, 168, 214, 169], 'all_points_y': [239, 324, 304, 217]}], 'num_ids': [3, 3, 3, 3, 3, 3, 3, 3, 3, 3, 3, 3, 3, 3, 3, 3, 3, 3, 3, 3, 3, 3, 3, 3, 3]}\n",
      "Traceback (most recent call last):\n",
      "  File \"/home/melissap/miniconda3/envs/kumar/lib/python3.6/site-packages/mask_rcnn-2.1-py3.6.egg/mrcnn/model.py\", line 1709, in data_generator\n",
      "    use_mini_mask=config.USE_MINI_MASK)\n",
      "  File \"/home/melissap/miniconda3/envs/kumar/lib/python3.6/site-packages/mask_rcnn-2.1-py3.6.egg/mrcnn/model.py\", line 1275, in load_image_gt\n",
      "    source_class_ids = dataset.source_class_ids[dataset.image_info[image_id][\"source\"]]\n",
      "KeyError: 'pupae'\n",
      "\n",
      "\n",
      "ERROR:root:Error processing image {'id': '44_080001.jpg', 'source': 'adult', 'path': '/data/CoRoSect/10.code/maskRCNN/Mask_RCNN_matterport/mask_rcnn/datasets/Nasekomo_insects/44/trainvalid/44_080001.jpg', 'width': 640, 'height': 360, 'polygons': [{'name': 'polygon', 'all_points_x': [321, 430, 428, 318], 'all_points_y': [152, 178, 208, 191]}, {'name': 'polygon', 'all_points_x': [482, 535, 497, 456], 'all_points_y': [113, 73, 22, 93]}, {'name': 'polygon', 'all_points_x': [0, 61, 127, 2], 'all_points_y': [78, 180, 114, 45]}, {'name': 'polygon', 'all_points_x': [252, 257, 291, 318], 'all_points_y': [109, 197, 202, 116]}], 'num_ids': [4, 4, 4, 4]}\n",
      "Traceback (most recent call last):\n",
      "  File \"/home/melissap/miniconda3/envs/kumar/lib/python3.6/site-packages/mask_rcnn-2.1-py3.6.egg/mrcnn/model.py\", line 1709, in data_generator\n",
      "    use_mini_mask=config.USE_MINI_MASK)\n",
      "  File \"/home/melissap/miniconda3/envs/kumar/lib/python3.6/site-packages/mask_rcnn-2.1-py3.6.egg/mrcnn/model.py\", line 1275, in load_image_gt\n",
      "    source_class_ids = dataset.source_class_ids[dataset.image_info[image_id][\"source\"]]\n",
      "KeyError: 'adult'\n",
      "\n",
      "WARNING:root:You are using the default load_mask(), maybe you need to define your own one.WARNING:root:You are using the default load_mask(), maybe you need to define your own one.  File \"/home/melissap/miniconda3/envs/kumar/lib/python3.6/site-packages/mask_rcnn-2.1-py3.6.egg/mrcnn/model.py\", line 1275, in load_image_gt\n",
      "    source_class_ids = dataset.source_class_ids[dataset.image_info[image_id][\"source\"]]\n",
      "ERROR:root:Error processing image {'id': '1_210001.jpg', 'source': 'eggs', 'path': '/data/CoRoSect/10.code/maskRCNN/Mask_RCNN_matterport/mask_rcnn/datasets/Nasekomo_insects/1/trainvalid/1_210001.jpg', 'width': 640, 'height': 360, 'polygons': [{'name': 'polygon', 'all_points_x': [112, 117, 107, 101], 'all_points_y': [128, 116, 111, 123]}, {'name': 'polygon', 'all_points_x': [132, 145, 144, 131], 'all_points_y': [125, 120, 110, 112]}, {'name': 'polygon', 'all_points_x': [238, 236, 247, 248], 'all_points_y': [87, 99, 101, 85]}, {'name': 'polygon', 'all_points_x': [246, 247, 259, 259], 'all_points_y': [142, 154, 156, 143]}, {'name': 'polygon', 'all_points_x': [87, 87, 103, 98], 'all_points_y': [162, 174, 175, 160]}, {'name': 'polygon', 'all_points_x': [61, 72, 90, 75], 'all_points_y': [123, 141, 132, 116]}, {'name': 'polygon', 'all_points_x': [127, 118, 131, 135], 'all_points_y': [153, 165, 169, 153]}], 'num_ids': [1, 1, 1, 1, 1, 1, 1]}\n",
      "Traceback (most recent call last):\n",
      "  File \"/home/melissap/miniconda3/envs/kumar/lib/python3.6/site-packages/mask_rcnn-2.1-py3.6.egg/mrcnn/model.py\", line 1709, in data_generator\n",
      "    use_mini_mask=config.USE_MINI_MASK)\n",
      "  File \"/home/melissap/miniconda3/envs/kumar/lib/python3.6/site-packages/mask_rcnn-2.1-py3.6.egg/mrcnn/model.py\", line 1275, in load_image_gt\n",
      "    source_class_ids = dataset.source_class_ids[dataset.image_info[image_id][\"source\"]]\n",
      "KeyError: 'eggs'ERROR:root:Error processing image {'id': '22_270001.jpg', 'source': 'pupae', 'path': '/data/CoRoSect/10.code/maskRCNN/Mask_RCNN_matterport/mask_rcnn/datasets/Nasekomo_insects/22/trainvalid/22_270001.jpg', 'width': 640, 'height': 360, 'polygons': [{'name': 'polygon', 'all_points_x': [143, 163, 120, 108], 'all_points_y': [124, 89, 89, 113]}, {'name': 'polygon', 'all_points_x': [205, 255, 294, 236], 'all_points_y': [2, 45, 37, 1]}, {'name': 'polygon', 'all_points_x': [236, 293, 308, 270], 'all_points_y': [1, 38, 0, 1]}, {'name': 'polygon', 'all_points_x': [597, 546, 597, 633], 'all_points_y': [153, 196, 200, 150]}, {'name': 'polygon', 'all_points_x': [570, 639, 638, 550], 'all_points_y': [97, 114, 147, 112]}, {'name': 'polygon', 'all_points_x': [579, 513, 514, 627], 'all_points_y': [115, 120, 137, 144]}, {'name': 'polygon', 'all_points_x': [432, 389, 357, 401], 'all_points_y': [16, 70, 62, 4]}, {'name': 'polygon', 'all_points_x': [429, 495, 467, 382], 'all_points_y': [171, 202, 232, 178]}, {'name': 'polygon', 'all_points_x': [521, 550, 520, 485], 'all_points_y': [17, 21, 100, 106]}, {'name': 'polygon', 'all_points_x': [585, 546, 497, 557], 'all_points_y': [67, 115, 139, 54]}, {'name': 'polygon', 'all_points_x': [513, 558, 562, 501], 'all_points_y': [176, 173, 147, 136]}, {'name': 'polygon', 'all_points_x': [479, 546, 552, 504], 'all_points_y': [267, 299, 263, 238]}, {'name': 'polygon', 'all_points_x': [24, 75, 63, 9], 'all_points_y': [347, 312, 291, 322]}, {'name': 'polygon', 'all_points_x': [15, 112, 102, 18], 'all_points_y': [326, 285, 254, 268]}, {'name': 'polygon', 'all_points_x': [80, 131, 123, 79], 'all_points_y': [346, 357, 320, 315]}, {'name': 'polygon', 'all_points_x': [323, 343, 331, 295], 'all_points_y': [247, 339, 348, 258]}, {'name': 'polygon', 'all_points_x': [236, 324, 301, 217], 'all_points_y': [299, 232, 210, 276]}, {'name': 'polygon', 'all_points_x': [253, 276, 256, 226], 'all_points_y': [237, 207, 188, 217]}, {'name': 'polygon', 'all_points_x': [341, 402, 378, 320], 'all_points_y': [209, 149, 126, 178]}, {'name': 'polygon', 'all_points_x': [318, 392, 396, 319], 'all_points_y': [165, 133, 110, 144]}, {'name': 'polygon', 'all_points_x': [323, 398, 388, 317], 'all_points_y': [146, 102, 77, 120]}, {'name': 'polygon', 'all_points_x': [286, 367, 359, 293], 'all_points_y': [96, 80, 95, 128]}, {'name': 'polygon', 'all_points_x': [317, 311, 285, 288], 'all_points_y': [128, 200, 206, 125]}, {'name': 'polygon', 'all_points_x': [286, 289, 266, 252], 'all_points_y': [123, 187, 182, 125]}, {'name': 'polygon', 'all_points_x': [150, 129, 88, 116], 'all_points_y': [182, 217, 211, 166]}, {'name': 'polygon', 'all_points_x': [101, 89, 57, 81], 'all_points_y': [185, 251, 238, 170]}, {'name': 'polygon', 'all_points_x': [52, 2, 0, 24], 'all_points_y': [204, 176, 221, 230]}, {'name': 'polygon', 'all_points_x': [0, 42, 42, 0], 'all_points_y': [151, 154, 180, 178]}, {'name': 'polygon', 'all_points_x': [35, 0, 1, 19], 'all_points_y': [142, 97, 139, 151]}, {'name': 'polygon', 'all_points_x': [53, 56, 1, 1], 'all_points_y': [20, 1, 0, 11]}, {'name': 'polygon', 'all_points_x': [1, 40, 41, 1], 'all_points_y': [47, 52, 20, 14]}, {'name': 'polygon', 'all_points_x': [1, 54, 73, 0], 'all_points_y': [76, 31, 95, 104]}, {'name': 'polygon', 'all_points_x': [90, 83, 57, 57], 'all_points_y': [2, 50, 39, 1]}, {'name': 'polygon', 'all_points_x': [132, 214, 199, 104], 'all_points_y': [99, 50, 28, 67]}, {'name': 'polygon', 'all_points_x': [242, 254, 286, 268], 'all_points_y': [55, 124, 111, 43]}, {'name': 'polygon', 'all_points_x': [201, 264, 238, 205], 'all_points_y': [172, 173, 205, 197]}, {'name': 'polygon', 'all_points_x': [207, 183, 153, 181], 'all_points_y': [205, 102, 108, 214]}, {'name': 'polygon', 'all_points_x': [107, 174, 179, 83], 'all_points_y': [117, 139, 194, 147]}], 'num_ids': [3, 3, 3, 3, 3, 3, 3, 3, 3, 3, 3, 3, 3, 3, 3, 3, 3, 3, 3, 3, 3, 3, 3, 3, 3, 3, 3, 3, 3, 3, 3, 3, 3, 3, 3, 3, 3, 3]}\n",
      "Traceback (most recent call last):\n",
      "  File \"/home/melissap/miniconda3/envs/kumar/lib/python3.6/site-packages/mask_rcnn-2.1-py3.6.egg/mrcnn/model.py\", line 1709, in data_generator\n",
      "    use_mini_mask=config.USE_MINI_MASK)\n",
      "  File \"/home/melissap/miniconda3/envs/kumar/lib/python3.6/site-packages/mask_rcnn-2.1-py3.6.egg/mrcnn/model.py\", line 1275, in load_image_gt\n",
      "    source_class_ids = dataset.source_class_ids[dataset.image_info[image_id][\"source\"]]\n"
     ]
    },
    {
     "name": "stderr",
     "output_type": "stream",
     "text": [
      "KeyError: 'pupae'\n",
      "WARNING:root:You are using the default load_mask(), maybe you need to define your own one.KeyError: 'eggs'\n",
      "\n",
      "\n",
      "\n"
     ]
    },
    {
     "name": "stdout",
     "output_type": "stream",
     "text": [
      "(array([], shape=(0, 0, 0), dtype=float64), array([], dtype=int32))\n"
     ]
    },
    {
     "name": "stderr",
     "output_type": "stream",
     "text": [
      "ERROR:root:Error processing image {'id': '25_180001.jpg', 'source': 'pupae', 'path': '/data/CoRoSect/10.code/maskRCNN/Mask_RCNN_matterport/mask_rcnn/datasets/Nasekomo_insects/25/trainvalid/25_180001.jpg', 'width': 640, 'height': 360, 'polygons': [{'name': 'polygon', 'all_points_x': [0, 39, 62, 25], 'all_points_y': [130, 173, 151, 125]}, {'name': 'polygon', 'all_points_x': [231, 303, 262, 188], 'all_points_y': [84, 178, 197, 104]}], 'num_ids': [3, 3]}\n",
      "Traceback (most recent call last):\n",
      "  File \"/home/melissap/miniconda3/envs/kumar/lib/python3.6/site-packages/mask_rcnn-2.1-py3.6.egg/mrcnn/model.py\", line 1709, in data_generator\n",
      "    use_mini_mask=config.USE_MINI_MASK)\n",
      "  File \"/home/melissap/miniconda3/envs/kumar/lib/python3.6/site-packages/mask_rcnn-2.1-py3.6.egg/mrcnn/model.py\", line 1275, in load_image_gt\n",
      "    source_class_ids = dataset.source_class_ids[dataset.image_info[image_id][\"source\"]]\n",
      "KeyError: 'pupae'ERROR:root:Error processing image {'id': '37_290001.jpg', 'source': 'pupae', 'path': '/data/CoRoSect/10.code/maskRCNN/Mask_RCNN_matterport/mask_rcnn/datasets/Nasekomo_insects/37/trainvalid/37_290001.jpg', 'width': 640, 'height': 360, 'polygons': [{'name': 'polygon', 'all_points_x': [544, 482, 497, 570], 'all_points_y': [71, 139, 157, 92]}, {'name': 'polygon', 'all_points_x': [59, 104, 98, 50], 'all_points_y': [303, 303, 328, 320]}, {'name': 'polygon', 'all_points_x': [411, 529, 528, 392], 'all_points_y': [67, 88, 123, 104]}, {'name': 'polygon', 'all_points_x': [569, 547, 634, 637], 'all_points_y': [42, 66, 140, 86]}, {'name': 'polygon', 'all_points_x': [386, 471, 482, 463], 'all_points_y': [2, 41, 13, 1]}, {'name': 'polygon', 'all_points_x': [252, 235, 214, 217], 'all_points_y': [2, 30, 26, 0]}, {'name': 'polygon', 'all_points_x': [224, 176, 152, 172], 'all_points_y': [2, 38, 16, 1]}, {'name': 'polygon', 'all_points_x': [232, 205, 193, 208], 'all_points_y': [328, 359, 343, 316]}, {'name': 'polygon', 'all_points_x': [477, 512, 448, 428], 'all_points_y': [298, 357, 358, 317]}, {'name': 'polygon', 'all_points_x': [576, 638, 637, 581], 'all_points_y': [292, 258, 321, 332]}, {'name': 'polygon', 'all_points_x': [274, 411, 429, 274], 'all_points_y': [335, 336, 359, 358]}, {'name': 'polygon', 'all_points_x': [405, 421, 421, 401], 'all_points_y': [237, 237, 263, 260]}, {'name': 'polygon', 'all_points_x': [412, 423, 384, 373], 'all_points_y': [152, 260, 254, 141]}, {'name': 'polygon', 'all_points_x': [475, 559, 558, 456], 'all_points_y': [164, 230, 256, 188]}, {'name': 'polygon', 'all_points_x': [570, 587, 577, 546], 'all_points_y': [194, 217, 253, 208]}, {'name': 'polygon', 'all_points_x': [617, 596, 571, 595], 'all_points_y': [204, 284, 287, 198]}, {'name': 'polygon', 'all_points_x': [455, 503, 483, 424], 'all_points_y': [327, 243, 225, 300]}, {'name': 'polygon', 'all_points_x': [424, 388, 360, 393], 'all_points_y': [40, 114, 97, 29]}, {'name': 'polygon', 'all_points_x': [396, 333, 318, 374], 'all_points_y': [198, 280, 253, 182]}, {'name': 'polygon', 'all_points_x': [294, 331, 335, 299], 'all_points_y': [293, 314, 281, 270]}, {'name': 'polygon', 'all_points_x': [244, 222, 186, 222], 'all_points_y': [119, 214, 206, 110]}, {'name': 'polygon', 'all_points_x': [262, 240, 283, 293], 'all_points_y': [92, 201, 200, 94]}, {'name': 'polygon', 'all_points_x': [258, 268, 307, 280], 'all_points_y': [208, 302, 291, 193]}, {'name': 'polygon', 'all_points_x': [161, 104, 136, 184], 'all_points_y': [230, 289, 318, 260]}, {'name': 'polygon', 'all_points_x': [201, 158, 109, 170], 'all_points_y': [284, 358, 359, 270]}, {'name': 'polygon', 'all_points_x': [134, 115, 84, 98], 'all_points_y': [197, 290, 285, 188]}, {'name': 'polygon', 'all_points_x': [94, 88, 62, 67], 'all_points_y': [176, 238, 232, 162]}, {'name': 'polygon', 'all_points_x': [0, 115, 90, 1], 'all_points_y': [84, 88, 116, 105]}, {'name': 'polygon', 'all_points_x': [65, 162, 176, 64], 'all_points_y': [58, 69, 98, 84]}, {'name': 'polygon', 'all_points_x': [24, 39, 64, 45], 'all_points_y': [20, 79, 81, 15]}, {'name': 'polygon', 'all_points_x': [18, 82, 76, 20], 'all_points_y': [106, 120, 149, 133]}, {'name': 'polygon', 'all_points_x': [67, 63, 36, 38], 'all_points_y': [144, 215, 203, 137]}], 'num_ids': [3, 3, 3, 3, 3, 3, 3, 3, 3, 3, 3, 3, 3, 3, 3, 3, 3, 3, 3, 3, 3, 3, 3, 3, 3, 3, 3, 3, 3, 3, 3, 3]}\n",
      "Traceback (most recent call last):\n",
      "  File \"/home/melissap/miniconda3/envs/kumar/lib/python3.6/site-packages/mask_rcnn-2.1-py3.6.egg/mrcnn/model.py\", line 1709, in data_generator\n",
      "    use_mini_mask=config.USE_MINI_MASK)\n",
      "  File \"/home/melissap/miniconda3/envs/kumar/lib/python3.6/site-packages/mask_rcnn-2.1-py3.6.egg/mrcnn/model.py\", line 1275, in load_image_gt\n",
      "    source_class_ids = dataset.source_class_ids[dataset.image_info[image_id][\"source\"]]\n",
      "KeyError: 'pupae'\n",
      "\n"
     ]
    },
    {
     "name": "stdout",
     "output_type": "stream",
     "text": [
      "\n"
     ]
    },
    {
     "name": "stderr",
     "output_type": "stream",
     "text": [
      "WARNING:root:You are using the default load_mask(), maybe you need to define your own one.\n",
      "WARNING:root:You are using the default load_mask(), maybe you need to define your own one."
     ]
    },
    {
     "name": "stdout",
     "output_type": "stream",
     "text": [
      "\n"
     ]
    },
    {
     "name": "stderr",
     "output_type": "stream",
     "text": [
      "\n",
      "WARNING:root:You are using the default load_mask(), maybe you need to define your own one.WARNING:root:You are using the default load_mask(), maybe you need to define your own one.WARNING:root:You are using the default load_mask(), maybe you need to define your own one.WARNING:root:You are using the default load_mask(), maybe you need to define your own one.\n"
     ]
    },
    {
     "name": "stdout",
     "output_type": "stream",
     "text": [
      "\n"
     ]
    },
    {
     "name": "stderr",
     "output_type": "stream",
     "text": [
      "\n",
      "\n",
      "\n"
     ]
    },
    {
     "ename": "KeyError",
     "evalue": "'eggs'",
     "output_type": "error",
     "traceback": [
      "\u001b[0;31m---------------------------------------------------------------------------\u001b[0m",
      "\u001b[0;31mKeyError\u001b[0m                                  Traceback (most recent call last)",
      "\u001b[0;32m<ipython-input-32-c7bc734e5e35>\u001b[0m in \u001b[0;36m<module>\u001b[0;34m\u001b[0m\n\u001b[1;32m      1\u001b[0m \u001b[0;32mif\u001b[0m \u001b[0m__name__\u001b[0m \u001b[0;34m==\u001b[0m \u001b[0;34m'__main__'\u001b[0m\u001b[0;34m:\u001b[0m\u001b[0;34m\u001b[0m\u001b[0;34m\u001b[0m\u001b[0m\n\u001b[0;32m----> 2\u001b[0;31m     \u001b[0mmain\u001b[0m\u001b[0;34m(\u001b[0m\u001b[0;34m)\u001b[0m\u001b[0;34m\u001b[0m\u001b[0;34m\u001b[0m\u001b[0m\n\u001b[0m",
      "\u001b[0;32m<ipython-input-20-d00e757fac3a>\u001b[0m in \u001b[0;36mmain\u001b[0;34m()\u001b[0m\n\u001b[1;32m     44\u001b[0m             \u001b[0;34m\"mrcnn_class_logits\"\u001b[0m\u001b[0;34m,\u001b[0m \u001b[0;34m\"mrcnn_bbox_fc\"\u001b[0m\u001b[0;34m,\u001b[0m\u001b[0;34m\u001b[0m\u001b[0;34m\u001b[0m\u001b[0m\n\u001b[1;32m     45\u001b[0m             \"mrcnn_bbox\", \"mrcnn_mask\"])\n\u001b[0;32m---> 46\u001b[0;31m     \u001b[0mtrain\u001b[0m\u001b[0;34m(\u001b[0m\u001b[0mmodel\u001b[0m\u001b[0;34m)\u001b[0m\u001b[0;34m\u001b[0m\u001b[0;34m\u001b[0m\u001b[0m\n\u001b[0m",
      "\u001b[0;32m<ipython-input-18-a89488985f82>\u001b[0m in \u001b[0;36mtrain\u001b[0;34m(model)\u001b[0m\n\u001b[1;32m     20\u001b[0m                 \u001b[0mlearning_rate\u001b[0m\u001b[0;34m=\u001b[0m\u001b[0mconfig\u001b[0m\u001b[0;34m.\u001b[0m\u001b[0mLEARNING_RATE\u001b[0m\u001b[0;34m,\u001b[0m\u001b[0;34m\u001b[0m\u001b[0;34m\u001b[0m\u001b[0m\n\u001b[1;32m     21\u001b[0m                 \u001b[0mepochs\u001b[0m\u001b[0;34m=\u001b[0m\u001b[0;36m30\u001b[0m\u001b[0;34m,\u001b[0m\u001b[0;34m\u001b[0m\u001b[0;34m\u001b[0m\u001b[0m\n\u001b[0;32m---> 22\u001b[0;31m                 layers='heads')\n\u001b[0m",
      "\u001b[0;32m~/miniconda3/envs/kumar/lib/python3.6/site-packages/mask_rcnn-2.1-py3.6.egg/mrcnn/model.py\u001b[0m in \u001b[0;36mtrain\u001b[0;34m(self, train_dataset, val_dataset, learning_rate, epochs, layers, augmentation, custom_callbacks, no_augmentation_sources)\u001b[0m\n\u001b[1;32m   2372\u001b[0m             \u001b[0mmax_queue_size\u001b[0m\u001b[0;34m=\u001b[0m\u001b[0;36m100\u001b[0m\u001b[0;34m,\u001b[0m\u001b[0;34m\u001b[0m\u001b[0;34m\u001b[0m\u001b[0m\n\u001b[1;32m   2373\u001b[0m             \u001b[0mworkers\u001b[0m\u001b[0;34m=\u001b[0m\u001b[0mworkers\u001b[0m\u001b[0;34m,\u001b[0m\u001b[0;34m\u001b[0m\u001b[0;34m\u001b[0m\u001b[0m\n\u001b[0;32m-> 2374\u001b[0;31m             \u001b[0muse_multiprocessing\u001b[0m\u001b[0;34m=\u001b[0m\u001b[0;32mTrue\u001b[0m\u001b[0;34m,\u001b[0m\u001b[0;34m\u001b[0m\u001b[0;34m\u001b[0m\u001b[0m\n\u001b[0m\u001b[1;32m   2375\u001b[0m         )\n\u001b[1;32m   2376\u001b[0m         \u001b[0mself\u001b[0m\u001b[0;34m.\u001b[0m\u001b[0mepoch\u001b[0m \u001b[0;34m=\u001b[0m \u001b[0mmax\u001b[0m\u001b[0;34m(\u001b[0m\u001b[0mself\u001b[0m\u001b[0;34m.\u001b[0m\u001b[0mepoch\u001b[0m\u001b[0;34m,\u001b[0m \u001b[0mepochs\u001b[0m\u001b[0;34m)\u001b[0m\u001b[0;34m\u001b[0m\u001b[0;34m\u001b[0m\u001b[0m\n",
      "\u001b[0;32m~/miniconda3/envs/kumar/lib/python3.6/site-packages/keras/legacy/interfaces.py\u001b[0m in \u001b[0;36mwrapper\u001b[0;34m(*args, **kwargs)\u001b[0m\n\u001b[1;32m     89\u001b[0m                 warnings.warn('Update your `' + object_name +\n\u001b[1;32m     90\u001b[0m                               '` call to the Keras 2 API: ' + signature, stacklevel=2)\n\u001b[0;32m---> 91\u001b[0;31m             \u001b[0;32mreturn\u001b[0m \u001b[0mfunc\u001b[0m\u001b[0;34m(\u001b[0m\u001b[0;34m*\u001b[0m\u001b[0margs\u001b[0m\u001b[0;34m,\u001b[0m \u001b[0;34m**\u001b[0m\u001b[0mkwargs\u001b[0m\u001b[0;34m)\u001b[0m\u001b[0;34m\u001b[0m\u001b[0;34m\u001b[0m\u001b[0m\n\u001b[0m\u001b[1;32m     92\u001b[0m         \u001b[0mwrapper\u001b[0m\u001b[0;34m.\u001b[0m\u001b[0m_original_function\u001b[0m \u001b[0;34m=\u001b[0m \u001b[0mfunc\u001b[0m\u001b[0;34m\u001b[0m\u001b[0;34m\u001b[0m\u001b[0m\n\u001b[1;32m     93\u001b[0m         \u001b[0;32mreturn\u001b[0m \u001b[0mwrapper\u001b[0m\u001b[0;34m\u001b[0m\u001b[0;34m\u001b[0m\u001b[0m\n",
      "\u001b[0;32m~/miniconda3/envs/kumar/lib/python3.6/site-packages/keras/engine/training.py\u001b[0m in \u001b[0;36mfit_generator\u001b[0;34m(self, generator, steps_per_epoch, epochs, verbose, callbacks, validation_data, validation_steps, class_weight, max_queue_size, workers, use_multiprocessing, shuffle, initial_epoch)\u001b[0m\n\u001b[1;32m   2192\u001b[0m                 \u001b[0mbatch_index\u001b[0m \u001b[0;34m=\u001b[0m \u001b[0;36m0\u001b[0m\u001b[0;34m\u001b[0m\u001b[0;34m\u001b[0m\u001b[0m\n\u001b[1;32m   2193\u001b[0m                 \u001b[0;32mwhile\u001b[0m \u001b[0msteps_done\u001b[0m \u001b[0;34m<\u001b[0m \u001b[0msteps_per_epoch\u001b[0m\u001b[0;34m:\u001b[0m\u001b[0;34m\u001b[0m\u001b[0;34m\u001b[0m\u001b[0m\n\u001b[0;32m-> 2194\u001b[0;31m                     \u001b[0mgenerator_output\u001b[0m \u001b[0;34m=\u001b[0m \u001b[0mnext\u001b[0m\u001b[0;34m(\u001b[0m\u001b[0moutput_generator\u001b[0m\u001b[0;34m)\u001b[0m\u001b[0;34m\u001b[0m\u001b[0;34m\u001b[0m\u001b[0m\n\u001b[0m\u001b[1;32m   2195\u001b[0m \u001b[0;34m\u001b[0m\u001b[0m\n\u001b[1;32m   2196\u001b[0m                     \u001b[0;32mif\u001b[0m \u001b[0;32mnot\u001b[0m \u001b[0mhasattr\u001b[0m\u001b[0;34m(\u001b[0m\u001b[0mgenerator_output\u001b[0m\u001b[0;34m,\u001b[0m \u001b[0;34m'__len__'\u001b[0m\u001b[0;34m)\u001b[0m\u001b[0;34m:\u001b[0m\u001b[0;34m\u001b[0m\u001b[0;34m\u001b[0m\u001b[0m\n",
      "\u001b[0;32m~/miniconda3/envs/kumar/lib/python3.6/site-packages/keras/utils/data_utils.py\u001b[0m in \u001b[0;36mget\u001b[0;34m(self)\u001b[0m\n\u001b[1;32m    791\u001b[0m             \u001b[0msuccess\u001b[0m\u001b[0;34m,\u001b[0m \u001b[0mvalue\u001b[0m \u001b[0;34m=\u001b[0m \u001b[0mself\u001b[0m\u001b[0;34m.\u001b[0m\u001b[0mqueue\u001b[0m\u001b[0;34m.\u001b[0m\u001b[0mget\u001b[0m\u001b[0;34m(\u001b[0m\u001b[0;34m)\u001b[0m\u001b[0;34m\u001b[0m\u001b[0;34m\u001b[0m\u001b[0m\n\u001b[1;32m    792\u001b[0m             \u001b[0;32mif\u001b[0m \u001b[0;32mnot\u001b[0m \u001b[0msuccess\u001b[0m\u001b[0;34m:\u001b[0m\u001b[0;34m\u001b[0m\u001b[0;34m\u001b[0m\u001b[0m\n\u001b[0;32m--> 793\u001b[0;31m                 \u001b[0msix\u001b[0m\u001b[0;34m.\u001b[0m\u001b[0mreraise\u001b[0m\u001b[0;34m(\u001b[0m\u001b[0mvalue\u001b[0m\u001b[0;34m.\u001b[0m\u001b[0m__class__\u001b[0m\u001b[0;34m,\u001b[0m \u001b[0mvalue\u001b[0m\u001b[0;34m,\u001b[0m \u001b[0mvalue\u001b[0m\u001b[0;34m.\u001b[0m\u001b[0m__traceback__\u001b[0m\u001b[0;34m)\u001b[0m\u001b[0;34m\u001b[0m\u001b[0;34m\u001b[0m\u001b[0m\n\u001b[0m",
      "\u001b[0;32m~/miniconda3/envs/kumar/lib/python3.6/site-packages/six.py\u001b[0m in \u001b[0;36mreraise\u001b[0;34m(tp, value, tb)\u001b[0m\n\u001b[1;32m    717\u001b[0m             \u001b[0;32mif\u001b[0m \u001b[0mvalue\u001b[0m\u001b[0;34m.\u001b[0m\u001b[0m__traceback__\u001b[0m \u001b[0;32mis\u001b[0m \u001b[0;32mnot\u001b[0m \u001b[0mtb\u001b[0m\u001b[0;34m:\u001b[0m\u001b[0;34m\u001b[0m\u001b[0;34m\u001b[0m\u001b[0m\n\u001b[1;32m    718\u001b[0m                 \u001b[0;32mraise\u001b[0m \u001b[0mvalue\u001b[0m\u001b[0;34m.\u001b[0m\u001b[0mwith_traceback\u001b[0m\u001b[0;34m(\u001b[0m\u001b[0mtb\u001b[0m\u001b[0;34m)\u001b[0m\u001b[0;34m\u001b[0m\u001b[0;34m\u001b[0m\u001b[0m\n\u001b[0;32m--> 719\u001b[0;31m             \u001b[0;32mraise\u001b[0m \u001b[0mvalue\u001b[0m\u001b[0;34m\u001b[0m\u001b[0;34m\u001b[0m\u001b[0m\n\u001b[0m\u001b[1;32m    720\u001b[0m         \u001b[0;32mfinally\u001b[0m\u001b[0;34m:\u001b[0m\u001b[0;34m\u001b[0m\u001b[0;34m\u001b[0m\u001b[0m\n\u001b[1;32m    721\u001b[0m             \u001b[0mvalue\u001b[0m \u001b[0;34m=\u001b[0m \u001b[0;32mNone\u001b[0m\u001b[0;34m\u001b[0m\u001b[0;34m\u001b[0m\u001b[0m\n",
      "\u001b[0;31mKeyError\u001b[0m: 'eggs'"
     ]
    }
   ],
   "source": [
    "if __name__ == '__main__':\n",
    "    main()"
   ]
  },
  {
   "cell_type": "code",
   "execution_count": null,
   "id": "c87decc9",
   "metadata": {},
   "outputs": [],
   "source": []
  }
 ],
 "metadata": {
  "kernelspec": {
   "display_name": "Python 3",
   "language": "python",
   "name": "python3"
  },
  "language_info": {
   "codemirror_mode": {
    "name": "ipython",
    "version": 3
   },
   "file_extension": ".py",
   "mimetype": "text/x-python",
   "name": "python",
   "nbconvert_exporter": "python",
   "pygments_lexer": "ipython3",
   "version": "3.7.11"
  }
 },
 "nbformat": 4,
 "nbformat_minor": 5
}
