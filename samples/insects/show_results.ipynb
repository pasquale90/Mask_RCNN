{
 "cells": [
  {
   "cell_type": "code",
   "execution_count": 1,
   "id": "7d731af7",
   "metadata": {},
   "outputs": [],
   "source": [
    "import datetime\n",
    "%reload_ext tensorboard\n",
    "#log_directory=\"/data/CoRoSect/10.code/maskRCNN/Mask_RCNN_matterport/logs/insects20220214T1132\"\n",
    "log_directory=\"/home/melissap/Desktop/CoRoSect/5.github/Mask_RCNN/logs/insects20220412T1641\""
   ]
  },
  {
   "cell_type": "code",
   "execution_count": 15,
   "id": "5a840eaa",
   "metadata": {
    "scrolled": true
   },
   "outputs": [
    {
     "data": {
      "text/html": [
       "\n",
       "      <iframe id=\"tensorboard-frame-234638be3c18f70f\" width=\"100%\" height=\"800\" frameborder=\"0\">\n",
       "      </iframe>\n",
       "      <script>\n",
       "        (function() {\n",
       "          const frame = document.getElementById(\"tensorboard-frame-234638be3c18f70f\");\n",
       "          const url = new URL(\"/\", window.location);\n",
       "          url.port = 8013;\n",
       "          frame.src = url;\n",
       "        })();\n",
       "      </script>\n",
       "  "
      ],
      "text/plain": [
       "<IPython.core.display.HTML object>"
      ]
     },
     "metadata": {},
     "output_type": "display_data"
    }
   ],
   "source": [
    "%tensorboard --logdir \"/home/melissap/Desktop/CoRoSect/5.github/Mask_RCNN/logs/insects20220412T1641\" --port=8013 --host=127.0.0.1"
   ]
  },
  {
   "cell_type": "code",
   "execution_count": 7,
   "id": "0dc30888",
   "metadata": {},
   "outputs": [],
   "source": [
    "%reload_ext tensorboard"
   ]
  },
  {
   "cell_type": "code",
   "execution_count": 8,
   "id": "e8736747",
   "metadata": {},
   "outputs": [],
   "source": [
    "!kill 342109"
   ]
  },
  {
   "cell_type": "code",
   "execution_count": null,
   "id": "baf610e0",
   "metadata": {},
   "outputs": [],
   "source": []
  }
 ],
 "metadata": {
  "kernelspec": {
   "display_name": "Python 3",
   "language": "python",
   "name": "python3"
  },
  "language_info": {
   "codemirror_mode": {
    "name": "ipython",
    "version": 3
   },
   "file_extension": ".py",
   "mimetype": "text/x-python",
   "name": "python",
   "nbconvert_exporter": "python",
   "pygments_lexer": "ipython3",
   "version": "3.7.11"
  }
 },
 "nbformat": 4,
 "nbformat_minor": 5
}
