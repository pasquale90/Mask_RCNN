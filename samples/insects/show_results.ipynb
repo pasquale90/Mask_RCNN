{
 "cells": [
  {
   "cell_type": "code",
   "execution_count": 2,
   "id": "7d731af7",
   "metadata": {},
   "outputs": [],
   "source": [
    "import datetime\n",
    "%reload_ext tensorboard\n",
    "log_directory=\"/data/CoRoSect/10.code/maskRCNN/Mask_RCNN_matterport/logs/insects20220214T1132\"\n"
   ]
  },
  {
   "cell_type": "code",
   "execution_count": 3,
   "id": "5a840eaa",
   "metadata": {},
   "outputs": [
    {
     "data": {
      "text/html": [
       "\n",
       "      <iframe id=\"tensorboard-frame-8a4f07a53d90e028\" width=\"100%\" height=\"800\" frameborder=\"0\">\n",
       "      </iframe>\n",
       "      <script>\n",
       "        (function() {\n",
       "          const frame = document.getElementById(\"tensorboard-frame-8a4f07a53d90e028\");\n",
       "          const url = new URL(\"/\", window.location);\n",
       "          url.port = 8009;\n",
       "          frame.src = url;\n",
       "        })();\n",
       "      </script>\n",
       "  "
      ],
      "text/plain": [
       "<IPython.core.display.HTML object>"
      ]
     },
     "metadata": {},
     "output_type": "display_data"
    }
   ],
   "source": [
    "%tensorboard --logdir \"/data/CoRoSect/10.code/maskRCNN/Mask_RCNN_matterport/logs/insects20220214T1132\" --port=8009 --host=127.0.0.1"
   ]
  },
  {
   "cell_type": "code",
   "execution_count": null,
   "id": "0dc30888",
   "metadata": {},
   "outputs": [],
   "source": []
  }
 ],
 "metadata": {
  "kernelspec": {
   "display_name": "Python 3",
   "language": "python",
   "name": "python3"
  },
  "language_info": {
   "codemirror_mode": {
    "name": "ipython",
    "version": 3
   },
   "file_extension": ".py",
   "mimetype": "text/x-python",
   "name": "python",
   "nbconvert_exporter": "python",
   "pygments_lexer": "ipython3",
   "version": "3.6.13"
  }
 },
 "nbformat": 4,
 "nbformat_minor": 5
}
